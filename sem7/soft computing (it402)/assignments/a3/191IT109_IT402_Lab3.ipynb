{
  "nbformat": 4,
  "nbformat_minor": 0,
  "metadata": {
    "colab": {
      "provenance": []
    },
    "kernelspec": {
      "name": "python3",
      "display_name": "Python 3"
    },
    "language_info": {
      "name": "python"
    }
  },
  "cells": [
    {
      "cell_type": "markdown",
      "source": [
        "## Multi-Layer Perceptron from scratch (Implementation)\n",
        "Name: Suyash Chintawar\n",
        "\n",
        "Roll no: 191IT109"
      ],
      "metadata": {
        "id": "a-CAN_y2VsQ9"
      }
    },
    {
      "cell_type": "code",
      "source": [
        "import pandas as pd\n",
        "import numpy as np\n",
        "import seaborn as sn\n",
        "import matplotlib.pyplot as plt\n",
        "from sklearn.model_selection import KFold\n",
        "from sklearn.metrics import accuracy_score,confusion_matrix"
      ],
      "metadata": {
        "id": "Qvpn-eztZf0K"
      },
      "execution_count": null,
      "outputs": []
    },
    {
      "cell_type": "markdown",
      "source": [
        "## Part 1: SPECT Dataset\n"
      ],
      "metadata": {
        "id": "dZX79bw04Bu2"
      }
    },
    {
      "cell_type": "code",
      "source": [
        "!wget 'https://archive.ics.uci.edu/ml/machine-learning-databases/spect/SPECT.train'"
      ],
      "metadata": {
        "id": "aOEVL-FMV9Sv",
        "colab": {
          "base_uri": "https://localhost:8080/"
        },
        "outputId": "9d4eb6b8-21fd-4873-f3bb-828a16397947"
      },
      "execution_count": null,
      "outputs": [
        {
          "output_type": "stream",
          "name": "stdout",
          "text": [
            "--2022-08-30 04:59:26--  https://archive.ics.uci.edu/ml/machine-learning-databases/spect/SPECT.train\n",
            "Resolving archive.ics.uci.edu (archive.ics.uci.edu)... 128.195.10.252\n",
            "Connecting to archive.ics.uci.edu (archive.ics.uci.edu)|128.195.10.252|:443... connected.\n",
            "HTTP request sent, awaiting response... 200 OK\n",
            "Length: 3758 (3.7K) [application/x-httpd-php]\n",
            "Saving to: ‘SPECT.train’\n",
            "\n",
            "SPECT.train         100%[===================>]   3.67K  --.-KB/s    in 0s      \n",
            "\n",
            "2022-08-30 04:59:27 (72.5 MB/s) - ‘SPECT.train’ saved [3758/3758]\n",
            "\n"
          ]
        }
      ]
    },
    {
      "cell_type": "code",
      "source": [
        "features = ['F'+str(i) for i in range(1,23)]\n",
        "df=pd.read_csv('SPECT.train',header=None, names=['class']+features)\n",
        "df = df.reindex(columns=features +['class'])\n",
        "df = df.sample(frac=1,random_state=16).reset_index(drop=True)\n",
        "df"
      ],
      "metadata": {
        "colab": {
          "base_uri": "https://localhost:8080/",
          "height": 424
        },
        "id": "GQjf99R4ZLoS",
        "outputId": "739bf75b-b255-424d-d43e-7a4cdc4c24ac"
      },
      "execution_count": null,
      "outputs": [
        {
          "output_type": "execute_result",
          "data": {
            "text/plain": [
              "    F1  F2  F3  F4  F5  F6  F7  F8  F9  F10  ...  F14  F15  F16  F17  F18  \\\n",
              "0    0   0   1   0   0   0   0   1   0    0  ...    0    0    0    0    0   \n",
              "1    0   0   0   1   0   0   1   0   1    0  ...    1    0    0    0    0   \n",
              "2    0   0   0   0   0   0   0   0   0    0  ...    0    0    0    0    0   \n",
              "3    0   0   0   0   0   0   0   0   1    0  ...    1    0    0    0    0   \n",
              "4    0   0   0   1   0   0   0   0   1    0  ...    1    0    1    0    0   \n",
              "..  ..  ..  ..  ..  ..  ..  ..  ..  ..  ...  ...  ...  ...  ...  ...  ...   \n",
              "75   0   0   0   0   0   0   0   0   0    0  ...    0    0    0    0    0   \n",
              "76   1   0   0   0   1   0   0   0   0    0  ...    0    0    0    0    0   \n",
              "77   0   0   0   0   0   0   0   0   0    0  ...    0    0    0    0    0   \n",
              "78   0   0   0   0   0   0   0   0   0    0  ...    0    0    0    0    0   \n",
              "79   0   0   0   0   0   0   0   0   0    0  ...    0    0    0    0    0   \n",
              "\n",
              "    F19  F20  F21  F22  class  \n",
              "0     0    0    0    1      1  \n",
              "1     0    0    1    0      1  \n",
              "2     0    0    0    0      0  \n",
              "3     0    0    0    0      0  \n",
              "4     0    1    0    1      1  \n",
              "..  ...  ...  ...  ...    ...  \n",
              "75    0    0    0    0      1  \n",
              "76    0    0    0    0      0  \n",
              "77    0    0    0    0      0  \n",
              "78    0    0    0    0      0  \n",
              "79    0    0    0    0      0  \n",
              "\n",
              "[80 rows x 23 columns]"
            ],
            "text/html": [
              "\n",
              "  <div id=\"df-7ec145e8-c5fb-4c4d-8274-801ecc9ed931\">\n",
              "    <div class=\"colab-df-container\">\n",
              "      <div>\n",
              "<style scoped>\n",
              "    .dataframe tbody tr th:only-of-type {\n",
              "        vertical-align: middle;\n",
              "    }\n",
              "\n",
              "    .dataframe tbody tr th {\n",
              "        vertical-align: top;\n",
              "    }\n",
              "\n",
              "    .dataframe thead th {\n",
              "        text-align: right;\n",
              "    }\n",
              "</style>\n",
              "<table border=\"1\" class=\"dataframe\">\n",
              "  <thead>\n",
              "    <tr style=\"text-align: right;\">\n",
              "      <th></th>\n",
              "      <th>F1</th>\n",
              "      <th>F2</th>\n",
              "      <th>F3</th>\n",
              "      <th>F4</th>\n",
              "      <th>F5</th>\n",
              "      <th>F6</th>\n",
              "      <th>F7</th>\n",
              "      <th>F8</th>\n",
              "      <th>F9</th>\n",
              "      <th>F10</th>\n",
              "      <th>...</th>\n",
              "      <th>F14</th>\n",
              "      <th>F15</th>\n",
              "      <th>F16</th>\n",
              "      <th>F17</th>\n",
              "      <th>F18</th>\n",
              "      <th>F19</th>\n",
              "      <th>F20</th>\n",
              "      <th>F21</th>\n",
              "      <th>F22</th>\n",
              "      <th>class</th>\n",
              "    </tr>\n",
              "  </thead>\n",
              "  <tbody>\n",
              "    <tr>\n",
              "      <th>0</th>\n",
              "      <td>0</td>\n",
              "      <td>0</td>\n",
              "      <td>1</td>\n",
              "      <td>0</td>\n",
              "      <td>0</td>\n",
              "      <td>0</td>\n",
              "      <td>0</td>\n",
              "      <td>1</td>\n",
              "      <td>0</td>\n",
              "      <td>0</td>\n",
              "      <td>...</td>\n",
              "      <td>0</td>\n",
              "      <td>0</td>\n",
              "      <td>0</td>\n",
              "      <td>0</td>\n",
              "      <td>0</td>\n",
              "      <td>0</td>\n",
              "      <td>0</td>\n",
              "      <td>0</td>\n",
              "      <td>1</td>\n",
              "      <td>1</td>\n",
              "    </tr>\n",
              "    <tr>\n",
              "      <th>1</th>\n",
              "      <td>0</td>\n",
              "      <td>0</td>\n",
              "      <td>0</td>\n",
              "      <td>1</td>\n",
              "      <td>0</td>\n",
              "      <td>0</td>\n",
              "      <td>1</td>\n",
              "      <td>0</td>\n",
              "      <td>1</td>\n",
              "      <td>0</td>\n",
              "      <td>...</td>\n",
              "      <td>1</td>\n",
              "      <td>0</td>\n",
              "      <td>0</td>\n",
              "      <td>0</td>\n",
              "      <td>0</td>\n",
              "      <td>0</td>\n",
              "      <td>0</td>\n",
              "      <td>1</td>\n",
              "      <td>0</td>\n",
              "      <td>1</td>\n",
              "    </tr>\n",
              "    <tr>\n",
              "      <th>2</th>\n",
              "      <td>0</td>\n",
              "      <td>0</td>\n",
              "      <td>0</td>\n",
              "      <td>0</td>\n",
              "      <td>0</td>\n",
              "      <td>0</td>\n",
              "      <td>0</td>\n",
              "      <td>0</td>\n",
              "      <td>0</td>\n",
              "      <td>0</td>\n",
              "      <td>...</td>\n",
              "      <td>0</td>\n",
              "      <td>0</td>\n",
              "      <td>0</td>\n",
              "      <td>0</td>\n",
              "      <td>0</td>\n",
              "      <td>0</td>\n",
              "      <td>0</td>\n",
              "      <td>0</td>\n",
              "      <td>0</td>\n",
              "      <td>0</td>\n",
              "    </tr>\n",
              "    <tr>\n",
              "      <th>3</th>\n",
              "      <td>0</td>\n",
              "      <td>0</td>\n",
              "      <td>0</td>\n",
              "      <td>0</td>\n",
              "      <td>0</td>\n",
              "      <td>0</td>\n",
              "      <td>0</td>\n",
              "      <td>0</td>\n",
              "      <td>1</td>\n",
              "      <td>0</td>\n",
              "      <td>...</td>\n",
              "      <td>1</td>\n",
              "      <td>0</td>\n",
              "      <td>0</td>\n",
              "      <td>0</td>\n",
              "      <td>0</td>\n",
              "      <td>0</td>\n",
              "      <td>0</td>\n",
              "      <td>0</td>\n",
              "      <td>0</td>\n",
              "      <td>0</td>\n",
              "    </tr>\n",
              "    <tr>\n",
              "      <th>4</th>\n",
              "      <td>0</td>\n",
              "      <td>0</td>\n",
              "      <td>0</td>\n",
              "      <td>1</td>\n",
              "      <td>0</td>\n",
              "      <td>0</td>\n",
              "      <td>0</td>\n",
              "      <td>0</td>\n",
              "      <td>1</td>\n",
              "      <td>0</td>\n",
              "      <td>...</td>\n",
              "      <td>1</td>\n",
              "      <td>0</td>\n",
              "      <td>1</td>\n",
              "      <td>0</td>\n",
              "      <td>0</td>\n",
              "      <td>0</td>\n",
              "      <td>1</td>\n",
              "      <td>0</td>\n",
              "      <td>1</td>\n",
              "      <td>1</td>\n",
              "    </tr>\n",
              "    <tr>\n",
              "      <th>...</th>\n",
              "      <td>...</td>\n",
              "      <td>...</td>\n",
              "      <td>...</td>\n",
              "      <td>...</td>\n",
              "      <td>...</td>\n",
              "      <td>...</td>\n",
              "      <td>...</td>\n",
              "      <td>...</td>\n",
              "      <td>...</td>\n",
              "      <td>...</td>\n",
              "      <td>...</td>\n",
              "      <td>...</td>\n",
              "      <td>...</td>\n",
              "      <td>...</td>\n",
              "      <td>...</td>\n",
              "      <td>...</td>\n",
              "      <td>...</td>\n",
              "      <td>...</td>\n",
              "      <td>...</td>\n",
              "      <td>...</td>\n",
              "      <td>...</td>\n",
              "    </tr>\n",
              "    <tr>\n",
              "      <th>75</th>\n",
              "      <td>0</td>\n",
              "      <td>0</td>\n",
              "      <td>0</td>\n",
              "      <td>0</td>\n",
              "      <td>0</td>\n",
              "      <td>0</td>\n",
              "      <td>0</td>\n",
              "      <td>0</td>\n",
              "      <td>0</td>\n",
              "      <td>0</td>\n",
              "      <td>...</td>\n",
              "      <td>0</td>\n",
              "      <td>0</td>\n",
              "      <td>0</td>\n",
              "      <td>0</td>\n",
              "      <td>0</td>\n",
              "      <td>0</td>\n",
              "      <td>0</td>\n",
              "      <td>0</td>\n",
              "      <td>0</td>\n",
              "      <td>1</td>\n",
              "    </tr>\n",
              "    <tr>\n",
              "      <th>76</th>\n",
              "      <td>1</td>\n",
              "      <td>0</td>\n",
              "      <td>0</td>\n",
              "      <td>0</td>\n",
              "      <td>1</td>\n",
              "      <td>0</td>\n",
              "      <td>0</td>\n",
              "      <td>0</td>\n",
              "      <td>0</td>\n",
              "      <td>0</td>\n",
              "      <td>...</td>\n",
              "      <td>0</td>\n",
              "      <td>0</td>\n",
              "      <td>0</td>\n",
              "      <td>0</td>\n",
              "      <td>0</td>\n",
              "      <td>0</td>\n",
              "      <td>0</td>\n",
              "      <td>0</td>\n",
              "      <td>0</td>\n",
              "      <td>0</td>\n",
              "    </tr>\n",
              "    <tr>\n",
              "      <th>77</th>\n",
              "      <td>0</td>\n",
              "      <td>0</td>\n",
              "      <td>0</td>\n",
              "      <td>0</td>\n",
              "      <td>0</td>\n",
              "      <td>0</td>\n",
              "      <td>0</td>\n",
              "      <td>0</td>\n",
              "      <td>0</td>\n",
              "      <td>0</td>\n",
              "      <td>...</td>\n",
              "      <td>0</td>\n",
              "      <td>0</td>\n",
              "      <td>0</td>\n",
              "      <td>0</td>\n",
              "      <td>0</td>\n",
              "      <td>0</td>\n",
              "      <td>0</td>\n",
              "      <td>0</td>\n",
              "      <td>0</td>\n",
              "      <td>0</td>\n",
              "    </tr>\n",
              "    <tr>\n",
              "      <th>78</th>\n",
              "      <td>0</td>\n",
              "      <td>0</td>\n",
              "      <td>0</td>\n",
              "      <td>0</td>\n",
              "      <td>0</td>\n",
              "      <td>0</td>\n",
              "      <td>0</td>\n",
              "      <td>0</td>\n",
              "      <td>0</td>\n",
              "      <td>0</td>\n",
              "      <td>...</td>\n",
              "      <td>0</td>\n",
              "      <td>0</td>\n",
              "      <td>0</td>\n",
              "      <td>0</td>\n",
              "      <td>0</td>\n",
              "      <td>0</td>\n",
              "      <td>0</td>\n",
              "      <td>0</td>\n",
              "      <td>0</td>\n",
              "      <td>0</td>\n",
              "    </tr>\n",
              "    <tr>\n",
              "      <th>79</th>\n",
              "      <td>0</td>\n",
              "      <td>0</td>\n",
              "      <td>0</td>\n",
              "      <td>0</td>\n",
              "      <td>0</td>\n",
              "      <td>0</td>\n",
              "      <td>0</td>\n",
              "      <td>0</td>\n",
              "      <td>0</td>\n",
              "      <td>0</td>\n",
              "      <td>...</td>\n",
              "      <td>0</td>\n",
              "      <td>0</td>\n",
              "      <td>0</td>\n",
              "      <td>0</td>\n",
              "      <td>0</td>\n",
              "      <td>0</td>\n",
              "      <td>0</td>\n",
              "      <td>0</td>\n",
              "      <td>0</td>\n",
              "      <td>0</td>\n",
              "    </tr>\n",
              "  </tbody>\n",
              "</table>\n",
              "<p>80 rows × 23 columns</p>\n",
              "</div>\n",
              "      <button class=\"colab-df-convert\" onclick=\"convertToInteractive('df-7ec145e8-c5fb-4c4d-8274-801ecc9ed931')\"\n",
              "              title=\"Convert this dataframe to an interactive table.\"\n",
              "              style=\"display:none;\">\n",
              "        \n",
              "  <svg xmlns=\"http://www.w3.org/2000/svg\" height=\"24px\"viewBox=\"0 0 24 24\"\n",
              "       width=\"24px\">\n",
              "    <path d=\"M0 0h24v24H0V0z\" fill=\"none\"/>\n",
              "    <path d=\"M18.56 5.44l.94 2.06.94-2.06 2.06-.94-2.06-.94-.94-2.06-.94 2.06-2.06.94zm-11 1L8.5 8.5l.94-2.06 2.06-.94-2.06-.94L8.5 2.5l-.94 2.06-2.06.94zm10 10l.94 2.06.94-2.06 2.06-.94-2.06-.94-.94-2.06-.94 2.06-2.06.94z\"/><path d=\"M17.41 7.96l-1.37-1.37c-.4-.4-.92-.59-1.43-.59-.52 0-1.04.2-1.43.59L10.3 9.45l-7.72 7.72c-.78.78-.78 2.05 0 2.83L4 21.41c.39.39.9.59 1.41.59.51 0 1.02-.2 1.41-.59l7.78-7.78 2.81-2.81c.8-.78.8-2.07 0-2.86zM5.41 20L4 18.59l7.72-7.72 1.47 1.35L5.41 20z\"/>\n",
              "  </svg>\n",
              "      </button>\n",
              "      \n",
              "  <style>\n",
              "    .colab-df-container {\n",
              "      display:flex;\n",
              "      flex-wrap:wrap;\n",
              "      gap: 12px;\n",
              "    }\n",
              "\n",
              "    .colab-df-convert {\n",
              "      background-color: #E8F0FE;\n",
              "      border: none;\n",
              "      border-radius: 50%;\n",
              "      cursor: pointer;\n",
              "      display: none;\n",
              "      fill: #1967D2;\n",
              "      height: 32px;\n",
              "      padding: 0 0 0 0;\n",
              "      width: 32px;\n",
              "    }\n",
              "\n",
              "    .colab-df-convert:hover {\n",
              "      background-color: #E2EBFA;\n",
              "      box-shadow: 0px 1px 2px rgba(60, 64, 67, 0.3), 0px 1px 3px 1px rgba(60, 64, 67, 0.15);\n",
              "      fill: #174EA6;\n",
              "    }\n",
              "\n",
              "    [theme=dark] .colab-df-convert {\n",
              "      background-color: #3B4455;\n",
              "      fill: #D2E3FC;\n",
              "    }\n",
              "\n",
              "    [theme=dark] .colab-df-convert:hover {\n",
              "      background-color: #434B5C;\n",
              "      box-shadow: 0px 1px 3px 1px rgba(0, 0, 0, 0.15);\n",
              "      filter: drop-shadow(0px 1px 2px rgba(0, 0, 0, 0.3));\n",
              "      fill: #FFFFFF;\n",
              "    }\n",
              "  </style>\n",
              "\n",
              "      <script>\n",
              "        const buttonEl =\n",
              "          document.querySelector('#df-7ec145e8-c5fb-4c4d-8274-801ecc9ed931 button.colab-df-convert');\n",
              "        buttonEl.style.display =\n",
              "          google.colab.kernel.accessAllowed ? 'block' : 'none';\n",
              "\n",
              "        async function convertToInteractive(key) {\n",
              "          const element = document.querySelector('#df-7ec145e8-c5fb-4c4d-8274-801ecc9ed931');\n",
              "          const dataTable =\n",
              "            await google.colab.kernel.invokeFunction('convertToInteractive',\n",
              "                                                     [key], {});\n",
              "          if (!dataTable) return;\n",
              "\n",
              "          const docLinkHtml = 'Like what you see? Visit the ' +\n",
              "            '<a target=\"_blank\" href=https://colab.research.google.com/notebooks/data_table.ipynb>data table notebook</a>'\n",
              "            + ' to learn more about interactive tables.';\n",
              "          element.innerHTML = '';\n",
              "          dataTable['output_type'] = 'display_data';\n",
              "          await google.colab.output.renderOutput(dataTable, element);\n",
              "          const docLink = document.createElement('div');\n",
              "          docLink.innerHTML = docLinkHtml;\n",
              "          element.appendChild(docLink);\n",
              "        }\n",
              "      </script>\n",
              "    </div>\n",
              "  </div>\n",
              "  "
            ]
          },
          "metadata": {},
          "execution_count": 18
        }
      ]
    },
    {
      "cell_type": "code",
      "source": [
        "def initialize(num_features,dim1,dim2,dim3,output):\n",
        "  w1 = np.random.rand(num_features,dim1)\n",
        "  b1 = np.random.rand(1,dim1)\n",
        "  w2 = np.random.rand(dim1,dim2)\n",
        "  b2 = np.random.rand(1,dim2)\n",
        "  w3 = np.random.rand(dim2,dim3)\n",
        "  b3 = np.random.rand(1,dim3)\n",
        "  w4 = np.random.rand(dim3,output)\n",
        "  b4 = np.random.rand(1,output)\n",
        "  return w1,b1,w2,b2,w3,b3,w4,b4"
      ],
      "metadata": {
        "id": "cuPQ-vZhZlia"
      },
      "execution_count": null,
      "outputs": []
    },
    {
      "cell_type": "code",
      "source": [
        "def predict(data,w1,b1,w2,b2,w3,b3,w4,b4):\n",
        "  hop1 = np.matmul(data, w1) + b1\n",
        "  hop2 = np.matmul(hop1, w2) + b2\n",
        "  hop3 = np.matmul(hop2, w3) + b3\n",
        "  hop4 = np.matmul(hop3, w4) + b4\n",
        "  output = 1 / (1 + np.exp(- hop4))\n",
        "\n",
        "  return hop1, hop2, hop3, hop4, output"
      ],
      "metadata": {
        "id": "3wMUu9mMKASo"
      },
      "execution_count": null,
      "outputs": []
    },
    {
      "cell_type": "code",
      "source": [
        "def train_perceptron(data,w1,b1,w2,b2,w3,b3,w4,b4,lr):\n",
        "  x = data[:,:-1]\n",
        "  actual = data[:,-1:]\n",
        "\n",
        "  iterations = 200\n",
        "  for i in range(iterations):\n",
        "    hop1, hop2, hop3, hop4, output = predict(x,w1,b1,w2,b2,w3,b3,w4,b4)\n",
        "\n",
        "    w1 = w1 - lr * np.clip(x.T @ (output-actual) @ w4.T @ w3.T @ w2.T,-10,10)\n",
        "    b1 = b1 - lr * np.clip(np.sum((output-actual) @ w4.T @ w3.T @ w2.T, axis = 0),-10,10)\n",
        "    w2 = w2 - lr * np.clip(hop1.T @ (output-actual) @ w4.T @ w3.T,-10,10)\n",
        "    b2 = b2 - lr * np.clip(np.sum((output-actual) @ w4.T @ w3.T, axis = 0),-10,10)\n",
        "    w3 = w3 - lr * np.clip(hop2.T @ (output-actual) @ w4.T,-10,10)\n",
        "    b3 = b3 - lr * np.clip(np.sum((output-actual) @ w4.T, axis = 0),-10,10)\n",
        "    w4 = w4 - lr * np.clip(hop3.T @ (output-actual),-10,10)\n",
        "    b4 = b4 - lr * np.clip(np.sum((output-actual), axis = 0),-10,10)\n",
        "    \n",
        "  return w1,b1,w2,b2,w3,b3,w4,b4"
      ],
      "metadata": {
        "id": "S0sCtWtZFMlE"
      },
      "execution_count": null,
      "outputs": []
    },
    {
      "cell_type": "code",
      "source": [
        "def evaluate_perceptron(data,w1,b1,w2,b2,w3,b3,w4,b4):\n",
        "  x = data[:,:-1]\n",
        "  y = data[:,-1:]\n",
        "\n",
        "  _, _, _, _, y_pred3 = predict(x,w1,b1,w2,b2,w3,b3,w4,b4)\n",
        "  for i in range(len(y_pred3)):\n",
        "    if y_pred3[i] < 0.5:\n",
        "      y_pred3[i] = 0\n",
        "    else:\n",
        "      y_pred3[i] = 1\n",
        "  accuracy = accuracy_score(y,y_pred3)\n",
        "  cm = confusion_matrix(y,y_pred3)\n",
        "  sn.heatmap(cm,annot=True)\n",
        "  plt.show()\n",
        "  return accuracy"
      ],
      "metadata": {
        "id": "uh3MG6rUFtlV"
      },
      "execution_count": null,
      "outputs": []
    },
    {
      "cell_type": "code",
      "source": [
        "k=5\n",
        "lr = 0.01\n",
        "df_numpy = df.values\n",
        "kf = KFold(n_splits=k)\n",
        "accuracies = []\n",
        "fold = 0\n",
        "\n",
        "for train_idx, test_idx in kf.split(df):\n",
        "  fold+=1\n",
        "  train = df_numpy[train_idx]\n",
        "  test = df_numpy[test_idx]\n",
        "  \n",
        "  w1,b1,w2,b2,w3,b3,w4,b4 = initialize(22,16,8,4,1)\n",
        "  w1,b1,w2,b2,w3,b3,w4,b4 = train_perceptron(train,w1,b1,w2,b2,w3,b3,w4,b4,lr)\n",
        "  accuracy = evaluate_perceptron(test,w1,b1,w2,b2,w3,b3,w4,b4)\n",
        "  print('Fold',fold,'accuracy:',accuracy)\n",
        "  accuracies.append(accuracy)\n",
        "\n",
        "print('Mean accuracy:',np.mean(accuracies))"
      ],
      "metadata": {
        "colab": {
          "base_uri": "https://localhost:8080/",
          "height": 1000
        },
        "id": "0A5m-4oiDX5j",
        "outputId": "97baed9e-3bcc-4a61-8136-940bc0005b8f"
      },
      "execution_count": null,
      "outputs": [
        {
          "output_type": "display_data",
          "data": {
            "text/plain": [
              "<Figure size 432x288 with 2 Axes>"
            ],
            "image/png": "[encoded data removed]"
          },
          "metadata": {
            "needs_background": "light"
          }
        },
        {
          "output_type": "stream",
          "name": "stdout",
          "text": [
            "Fold 1 accuracy: 0.6875\n"
          ]
        },
        {
          "output_type": "display_data",
          "data": {
            "text/plain": [
              "<Figure size 432x288 with 2 Axes>"
            ],
            "image/png": "[encoded data removed]"
          },
          "metadata": {
            "needs_background": "light"
          }
        },
        {
          "output_type": "stream",
          "name": "stdout",
          "text": [
            "Fold 2 accuracy: 0.6875\n"
          ]
        },
        {
          "output_type": "display_data",
          "data": {
            "text/plain": [
              "<Figure size 432x288 with 2 Axes>"
            ],
            "image/png": "[encoded data removed]"
          },
          "metadata": {
            "needs_background": "light"
          }
        },
        {
          "output_type": "stream",
          "name": "stdout",
          "text": [
            "Fold 3 accuracy: 0.75\n"
          ]
        },
        {
          "output_type": "display_data",
          "data": {
            "text/plain": [
              "<Figure size 432x288 with 2 Axes>"
            ],
            "image/png": "[encoded data removed]"
          },
          "metadata": {
            "needs_background": "light"
          }
        },
        {
          "output_type": "stream",
          "name": "stdout",
          "text": [
            "Fold 4 accuracy: 0.75\n"
          ]
        },
        {
          "output_type": "display_data",
          "data": {
            "text/plain": [
              "<Figure size 432x288 with 2 Axes>"
            ],
            "image/png": "[encoded data removed]"
          },
          "metadata": {
            "needs_background": "light"
          }
        },
        {
          "output_type": "stream",
          "name": "stdout",
          "text": [
            "Fold 5 accuracy: 0.75\n",
            "Mean accuracy: 0.725\n"
          ]
        }
      ]
    },
    {
      "cell_type": "code",
      "source": [
        "k=5\n",
        "lr = 0.001\n",
        "df_numpy = df.values\n",
        "kf = KFold(n_splits=k)\n",
        "accuracies = []\n",
        "fold = 0\n",
        "\n",
        "for train_idx, test_idx in kf.split(df):\n",
        "  fold+=1\n",
        "  train = df_numpy[train_idx]\n",
        "  test = df_numpy[test_idx]\n",
        "  \n",
        "  w1,b1,w2,b2,w3,b3,w4,b4 = initialize(22,16,8,4,1)\n",
        "  w1,b1,w2,b2,w3,b3,w4,b4 = train_perceptron(train,w1,b1,w2,b2,w3,b3,w4,b4,lr)\n",
        "  accuracy = evaluate_perceptron(test,w1,b1,w2,b2,w3,b3,w4,b4)\n",
        "  print('Fold',fold,'accuracy:',accuracy)\n",
        "  accuracies.append(accuracy)\n",
        "\n",
        "print('Mean accuracy:',np.mean(accuracies))"
      ],
      "metadata": {
        "colab": {
          "base_uri": "https://localhost:8080/",
          "height": 1000
        },
        "id": "Z7OFDR_pECXh",
        "outputId": "f7058ada-4c69-49ae-c515-8bc9c59ba094"
      },
      "execution_count": null,
      "outputs": [
        {
          "output_type": "display_data",
          "data": {
            "text/plain": [
              "<Figure size 432x288 with 2 Axes>"
            ],
            "image/png": "[encoded data removed]"
          },
          "metadata": {
            "needs_background": "light"
          }
        },
        {
          "output_type": "stream",
          "name": "stdout",
          "text": [
            "Fold 1 accuracy: 0.75\n"
          ]
        },
        {
          "output_type": "display_data",
          "data": {
            "text/plain": [
              "<Figure size 432x288 with 2 Axes>"
            ],
            "image/png": "[encoded data removed]"
          },
          "metadata": {
            "needs_background": "light"
          }
        },
        {
          "output_type": "stream",
          "name": "stdout",
          "text": [
            "Fold 2 accuracy: 0.5\n"
          ]
        },
        {
          "output_type": "display_data",
          "data": {
            "text/plain": [
              "<Figure size 432x288 with 2 Axes>"
            ],
            "image/png": "[encoded data removed]"
          },
          "metadata": {
            "needs_background": "light"
          }
        },
        {
          "output_type": "stream",
          "name": "stdout",
          "text": [
            "Fold 3 accuracy: 0.6875\n"
          ]
        },
        {
          "output_type": "display_data",
          "data": {
            "text/plain": [
              "<Figure size 432x288 with 2 Axes>"
            ],
            "image/png": "[encoded data removed]"
          },
          "metadata": {
            "needs_background": "light"
          }
        },
        {
          "output_type": "stream",
          "name": "stdout",
          "text": [
            "Fold 4 accuracy: 0.625\n"
          ]
        },
        {
          "output_type": "display_data",
          "data": {
            "text/plain": [
              "<Figure size 432x288 with 2 Axes>"
            ],
            "image/png": "[encoded data removed]"
          },
          "metadata": {
            "needs_background": "light"
          }
        },
        {
          "output_type": "stream",
          "name": "stdout",
          "text": [
            "Fold 5 accuracy: 0.875\n",
            "Mean accuracy: 0.6875\n"
          ]
        }
      ]
    },
    {
      "cell_type": "code",
      "source": [
        "k=5\n",
        "lr = 0.0001\n",
        "df_numpy = df.values\n",
        "kf = KFold(n_splits=k)\n",
        "accuracies = []\n",
        "fold = 0\n",
        "\n",
        "for train_idx, test_idx in kf.split(df):\n",
        "  fold+=1\n",
        "  train = df_numpy[train_idx]\n",
        "  test = df_numpy[test_idx]\n",
        "  \n",
        "  w1,b1,w2,b2,w3,b3,w4,b4 = initialize(22,16,8,4,1)\n",
        "  w1,b1,w2,b2,w3,b3,w4,b4 = train_perceptron(train,w1,b1,w2,b2,w3,b3,w4,b4,lr)\n",
        "  accuracy = evaluate_perceptron(test,w1,b1,w2,b2,w3,b3,w4,b4)\n",
        "  print('Fold',fold,'accuracy:',accuracy)\n",
        "  accuracies.append(accuracy)\n",
        "\n",
        "print('Mean accuracy:',np.mean(accuracies))"
      ],
      "metadata": {
        "colab": {
          "base_uri": "https://localhost:8080/",
          "height": 1000
        },
        "id": "CH-9w4bEWKfa",
        "outputId": "3ec5792f-4f3b-4855-cd7e-1e5d6d3fbe65"
      },
      "execution_count": null,
      "outputs": [
        {
          "output_type": "display_data",
          "data": {
            "text/plain": [
              "<Figure size 432x288 with 2 Axes>"
            ],
            "image/png": "[encoded data removed]"
          },
          "metadata": {
            "needs_background": "light"
          }
        },
        {
          "output_type": "stream",
          "name": "stdout",
          "text": [
            "Fold 1 accuracy: 0.5\n"
          ]
        },
        {
          "output_type": "display_data",
          "data": {
            "text/plain": [
              "<Figure size 432x288 with 2 Axes>"
            ],
            "image/png": "[encoded data removed]"
          },
          "metadata": {
            "needs_background": "light"
          }
        },
        {
          "output_type": "stream",
          "name": "stdout",
          "text": [
            "Fold 2 accuracy: 0.5625\n"
          ]
        },
        {
          "output_type": "display_data",
          "data": {
            "text/plain": [
              "<Figure size 432x288 with 2 Axes>"
            ],
            "image/png": "[encoded data removed]"
          },
          "metadata": {
            "needs_background": "light"
          }
        },
        {
          "output_type": "stream",
          "name": "stdout",
          "text": [
            "Fold 3 accuracy: 0.5625\n"
          ]
        },
        {
          "output_type": "display_data",
          "data": {
            "text/plain": [
              "<Figure size 432x288 with 2 Axes>"
            ],
            "image/png": "[encoded data removed]"
          },
          "metadata": {
            "needs_background": "light"
          }
        },
        {
          "output_type": "stream",
          "name": "stdout",
          "text": [
            "Fold 4 accuracy: 0.375\n"
          ]
        },
        {
          "output_type": "display_data",
          "data": {
            "text/plain": [
              "<Figure size 432x288 with 2 Axes>"
            ],
            "image/png": "[encoded data removed]"
          },
          "metadata": {
            "needs_background": "light"
          }
        },
        {
          "output_type": "stream",
          "name": "stdout",
          "text": [
            "Fold 5 accuracy: 0.5\n",
            "Mean accuracy: 0.5\n"
          ]
        }
      ]
    },
    {
      "cell_type": "markdown",
      "source": [
        "## Part 2: IRIS dataset"
      ],
      "metadata": {
        "id": "rKL6VqeXWPy_"
      }
    },
    {
      "cell_type": "code",
      "source": [
        "from sklearn.datasets import load_iris "
      ],
      "metadata": {
        "id": "-lXwbq3ruKIG"
      },
      "execution_count": null,
      "outputs": []
    },
    {
      "cell_type": "code",
      "source": [
        "#Load Iris dataset\n",
        "iris = load_iris()\n",
        "df = pd.DataFrame(data= np.c_[iris['data'], iris['target']], columns= ['sepal_length','sepal_width','petal_length','petal_width','class'])\n",
        "df = df.sample(frac = 1,random_state=12).reset_index(drop=True)\n",
        "df"
      ],
      "metadata": {
        "colab": {
          "base_uri": "https://localhost:8080/",
          "height": 424
        },
        "id": "Mr_h9lXHuPLn",
        "outputId": "213ec013-050b-41f6-fdc3-3ae3df8ae0de"
      },
      "execution_count": null,
      "outputs": [
        {
          "output_type": "execute_result",
          "data": {
            "text/plain": [
              "     sepal_length  sepal_width  petal_length  petal_width  class\n",
              "0             5.0          3.5           1.3          0.3    0.0\n",
              "1             6.3          2.5           5.0          1.9    2.0\n",
              "2             4.4          3.0           1.3          0.2    0.0\n",
              "3             5.7          2.8           4.1          1.3    1.0\n",
              "4             6.8          3.2           5.9          2.3    2.0\n",
              "..            ...          ...           ...          ...    ...\n",
              "145           6.8          2.8           4.8          1.4    1.0\n",
              "146           4.6          3.1           1.5          0.2    0.0\n",
              "147           7.4          2.8           6.1          1.9    2.0\n",
              "148           6.1          2.6           5.6          1.4    2.0\n",
              "149           6.6          3.0           4.4          1.4    1.0\n",
              "\n",
              "[150 rows x 5 columns]"
            ],
            "text/html": [
              "\n",
              "  <div id=\"df-1208c547-326a-4396-af44-9c1cbab04bca\">\n",
              "    <div class=\"colab-df-container\">\n",
              "      <div>\n",
              "<style scoped>\n",
              "    .dataframe tbody tr th:only-of-type {\n",
              "        vertical-align: middle;\n",
              "    }\n",
              "\n",
              "    .dataframe tbody tr th {\n",
              "        vertical-align: top;\n",
              "    }\n",
              "\n",
              "    .dataframe thead th {\n",
              "        text-align: right;\n",
              "    }\n",
              "</style>\n",
              "<table border=\"1\" class=\"dataframe\">\n",
              "  <thead>\n",
              "    <tr style=\"text-align: right;\">\n",
              "      <th></th>\n",
              "      <th>sepal_length</th>\n",
              "      <th>sepal_width</th>\n",
              "      <th>petal_length</th>\n",
              "      <th>petal_width</th>\n",
              "      <th>class</th>\n",
              "    </tr>\n",
              "  </thead>\n",
              "  <tbody>\n",
              "    <tr>\n",
              "      <th>0</th>\n",
              "      <td>5.0</td>\n",
              "      <td>3.5</td>\n",
              "      <td>1.3</td>\n",
              "      <td>0.3</td>\n",
              "      <td>0.0</td>\n",
              "    </tr>\n",
              "    <tr>\n",
              "      <th>1</th>\n",
              "      <td>6.3</td>\n",
              "      <td>2.5</td>\n",
              "      <td>5.0</td>\n",
              "      <td>1.9</td>\n",
              "      <td>2.0</td>\n",
              "    </tr>\n",
              "    <tr>\n",
              "      <th>2</th>\n",
              "      <td>4.4</td>\n",
              "      <td>3.0</td>\n",
              "      <td>1.3</td>\n",
              "      <td>0.2</td>\n",
              "      <td>0.0</td>\n",
              "    </tr>\n",
              "    <tr>\n",
              "      <th>3</th>\n",
              "      <td>5.7</td>\n",
              "      <td>2.8</td>\n",
              "      <td>4.1</td>\n",
              "      <td>1.3</td>\n",
              "      <td>1.0</td>\n",
              "    </tr>\n",
              "    <tr>\n",
              "      <th>4</th>\n",
              "      <td>6.8</td>\n",
              "      <td>3.2</td>\n",
              "      <td>5.9</td>\n",
              "      <td>2.3</td>\n",
              "      <td>2.0</td>\n",
              "    </tr>\n",
              "    <tr>\n",
              "      <th>...</th>\n",
              "      <td>...</td>\n",
              "      <td>...</td>\n",
              "      <td>...</td>\n",
              "      <td>...</td>\n",
              "      <td>...</td>\n",
              "    </tr>\n",
              "    <tr>\n",
              "      <th>145</th>\n",
              "      <td>6.8</td>\n",
              "      <td>2.8</td>\n",
              "      <td>4.8</td>\n",
              "      <td>1.4</td>\n",
              "      <td>1.0</td>\n",
              "    </tr>\n",
              "    <tr>\n",
              "      <th>146</th>\n",
              "      <td>4.6</td>\n",
              "      <td>3.1</td>\n",
              "      <td>1.5</td>\n",
              "      <td>0.2</td>\n",
              "      <td>0.0</td>\n",
              "    </tr>\n",
              "    <tr>\n",
              "      <th>147</th>\n",
              "      <td>7.4</td>\n",
              "      <td>2.8</td>\n",
              "      <td>6.1</td>\n",
              "      <td>1.9</td>\n",
              "      <td>2.0</td>\n",
              "    </tr>\n",
              "    <tr>\n",
              "      <th>148</th>\n",
              "      <td>6.1</td>\n",
              "      <td>2.6</td>\n",
              "      <td>5.6</td>\n",
              "      <td>1.4</td>\n",
              "      <td>2.0</td>\n",
              "    </tr>\n",
              "    <tr>\n",
              "      <th>149</th>\n",
              "      <td>6.6</td>\n",
              "      <td>3.0</td>\n",
              "      <td>4.4</td>\n",
              "      <td>1.4</td>\n",
              "      <td>1.0</td>\n",
              "    </tr>\n",
              "  </tbody>\n",
              "</table>\n",
              "<p>150 rows × 5 columns</p>\n",
              "</div>\n",
              "      <button class=\"colab-df-convert\" onclick=\"convertToInteractive('df-1208c547-326a-4396-af44-9c1cbab04bca')\"\n",
              "              title=\"Convert this dataframe to an interactive table.\"\n",
              "              style=\"display:none;\">\n",
              "        \n",
              "  <svg xmlns=\"http://www.w3.org/2000/svg\" height=\"24px\"viewBox=\"0 0 24 24\"\n",
              "       width=\"24px\">\n",
              "    <path d=\"M0 0h24v24H0V0z\" fill=\"none\"/>\n",
              "    <path d=\"M18.56 5.44l.94 2.06.94-2.06 2.06-.94-2.06-.94-.94-2.06-.94 2.06-2.06.94zm-11 1L8.5 8.5l.94-2.06 2.06-.94-2.06-.94L8.5 2.5l-.94 2.06-2.06.94zm10 10l.94 2.06.94-2.06 2.06-.94-2.06-.94-.94-2.06-.94 2.06-2.06.94z\"/><path d=\"M17.41 7.96l-1.37-1.37c-.4-.4-.92-.59-1.43-.59-.52 0-1.04.2-1.43.59L10.3 9.45l-7.72 7.72c-.78.78-.78 2.05 0 2.83L4 21.41c.39.39.9.59 1.41.59.51 0 1.02-.2 1.41-.59l7.78-7.78 2.81-2.81c.8-.78.8-2.07 0-2.86zM5.41 20L4 18.59l7.72-7.72 1.47 1.35L5.41 20z\"/>\n",
              "  </svg>\n",
              "      </button>\n",
              "      \n",
              "  <style>\n",
              "    .colab-df-container {\n",
              "      display:flex;\n",
              "      flex-wrap:wrap;\n",
              "      gap: 12px;\n",
              "    }\n",
              "\n",
              "    .colab-df-convert {\n",
              "      background-color: #E8F0FE;\n",
              "      border: none;\n",
              "      border-radius: 50%;\n",
              "      cursor: pointer;\n",
              "      display: none;\n",
              "      fill: #1967D2;\n",
              "      height: 32px;\n",
              "      padding: 0 0 0 0;\n",
              "      width: 32px;\n",
              "    }\n",
              "\n",
              "    .colab-df-convert:hover {\n",
              "      background-color: #E2EBFA;\n",
              "      box-shadow: 0px 1px 2px rgba(60, 64, 67, 0.3), 0px 1px 3px 1px rgba(60, 64, 67, 0.15);\n",
              "      fill: #174EA6;\n",
              "    }\n",
              "\n",
              "    [theme=dark] .colab-df-convert {\n",
              "      background-color: #3B4455;\n",
              "      fill: #D2E3FC;\n",
              "    }\n",
              "\n",
              "    [theme=dark] .colab-df-convert:hover {\n",
              "      background-color: #434B5C;\n",
              "      box-shadow: 0px 1px 3px 1px rgba(0, 0, 0, 0.15);\n",
              "      filter: drop-shadow(0px 1px 2px rgba(0, 0, 0, 0.3));\n",
              "      fill: #FFFFFF;\n",
              "    }\n",
              "  </style>\n",
              "\n",
              "      <script>\n",
              "        const buttonEl =\n",
              "          document.querySelector('#df-1208c547-326a-4396-af44-9c1cbab04bca button.colab-df-convert');\n",
              "        buttonEl.style.display =\n",
              "          google.colab.kernel.accessAllowed ? 'block' : 'none';\n",
              "\n",
              "        async function convertToInteractive(key) {\n",
              "          const element = document.querySelector('#df-1208c547-326a-4396-af44-9c1cbab04bca');\n",
              "          const dataTable =\n",
              "            await google.colab.kernel.invokeFunction('convertToInteractive',\n",
              "                                                     [key], {});\n",
              "          if (!dataTable) return;\n",
              "\n",
              "          const docLinkHtml = 'Like what you see? Visit the ' +\n",
              "            '<a target=\"_blank\" href=https://colab.research.google.com/notebooks/data_table.ipynb>data table notebook</a>'\n",
              "            + ' to learn more about interactive tables.';\n",
              "          element.innerHTML = '';\n",
              "          dataTable['output_type'] = 'display_data';\n",
              "          await google.colab.output.renderOutput(dataTable, element);\n",
              "          const docLink = document.createElement('div');\n",
              "          docLink.innerHTML = docLinkHtml;\n",
              "          element.appendChild(docLink);\n",
              "        }\n",
              "      </script>\n",
              "    </div>\n",
              "  </div>\n",
              "  "
            ]
          },
          "metadata": {},
          "execution_count": 8
        }
      ]
    },
    {
      "cell_type": "code",
      "source": [
        "def evaluate_perceptron_2(data,w1,b1,w2,b2,w3,b3,w4,b4):\n",
        "  x = data[:,:-1]\n",
        "  y = data[:,-1:]\n",
        "  pred = []\n",
        "\n",
        "  h1, h2, h3, h4, y_pred3 = predict(x,w1,b1,w2,b2,w3,b3,w4,b4)\n",
        "\n",
        "  for i in range(len(y_pred3)):\n",
        "    pred.append(y_pred3[i].argmax(axis=0))\n",
        "  cm = confusion_matrix(y,pred)\n",
        "  accuracy = np.sum(np.diag(cm))/np.sum(cm)\n",
        "  sn.heatmap(cm,annot=True)\n",
        "  plt.show()\n",
        "  return accuracy"
      ],
      "metadata": {
        "id": "cqhOKIZMv1lc"
      },
      "execution_count": null,
      "outputs": []
    },
    {
      "cell_type": "code",
      "source": [
        "def train_perceptron_2(data,w1,b1,w2,b2,w3,b3,w4,b4,lr,iterations = 2000):\n",
        "  x = data[:,:-1]\n",
        "  y_new = data[:,-1:]\n",
        "  \n",
        "  actual = []\n",
        "  for i in range(len(y_new)):\n",
        "    if y_new[i]==0:\n",
        "      actual.append([1,0,0])\n",
        "    elif y_new[i]==1:\n",
        "      actual.append([0,1,0)\n",
        "    elif y_new[i]==2]:\n",
        "      actual.append([0,0,1])\n",
        "  \n",
        "  for i in range(iterations):\n",
        "    hop1, hop2, hop3, hop4, output = predict(x,w1,b1,w2,b2,w3,b3,w4,b4)\n",
        "    w1 = w1 - lr * np.clip(x.T @ (output-actual) @ w4.T @ w3.T @ w2.T,-1,1)\n",
        "    b1 = b1 - lr * np.clip(np.sum((output-actual) @ w4.T @ w3.T @ w2.T, axis = 0),-1,1)\n",
        "    w2 = w2 - lr * np.clip(hop1.T @ (output-actual) @ w4.T @ w3.T,-1,1)\n",
        "    b2 = b2 - lr * np.clip(np.sum((output-actual) @ w4.T @ w3.T, axis = 0),-1,1)\n",
        "    w3 = w3 - lr * np.clip(hop2.T @ (output-actual) @ w4.T,-1,1)\n",
        "    b3 = b3 - lr * np.clip(np.sum((output-actual) @ w4.T, axis = 0),-1,1)\n",
        "    w4 = w4 - lr * np.clip(hop3.T @ (output-actual),-1,1)\n",
        "    b4 = b4 - lr * np.clip(np.sum((output-actual), axis = 0),-1,1)\n",
        "    \n",
        "  return w1,b1,w2,b2,w3,b3,w4,b4"
      ],
      "metadata": {
        "id": "lw_nQJx51-AJ"
      },
      "execution_count": null,
      "outputs": []
    },
    {
      "cell_type": "code",
      "source": [
        "k=5\n",
        "lr = 0.01\n",
        "df_numpy = df.values\n",
        "kf = KFold(n_splits=k)\n",
        "accuracies = []\n",
        "fold = 0\n",
        "\n",
        "for train_idx, test_idx in kf.split(df):\n",
        "  fold+=1\n",
        "  train = df_numpy[train_idx]\n",
        "  test = df_numpy[test_idx]\n",
        "  \n",
        "  w1,b1,w2,b2,w3,b3,w4,b4 = initialize(4,3,3,3,3)\n",
        "  w1,b1,w2,b2,w3,b3,w4,b4 = train_perceptron_2(train,w1,b1,w2,b2,w3,b3,w4,b4,lr)\n",
        "  \n",
        "  accuracy = evaluate_perceptron_2(test,w1,b1,w2,b2,w3,b3,w4,b4)\n",
        "  print('Fold',fold,'accuracy:',accuracy)\n",
        "  accuracies.append(accuracy)\n",
        "\n",
        "print('Mean accuracy:',np.mean(accuracies))"
      ],
      "metadata": {
        "colab": {
          "base_uri": "https://localhost:8080/",
          "height": 1000
        },
        "id": "vrVUmx8st5DF",
        "outputId": "23aa120f-7cc8-4084-fe99-596ca6b577e9"
      },
      "execution_count": null,
      "outputs": [
        {
          "output_type": "display_data",
          "data": {
            "text/plain": [
              "<Figure size 432x288 with 2 Axes>"
            ],
            "image/png": "[encoded data removed]"
          },
          "metadata": {
            "needs_background": "light"
          }
        },
        {
          "output_type": "stream",
          "name": "stdout",
          "text": [
            "Fold 1 accuracy: 0.8\n"
          ]
        },
        {
          "output_type": "display_data",
          "data": {
            "text/plain": [
              "<Figure size 432x288 with 2 Axes>"
            ],
            "image/png": "[encoded data removed]"
          },
          "metadata": {
            "needs_background": "light"
          }
        },
        {
          "output_type": "stream",
          "name": "stdout",
          "text": [
            "Fold 2 accuracy: 1.0\n"
          ]
        },
        {
          "output_type": "display_data",
          "data": {
            "text/plain": [
              "<Figure size 432x288 with 2 Axes>"
            ],
            "image/png": "[encoded data removed]"
          },
          "metadata": {
            "needs_background": "light"
          }
        },
        {
          "output_type": "stream",
          "name": "stdout",
          "text": [
            "Fold 3 accuracy: 0.9333333333333333\n"
          ]
        },
        {
          "output_type": "display_data",
          "data": {
            "text/plain": [
              "<Figure size 432x288 with 2 Axes>"
            ],
            "image/png": "[encoded data removed]"
          },
          "metadata": {
            "needs_background": "light"
          }
        },
        {
          "output_type": "stream",
          "name": "stdout",
          "text": [
            "Fold 4 accuracy: 0.8333333333333334\n"
          ]
        },
        {
          "output_type": "display_data",
          "data": {
            "text/plain": [
              "<Figure size 432x288 with 2 Axes>"
            ],
            "image/png": "[encoded data removed]"
          },
          "metadata": {
            "needs_background": "light"
          }
        },
        {
          "output_type": "stream",
          "name": "stdout",
          "text": [
            "Fold 5 accuracy: 1.0\n",
            "Mean accuracy: 0.9133333333333333\n"
          ]
        }
      ]
    },
    {
      "cell_type": "code",
      "source": [
        "k=5\n",
        "lr = 0.001\n",
        "df_numpy = df.values\n",
        "kf = KFold(n_splits=k)\n",
        "accuracies = []\n",
        "fold = 0\n",
        "\n",
        "for train_idx, test_idx in kf.split(df):\n",
        "  fold+=1\n",
        "  train = df_numpy[train_idx]\n",
        "  test = df_numpy[test_idx]\n",
        "  \n",
        "  w1,b1,w2,b2,w3,b3,w4,b4 = initialize(4,3,3,3,3)\n",
        "  w1,b1,w2,b2,w3,b3,w4,b4 = train_perceptron_2(train,w1,b1,w2,b2,w3,b3,w4,b4,lr)\n",
        "  \n",
        "  accuracy = evaluate_perceptron_2(test,w1,b1,w2,b2,w3,b3,w4,b4)\n",
        "  print('Fold',fold,'accuracy:',accuracy)\n",
        "  accuracies.append(accuracy)\n",
        "\n",
        "print('Mean accuracy:',np.mean(accuracies))"
      ],
      "metadata": {
        "colab": {
          "base_uri": "https://localhost:8080/",
          "height": 1000
        },
        "id": "TjxO0UhXz0sh",
        "outputId": "c0cdbff3-f2cd-40eb-841c-ff92a1545381"
      },
      "execution_count": null,
      "outputs": [
        {
          "output_type": "display_data",
          "data": {
            "text/plain": [
              "<Figure size 432x288 with 2 Axes>"
            ],
            "image/png": "[encoded data removed]"
          },
          "metadata": {
            "needs_background": "light"
          }
        },
        {
          "output_type": "stream",
          "name": "stdout",
          "text": [
            "Fold 1 accuracy: 0.9666666666666667\n"
          ]
        },
        {
          "output_type": "display_data",
          "data": {
            "text/plain": [
              "<Figure size 432x288 with 2 Axes>"
            ],
            "image/png": "[encoded data removed]"
          },
          "metadata": {
            "needs_background": "light"
          }
        },
        {
          "output_type": "stream",
          "name": "stdout",
          "text": [
            "Fold 2 accuracy: 1.0\n"
          ]
        },
        {
          "output_type": "display_data",
          "data": {
            "text/plain": [
              "<Figure size 432x288 with 2 Axes>"
            ],
            "image/png": "[encoded data removed]"
          },
          "metadata": {
            "needs_background": "light"
          }
        },
        {
          "output_type": "stream",
          "name": "stdout",
          "text": [
            "Fold 3 accuracy: 0.9666666666666667\n"
          ]
        },
        {
          "output_type": "display_data",
          "data": {
            "text/plain": [
              "<Figure size 432x288 with 2 Axes>"
            ],
            "image/png": "[encoded data removed]"
          },
          "metadata": {
            "needs_background": "light"
          }
        },
        {
          "output_type": "stream",
          "name": "stdout",
          "text": [
            "Fold 4 accuracy: 0.9333333333333333\n"
          ]
        },
        {
          "output_type": "display_data",
          "data": {
            "text/plain": [
              "<Figure size 432x288 with 2 Axes>"
            ],
            "image/png": "[encoded data removed]"
          },
          "metadata": {
            "needs_background": "light"
          }
        },
        {
          "output_type": "stream",
          "name": "stdout",
          "text": [
            "Fold 5 accuracy: 0.9666666666666667\n",
            "Mean accuracy: 0.9666666666666668\n"
          ]
        }
      ]
    },
    {
      "cell_type": "code",
      "source": [
        "k=5\n",
        "lr = 0.0001\n",
        "df_numpy = df.values\n",
        "kf = KFold(n_splits=k)\n",
        "accuracies = []\n",
        "fold = 0\n",
        "\n",
        "for train_idx, test_idx in kf.split(df):\n",
        "  fold+=1\n",
        "  train = df_numpy[train_idx]\n",
        "  test = df_numpy[test_idx]\n",
        "  \n",
        "  w1,b1,w2,b2,w3,b3,w4,b4 = initialize(4,4,4,3,3)\n",
        "  w1,b1,w2,b2,w3,b3,w4,b4 = train_perceptron_2(train,w1,b1,w2,b2,w3,b3,w4,b4,lr,7000)\n",
        "  \n",
        "  accuracy = evaluate_perceptron_2(test,w1,b1,w2,b2,w3,b3,w4,b4)\n",
        "  print('Fold',fold,'accuracy:',accuracy)\n",
        "  accuracies.append(accuracy)\n",
        "\n",
        "print('Mean accuracy:',np.mean(accuracies))"
      ],
      "metadata": {
        "colab": {
          "base_uri": "https://localhost:8080/",
          "height": 1000
        },
        "id": "LbQQTX2S8783",
        "outputId": "bc755b86-267e-43e8-bca3-08861978b5c6"
      },
      "execution_count": null,
      "outputs": [
        {
          "output_type": "display_data",
          "data": {
            "text/plain": [
              "<Figure size 432x288 with 2 Axes>"
            ],
            "image/png": "[encoded data removed]"
          },
          "metadata": {
            "needs_background": "light"
          }
        },
        {
          "output_type": "stream",
          "name": "stdout",
          "text": [
            "Fold 1 accuracy: 0.7\n"
          ]
        },
        {
          "output_type": "display_data",
          "data": {
            "text/plain": [
              "<Figure size 432x288 with 2 Axes>"
            ],
            "image/png": "[encoded data removed]"
          },
          "metadata": {
            "needs_background": "light"
          }
        },
        {
          "output_type": "stream",
          "name": "stdout",
          "text": [
            "Fold 2 accuracy: 0.9666666666666667\n"
          ]
        },
        {
          "output_type": "display_data",
          "data": {
            "text/plain": [
              "<Figure size 432x288 with 2 Axes>"
            ],
            "image/png": "[encoded data removed]"
          },
          "metadata": {
            "needs_background": "light"
          }
        },
        {
          "output_type": "stream",
          "name": "stdout",
          "text": [
            "Fold 3 accuracy: 0.9333333333333333\n"
          ]
        },
        {
          "output_type": "display_data",
          "data": {
            "text/plain": [
              "<Figure size 432x288 with 2 Axes>"
            ],
            "image/png": "[encoded data removed]"
          },
          "metadata": {
            "needs_background": "light"
          }
        },
        {
          "output_type": "stream",
          "name": "stdout",
          "text": [
            "Fold 4 accuracy: 0.9333333333333333\n"
          ]
        },
        {
          "output_type": "display_data",
          "data": {
            "text/plain": [
              "<Figure size 432x288 with 2 Axes>"
            ],
            "image/png": "[encoded data removed]"
          },
          "metadata": {
            "needs_background": "light"
          }
        },
        {
          "output_type": "stream",
          "name": "stdout",
          "text": [
            "Fold 5 accuracy: 0.9666666666666667\n",
            "Mean accuracy: 0.9\n"
          ]
        }
      ]
    },
    {
      "cell_type": "markdown",
      "source": [
        "## Analysis of learning rate:\n",
        "\n",
        "As the learning rate decreases, the speed of convergence decreases due to which the accuracy decreases. Also the number of datapoints is less the accuracy decreases as learning rate decreases."
      ],
      "metadata": {
        "id": "j1nK6KYD89FB"
      }
    },
    {
      "cell_type": "code",
      "source": [],
      "metadata": {
        "id": "AER0h7_R01xf"
      },
      "execution_count": null,
      "outputs": []
    }
  ]
}