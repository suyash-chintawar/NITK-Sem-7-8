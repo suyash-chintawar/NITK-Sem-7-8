{
  "nbformat": 4,
  "nbformat_minor": 0,
  "metadata": {
    "colab": {
      "provenance": []
    },
    "kernelspec": {
      "name": "python3",
      "display_name": "Python 3"
    },
    "language_info": {
      "name": "python"
    }
  },
  "cells": [
    {
      "cell_type": "code",
      "source": [
        "import pandas as pd\n",
        "from collections import defaultdict\n",
        "from itertools import chain, combinations\n",
        "\n",
        "def def_value():\n",
        "    return 0"
      ],
      "metadata": {
        "id": "l_eHPUoKqL-h"
      },
      "execution_count": 79,
      "outputs": []
    },
    {
      "cell_type": "markdown",
      "source": [
        "### Q2: Test Case 2\n",
        "\n",
        "![Screenshot from 2023-02-08 11-42-30.png](data:image/png;base64,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)\n",
        "\n"
      ],
      "metadata": {
        "id": "GZ5dT6LXlHX6"
      }
    },
    {
      "cell_type": "code",
      "execution_count": 80,
      "metadata": {
        "id": "iQYvha98oQaz"
      },
      "outputs": [],
      "source": [
        "data = {\n",
        "    'T100': {'M', 'O', 'N', 'K', 'E', 'Y'},\n",
        "    'T200': {'D', 'O', 'N', 'K', 'E', 'Y'},\n",
        "    'T300': {'M', 'A', 'K', 'E'},\n",
        "    'T400': {'M', 'U', 'C', 'K', 'Y'},\n",
        "    'T500': {'C', 'O', 'O', 'K', 'I', 'E'},\n",
        "}\n",
        "\n",
        "n = 5\n",
        "support_threshold = 0.6 \n",
        "confidence_threshold = 0.8\n",
        "support_val = 3\n",
        "confidence_val = 4"
      ]
    },
    {
      "cell_type": "code",
      "source": [
        "def generate_candidate_set1():\n",
        "  count = defaultdict(def_value)\n",
        "  for row in data.keys():\n",
        "    for item in data[row]:\n",
        "      count[tuple([item])] += 1\n",
        "\n",
        "  for item in list(count.keys()):\n",
        "    if count[item]/n < support_threshold:\n",
        "      del count[item]\n",
        "\n",
        "  dict(count)\n",
        "  return count"
      ],
      "metadata": {
        "id": "rRZtp-Tko1C_"
      },
      "execution_count": 81,
      "outputs": []
    },
    {
      "cell_type": "code",
      "source": [
        "def generate_candidate_setk(lk_prev, k):\n",
        "  new_pairs = defaultdict(def_value)\n",
        "  prev_itemsets = list(lk_prev.keys())\n",
        "  for i in range(len(prev_itemsets)):\n",
        "    for j in range(i+1,len(prev_itemsets)):\n",
        "      new_tuple = prev_itemsets[i] + prev_itemsets[j]\n",
        "      new_tuple = tuple(sorted(list(set(new_tuple))))\n",
        "      if len(new_tuple) != k:\n",
        "        continue\n",
        "      new_pairs[new_tuple] = 0\n",
        "  \n",
        "  ck = new_pairs\n",
        "  for pairs in ck.keys():\n",
        "    for row in data.keys():\n",
        "      flag = 0\n",
        "      for item in pairs:\n",
        "        if item not in data[row]:\n",
        "          flag = 1\n",
        "          break\n",
        "      if flag == 0:\n",
        "        ck[pairs] += 1\n",
        "  return ck"
      ],
      "metadata": {
        "id": "00Hb_P-3qCyx"
      },
      "execution_count": 82,
      "outputs": []
    },
    {
      "cell_type": "code",
      "source": [
        "def generate_lk(ck):\n",
        "  for pairs in list(ck.keys()):\n",
        "    if ck[pairs]/n < support_threshold:\n",
        "      del ck[pairs]\n",
        "  return ck"
      ],
      "metadata": {
        "id": "HkQncAUFu2zl"
      },
      "execution_count": 83,
      "outputs": []
    },
    {
      "cell_type": "code",
      "source": [
        "def print_lks(lks):\n",
        "  print('Frequent itemsets are:')\n",
        "  for i in range(len(lks)):\n",
        "    print('L'+str(i+1),':')\n",
        "    for key in lks[i].keys():\n",
        "      print(key,':',lks[i][key])\n",
        "    print('')"
      ],
      "metadata": {
        "id": "wRGCfkuWp-bN"
      },
      "execution_count": 84,
      "outputs": []
    },
    {
      "cell_type": "code",
      "source": [
        "def powerset(iterable):\n",
        "    s = list(iterable)\n",
        "    return chain.from_iterable(combinations(s, r) for r in range(len(s)+1))\n",
        "\n",
        "def get_rules_itemset(itemset, freq, confidence):\n",
        "  rules = []\n",
        "  for subset in list(powerset(itemset)):\n",
        "    subset = set(subset)\n",
        "    if len(subset)>0 and len(subset) != len(list(itemset)):\n",
        "      count = 0\n",
        "      for row in data.keys():\n",
        "        flag = True\n",
        "        for item in list(subset):\n",
        "          if item not in data[row]:\n",
        "            flag = False\n",
        "            break\n",
        "        if flag:\n",
        "          count += 1\n",
        "      cal_conf = freq / count\n",
        "      if cal_conf >= confidence:\n",
        "        rules.append([set(subset),set(itemset)-set(subset),cal_conf])\n",
        "  return rules"
      ],
      "metadata": {
        "id": "ubAR7U_de1vx"
      },
      "execution_count": 85,
      "outputs": []
    },
    {
      "cell_type": "code",
      "source": [
        "i = 1\n",
        "lk = defaultdict()\n",
        "lks = []\n",
        "while(1):\n",
        "  if i==1: \n",
        "    ck = generate_candidate_set1()\n",
        "  else:\n",
        "    if len(lk)>1:\n",
        "      ck = generate_candidate_setk(lk, i)\n",
        "    else:\n",
        "      break\n",
        "  lk = generate_lk(ck)\n",
        "  lks.append(dict(lk))\n",
        "  i += 1"
      ],
      "metadata": {
        "id": "rMShe2tbz6L7"
      },
      "execution_count": 86,
      "outputs": []
    },
    {
      "cell_type": "code",
      "source": [
        "print_lks(lks)"
      ],
      "metadata": {
        "colab": {
          "base_uri": "https://localhost:8080/"
        },
        "id": "Bj-s0Rtw05f-",
        "outputId": "4dcd6b17-fac1-4450-bc0c-731894f1b32d"
      },
      "execution_count": 87,
      "outputs": [
        {
          "output_type": "stream",
          "name": "stdout",
          "text": [
            "Frequent itemsets are:\n",
            "L1 :\n",
            "('K',) : 5\n",
            "('O',) : 3\n",
            "('Y',) : 3\n",
            "('M',) : 3\n",
            "('E',) : 4\n",
            "\n",
            "L2 :\n",
            "('K', 'O') : 3\n",
            "('K', 'Y') : 3\n",
            "('K', 'M') : 3\n",
            "('E', 'K') : 4\n",
            "('E', 'O') : 3\n",
            "\n",
            "L3 :\n",
            "('E', 'K', 'O') : 3\n",
            "\n"
          ]
        }
      ]
    },
    {
      "cell_type": "code",
      "source": [
        "association_rules = []\n",
        "for lk in lks:\n",
        "  for itemset in lk.keys():\n",
        "    if len(itemset)>1:\n",
        "      association_rules.extend(get_rules_itemset(itemset, lk[itemset], confidence_threshold))\n",
        "\n",
        "print('Association rules which satisfy threshold confidence')\n",
        "for rule in association_rules:\n",
        "  print(rule[0],'=> ',rule[1], rule[2])\n",
        "\n",
        "print('\\nTotal no. of associations:',len(association_rules))"
      ],
      "metadata": {
        "colab": {
          "base_uri": "https://localhost:8080/"
        },
        "id": "Fbm8MeDAdH1l",
        "outputId": "eb524a7f-26ed-4839-d961-3dca549de022"
      },
      "execution_count": 88,
      "outputs": [
        {
          "output_type": "stream",
          "name": "stdout",
          "text": [
            "Association rules which satisfy threshold confidence\n",
            "{'O'} =>  {'K'} 1.0\n",
            "{'Y'} =>  {'K'} 1.0\n",
            "{'M'} =>  {'K'} 1.0\n",
            "{'E'} =>  {'K'} 1.0\n",
            "{'K'} =>  {'E'} 0.8\n",
            "{'O'} =>  {'E'} 1.0\n",
            "{'O'} =>  {'K', 'E'} 1.0\n",
            "{'O', 'E'} =>  {'K'} 1.0\n",
            "{'K', 'O'} =>  {'E'} 1.0\n",
            "\n",
            "Total no. of associations: 9\n"
          ]
        }
      ]
    },
    {
      "cell_type": "code",
      "source": [
        "#Varying the support and confidence thresholds\n",
        "n = 5\n",
        "support_threshold = 0.8 \n",
        "confidence_threshold = 0.6\n",
        "support_val = 4\n",
        "confidence_val = 3\n",
        "\n",
        "i = 1\n",
        "lk = defaultdict()\n",
        "lks = []\n",
        "while(1):\n",
        "  if i==1: \n",
        "    ck = generate_candidate_set1()\n",
        "  else:\n",
        "    if len(lk)>1:\n",
        "      ck = generate_candidate_setk(lk, i)\n",
        "    else:\n",
        "      break\n",
        "  lk = generate_lk(ck)\n",
        "  lks.append(dict(lk))\n",
        "  i += 1\n",
        "\n",
        "print_lks(lks)\n",
        "\n",
        "association_rules = []\n",
        "for lk in lks:\n",
        "  for itemset in lk.keys():\n",
        "    if len(itemset)>1:\n",
        "      association_rules.extend(get_rules_itemset(itemset, lk[itemset], confidence_threshold))\n",
        "\n",
        "print('Association rules which satisfy threshold confidence')\n",
        "for rule in association_rules:\n",
        "  print(rule[0],'=> ',rule[1], rule[2])\n",
        "\n",
        "print('\\nTotal no. of associations:',len(association_rules))"
      ],
      "metadata": {
        "colab": {
          "base_uri": "https://localhost:8080/"
        },
        "id": "DqBMbGBDr-zJ",
        "outputId": "64dedefb-e19b-42e3-9b67-78c1d9833a4f"
      },
      "execution_count": 89,
      "outputs": [
        {
          "output_type": "stream",
          "name": "stdout",
          "text": [
            "Frequent itemsets are:\n",
            "L1 :\n",
            "('K',) : 5\n",
            "('E',) : 4\n",
            "\n",
            "L2 :\n",
            "('E', 'K') : 4\n",
            "\n",
            "Association rules which satisfy threshold confidence\n",
            "{'E'} =>  {'K'} 1.0\n",
            "{'K'} =>  {'E'} 0.8\n",
            "\n",
            "Total no. of associations: 2\n"
          ]
        }
      ]
    },
    {
      "cell_type": "markdown",
      "source": [
        "### Q1. Test case 1\n",
        "\n",
        "![Screenshot from 2023-02-08 11-41-29.png](data:image/png;base64,iVBORw0KGgoAAAANSUhEUgAAAQ8AAAD/CAYAAADvylOTAAAABHNCSVQICAgIfAhkiAAAABl0RVh0U29mdHdhcmUAZ25vbWUtc2NyZWVuc2hvdO8Dvz4AACAASURBVHic7J13cFzXebef7Q27ABZbUBeNBMDeIVIsoiRTpETbskTJE7nFjuyx44ntOBM7k+SPKInz2Z54YifjOLZiy7JkiyIlihJFsUsUSbGTYEMhOhZ9F9je273fH5y9IURSIiGq2LrPDIbA8u695557znvf8573/I5CFEURGRkZmVtE+WEXQEZG5o8T2XjIyMhMC9l4yMjITAvZeMjIyEwL9YddgD81RFEkl8uRSCRQqVQYDAYUCsWHXax3RBRFEokEmUwGrVaLXq//yJf5RoiiSCqVIpPJoNPpUKvVpNNp6W+tVvuu58jlciSTSURRpKCg4AMo9R8nkvEIhUKEw2FEUUSlUiGKIqIoolQqEUWRdDqNyWTCZrOhUqk+zDLfMvF4nMnJSRQKBZWVle9rx0in0wwMDHDixAkqKipYu3YtavX/2WhBEIhGo0QiEXK5HCqVCpVKhUKhQKlUYjAYMJlMH1jnFQSBiYkJ2tvbGRoaora2lkWLFn3kO00mkyESiWAymdDpdNLnoVCI06dP4/P5mD9/Pk6nk4sXLzIyMsLy5ctxuVwEAgFSqRQKhUJq67lcDqPRiMFgwOPxcPHiRRQKBQ8++OCHeJfvTDabZXx8nHQ6TXV19QfeL6VW/eabb3L06FF0Oh2FhYV4vV78fj8NDQ2oVCq6urqoqanhm9/8JoWFhR9oIW+VbDYrdUaFQkFvby/PPfccOp2Of/iHf7ipt890EEWRWCzG2bNn+fnPf86nPvUpVq1aNcV4pFIpLl68yN69exkZGaGmpgaXywWAUqnEbDbT0NCAy+XCZDKhVL77yDKdTqNWq2/q2LczPDzMq6++ik6nIxAIkM1mqays/Egbj1wuh9vtZseOHaxbt4558+YBVwxhX18fv//971EoFJSUlBCJRHjxxRcZGRlhzpw5BAIBXn31VV5//XUqKipwuVyIosjY2BgNDQ0sXLiQ7u5uXnrpJSoqKt6T8ci/HN4vgsEgTz/9NMFgkH/5l3/BaDS+b9e6HlKrFkWRBQsWsGLFCoxGI8899xwdHR389V//NQ0NDRw/fpyWlpYPtHDTIZFI0Nvbi8Vioby8HLVaTWVlJZs2bUKhULxvhgNAoVBQXFzMihUreOGFF657jMFgYMGCBZw5c4bW1lY2btzIpk2byGazDA8Ps23bNp577jkeeugh7rvvPkpKSm7ohQiCQCQS4dKlSyxYsICCgoJb8lgEQWD79u2EQiEeeeQRZs+ePa37/qAJBAIcOnSIrVu3UlNTIxkPpVJJQ0MDZWVlmEwmXC4XBQUFzJw5E1EUqayspLi4mDvvvJOf/exn3HfffTz88MNYLBYOHz5MMBikqKgIl8uFy+WivLx8WuXLZDJMTEwQi8Wor6+fllG/GSwWC5/97GfRaDTo9fr35RrvhGQ85s2bh06no7S0lMnJySkHaTQali1bhlarJRwOA1esai6Xw2QyYTAYSKVSRCIRMpkMZrMZs9ksvYljsRgFBQWk02ni8TharRaLxSK5m9lslnA4TCwWQ6PRYLPZUKvV5HI5wuEwiUQCg8GA2Wye8hbPZrMEAgHi8ThGoxGj0ci5c+d49tlnWbJkCQ888ABWqxW9Xk9NTc01b4H88EEQBAoKCjCZTNJ14/E4yWQSvV4vlcNgMGC1WqXz5HI5otEo8XgcjUZDYWGhVL536sRqtRqDwYBer5fOpVarqamp4Tvf+Q6RSIT//d//xW63s2rVKvR6PYlEgkgkgiiKmM1mDAYDwWCQ119/nV/96lf84Ac/YObMmRQWFqJSqaTjAcxm8zVvJVEU8Xg8nDx5ksrKSiKRCJFIBKPRSC6XIxKJkEgkUKvVFBUVSY0zlUoRDofRaDSIokg2m8VoNGIyma45fyKRIBAISOfQarWIoijVbd5bikQiqFQqSkpK0Gg079hgU6kUw8PD9Pb2UlxcTHd3N6IoSvXt9/sJhUKSofB4PAQCAex2O4WFheRyOYLBIGq1mtraWnQ6HdlslhkzZpDL5bBYLFy6dEnq+Fe3Nb/fTyqVwmq1YjAYUCqVZLNZqa60Wi0mk4mhoSGeeeYZbDYbX/rSlygsLJTiMCqVinQ6jUqlwmw2TxnGqtVq7HY7arUaURSl52cwGBBFkWg0iiiK0jMGKC4unvLSyL9QotEoer0ei8WCWq0mkUgQCoVQKpW3LfQg9cSrK+rtKBQK9Ho9ZrOZZ599FpfLRTqdJpFI0NzcTGVlJW63m97eXoaGhqipqeHTn/40SqWSo0ePcvToUZYvX046naajowODwcBdd93F/PnzyWazDA4Ocvr0aWKxGIlEgoceegij0cjo6Cj9/f10dXVRXFzM6tWrpbdIJBJhcHCQrq4uenp6KCoqYunSpRw7doz29nYAnE4njY2NRCIRTpw4gdVq5fOf/zyCIDA6OsqlS5cIBAJEIhHMZjPz5s2jvr6eeDzOiRMnaG1tpampCbVazenTp9FqtXzhC1+goqKCeDw+pXxqtZrVq1czd+7cd610hUIh/VzzQNRq1qxZw7Zt27hw4QKNjY0A0r36fD5mz57NqlWrGB4e5s0338TtdnPkyBHS6TRz5syR6qazs5NQKMSCBQtYs2bNlNiAIAhSLCCXy3Hy5Em0Wi2lpaWMjY3R399POBwmk8lQWVnJihUrKCwspK+vj9deew2bzQZALBZjyZIlLF++XDp3KpViZGSEoaEhWltb8fv9rF+/nrlz55LNZqW6tdlslJaWcv78eZLJJA899JDkRVyP/PBiYGCApqYmMpkM3d3d5HI5yWgPDw+TzWax2+0UFBRw6dIlqQ60Wi3RaJS+vj5UKhV6vZ5gMMjo6Ch6vZ6qqioAJiYmAHC5XFLn7uvro6enh5aWFtasWcOKFStQKpWMjo7S2dlJX18fJSUlLFq0iLfeeouDBw/yyCOPcPnyZVwuFxcvXiQQCFBcXIzX66WsrIzFixcTCATo6emhq6tL8gAbGhqYnJzkwIEDFBUV0dTURCKR4Pjx46jVajZu3IhOp+Py5cscOnSIT3/60zQ2NpLJZBgZGaG3t5fW1lbKyspYtWoVBoOBjo4O2tvbEQSBxx57jKKiondtp+/GTftTuVyOyclJXnnlFXbu3ElfX59kzQ4fPsypU6ew2WxkMhl++ctf0t3dTSqVoqurixdffJFDhw4hiiImk4kjR46we/duwuEwXq+XPXv2cOnSJR588EG0Wi2Tk5OcPn2aXbt2odfr0el07N27l/3795NOp/H7/Rw+fJj9+/czZ84cNmzYgCiKaDQaqqqqsNlsNDY2Mn/+fAoLC3G73bzxxhu0tLQgCAI+n4//+I//oLW1lbvvvpu1a9dy/Phxfv3rX3PhwgWi0Sitra289NJLnDhxAlEUqa6uZvPmzRw8eJBoNEp7ezt79uwhmUxSWFjI0aNHeemll0ilUu/5oTgcDrRaLX6/n9HRUfbu3UtnZycOh4OxsTGeeeYZRkZGsFqt1NfXU1BQwLJly2hsbCQWi7Fz504GBgZwOp309fWxefNmhoeHr7lObW0tRUVFVFdXs2TJEkpLS6X70Ov1PPjggzgcDn7605+ydetWEokEPp+P1157jZ07d9LV1UU8HufqFQ6CIOD1ennhhRcYGBhgyZIlHDlyhJdffhmPx0MqlaK9vZ1du3Zx+PBh4vE4VquVkydP8oc//IFcLnfDeolEInR1deHxeJg7dy42m43h4WHJIwMYGBhAp9PhcDhQqVR4PB7S6bT0csxkMnR1daHX6+nq6uLw4cNs3ryZnp4eycMMBAIYjUZKS0ul9r17925mzpyJ2+3m9OnTeL1ejh49yrFjx9DpdNTX10vGyev1olKpaGpqoqSkhP7+frZs2cIrr7zC0aNH8Xg8JBIJzp49y86dOwFYvXo1586d4+mnnyYcDnPq1Cl++9vfcvjwYU6fPs3Jkyc5fPgwLS0t+P1+uru72bZtGy+88ALZbJZcLkdLSwt79uxBqVRSU1NDQUEBgUCAo0ePcvjwYerq6rBYLKTT6ffcRuEWpmo1Gg0LFy6krKyM+vp6Hn/8cWprawmFQgwODtLY2IjZbGZ0dBSFQkE4HMZisbBkyRLsdjtr1qxh7dq1+Hw+BgcHmZycJBAIoFAo8Pv9tLa2curUKdavX4/T6USlUlFeXo7ZbCaVSnHu3DkikQjxeJzOzk52797NZz/7WZqamgBYsGABAD6fD5PJhN1up7S0FIPBwMyZM6murgauBBdbWlrYv38/v/zlLykuLqasrIyVK1fy/PPPc+LECb70pS/R1NSEy+Vi5cqVfPKTnyQSibB9+3bJaBYXF7N27VrMZjMDAwOUlJQQCoVuy4PJG0KbzYbZbGbJkiXodDpUKpU0KxKPx6mqqqKkpASdTicZzUAgwPLlyykoKEAQBBwOB/39/ZILnEelUuF0OjEajRQVFVFRUUEkEuH48eMoFAoWLVqE1WqlubmZQ4cO8fTTT7Nx40bmzJlDRUUFZWVlfPGLX2TWrFnXlN9oNNLc3MyMGTMQBIGKigrC4TCpVIra2loaGhqor69nwYIFfOYzn2F4eJiRkRHOnj1LMpnEaDRe45Xlcjm6urpoa2tDo9FIdeD3+5mYmMBisQDQ09NDcXExNpuNWCyGz+dDo9FQUVEhDZk6OzuZN28eVVVVKJVKSktLpbbidrsJh8PYbDb0ej3t7e1s2bKFz3/+8+RyOZqamli3bh0ej4fjx4/T3NzM2rVrJa9uZGSEgoICGhoauPvuu9Hr9VRUVFBRUcHY2Bj33HMPq1atore3l1deeQWlUsndd99NOBymsbGR7u5uAObMmYPdbieTyWC325kxYwbj4+MoFArKysqIx+M0NTUxMDBAVVUVPp+PrVu3cvfdd7N06VLJs3C73XR3d9Pb2ytd22AwvOc2CjfwPPJW/EZr5vLjV7gyHjMajUxMTHDy5El6enrIZrM3vKBer5fyCARBwOl08olPfAKHw8GPf/xjfvGLXzA2NobNZiMYDHL+/Hna29sJhULAFZd4dHSUoaGhKW74zZLNZhkaGiKZTKLRaKRgVllZGVqtllAodI33oFAo0Ol0GI1GBEFAFEVsNhvJZJJLly5x6dIlfD7fbZleFUWRjo4OjEYj9fX1OBwODAYDQ0NDnD59Grfb/Y5v5/zUZV9fH2fOnGF4ePgdj7+aQCCAz+eTjBeATqejpqYGv99PNBpFEAQACgsLrxukUygUGAwGiouLaWlp4cSJE/h8villeHs9qdVqLBYLgiBI5387ExMT9Pb2olAomDFjBmq1mpKSErLZLCMjI9JYf3R0FIfDQXFxMX6/n2AwiMViwWazkcvl8Pv9eDweVq9ezfLly7nrrrv4sz/7M+rq6gAYHR0lkUhQVVUlvbTGxsaIxWKMjY3x+OOPs2TJEk6ePEk6ncbhcEjtUBRFwuEwbrebWbNmSfWTn1KdO3cuM2fORKPRcPnyZQYHB6mpqUGv15PJZIjFYjQ1NWE0GhkfHyeRSDBv3jwWLVpEIpEgFotRXl5OYWEhmUyG3t5eKc515swZRkZGKCsrmzJT5nA4WLBgAel0mp/97GecOnXqptrCzXDDYUu+k7z9YebzP/KMjo6yefNm9uzZw6xZs1i5cqUU4Lke+e/nf7LZLGVlZfzgBz/gz//8z3nllVc4dOgQzz//PE899RRms5lVq1ZNiXzng2wtLS3E43EAKXCZv26+/FdfN//doqIicrkco6OjkqeQTCYljyX/0K++17f/+8Ybb/Db3/6WdDrN6tWrqa2tveY+b0T+vG/vLJlMhp6eHg4cOMCdd97J3LlzmZiY4Mknn+Ts2bMsXLhQ8kLyQUKVSoUgCORyOURRpLe3l1/84hdcvnyZJUuWSGP965Xn6ucAVzwGnU5HKBTC5/NJ9ZhKpaisrKSwsFDK+7nRPWazWbq7u/nRj35EX18fGzduZMaMGVKA9e31+vayXI9UKsWFCxdIJBKsX7+eDRs2sH79eu6++24sFgt9fX3kcjk8Ho8UKFQoFIyOjhKNRjGbzWQyGZLJJF6vl2g0Sk1NjRQnKSkpYXR0lJGREalNWK1WPB4PY2NjOJ1O7r//fjZs2IBKpSISiTA0NIQgCOh0OinnJBKJ4Pf7GR8fp66ujsnJSQRBwOPxEI/Hqaurw2q1TglI578/MTFBOBzmnnvukYyLy+WSvAi3200qlcLpdJJIJPD7/fT390sxvfxLJf+sI5EIsVgMhULB8uXL+da3voXNZuP111+/Ybu8Va4ZtsTjcYaHhxkeHsbv99Pb20t5eTnFxcWMjY0RiUQYHx9nYmICm81GJBKRbjxf2clkkr6+PmbPni2NScfHx6VjfT4fyWSSiYkJIpEI+/btY9WqVTQ3NzN37lwUCgXDw8NEo1E8Hg96vZ5wOIxOpyMajdLQ0MCsWbPYvn07JpOJGTNmSOPagoIC1Go1fX19dHR0UFlZyeTkJJOTk+h0OoLBIEuWLKG5uZljx45RVlaGzWajr6+P+vp6Fi1aRDabxev1EgqF8Hg8RCIRJicnCQaDeDwe/H4/w8PDBINBJiYmMBgMhEIhotEo/f39xONx6bt+v5/S0lLJw8lkMng8HkZHR/F4PHR3d9PR0YFSqSQajXL06FEqKyv5whe+gMvl4uzZs0xOTqJUKhkbG2NiYoJoNMrg4OCUxnju3DmUSiUej4fJyUmpQ/h8PsLhMMPDwzQ1NUkuqyiKeL1e6dmMj49TU1PDsmXLOHHiBG+99RZqtRqfz8fk5CQPP/wwxcXFDA4OEg6HpTZQXl4+xQPJxw1GRkZIJpN0d3eTSCQIBoOMj49js9mkNuD3+6V6zbet0dFRZsyYIc0GBINBLly4wJEjR6isrKS0tFS6TjKZRKlUcuLECdauXcvQ0JAUl5mcnGRwcBC/309BQQE9PT3o9XqOHz9OKBRicnKSrq4uyeCOjo4yd+5cabYmP7um1WoZGxvj6NGjWK1WxsbGJO9gYGCA06dPSzMtFouFYDBIIBAgGAzS3d3N0qVL6enpQavVYrfbpeFnSUmJNAytqamhu7ub5uZmVq9ejSiKtLe3U1VVRVFRkRScD4fDZLNZJiYmpPrPG02TyYTf7+fUqVOkUimUSiWFhYWSp2U2m1mxYsVtzd9RPfHEE09c/YHP56Ojo4OhoSFpqqe4uJiSkhJaW1vxeDwYjUbKysok9zCdTjMyMkIgEJiS8ed0Ounq6iKTyeB0OikvL8fr9U6JbtvtdiYmJujr60MQBOx2Ow888ABVVVUMDQ0xOTmJVqtFpVKh0WgoLy9nzpw50jjv5MmTDA8P43A4mD17NlarlVAoxPj4uJSSHAgEGB8fp7CwkMrKSmbNmsWsWbMYGBggGo3i8/lQqVSsXLmSOXPm4PP56OrqIp1OY7fbcblcuN1uhoeHMZlMNDQ0SNf3eDzSbJRSqcRoNJJIJKRxeF1d3ZSpsUQiQXd3N319fWSzWWnqzuv14vV6mTdvHo888oj0HZPJRCQSYWRkhHg8jsFgkOb16+vrsdvtkiEyGo00NDSQTCalzps/3mg0UlNTI02pCoJAe3s7Y2Nj6HQ6bDYbLpeLhoYGtFotw8PDhMNhQqEQZWVlbNq0CZ1OR3t7O+Pj4+j1epxOJw6HY8o0sEqlQqfTkUwmaWtrA5DaiN1uR6VSMTIyQjQaxel0SrGJ7u5uDAYDVVVVuFwuqb7cbjfHjh3D7/dTXV1NdXU1JpOJWCxGV1cXk5OTqFQqKioqUKlUhEIhZs+ezbx580ilUoRCIWbMmEFjYyP9/f20t7djNBqlIWpvby8XL16koaGBhoYGaXi8YMECFixYgEajobe3l+HhYeLxOAsXLqS2thatVovb7WZ8fBy1Wk11dTVVVVWEw2HGxsYoLy+XYh49PT1S7MpqtaJUKqU6Gh8fB67kbDzwwAOYzWaSySRdXV0sWrSI+vp6RFFkaGgIpVLJ3LlzqaioYGJigkAgwOLFi1m6dCkFBQX09fUxNjYmvUiLi4s5f/48Bw8eJBKJUF9fz9q1a29brpPidogBZbNZKU5gMBik+eyrczLeiVwuJ7lYZrNZ+jwajUoVnXfLtVrtNXPaOp0OnU4nfZ4vj1qtfte4SCgUQqFQYDQab7q8efLDpKvzVa4ux+0ik8mQSqVQqVRotVpyuRxKpVIqbyaTIZFIUFBQgFKplI5Xq9VoNJopafA3SyqVIh6PS7GeWyWfu5PPRs5ms1NiTO8H2WwWQRCk/JG3//1uiKJIJpMBkDpYvm0CUlAWrrS9WCyGWq2eshYol8uRSqWm1Fn+Wby9/tPptJTvcvXxgiBI9aVQKKTlIfkkx3w5c7nclOBnJBJBqVROyR/K94X3Y53ObTEeMjIyHz/kJfkyMjLTQjYeMjIy00I2HjIyMtNCNh4yMjLT4iOvJJZMJgmFQqhUKiwWy/u6pF5GRubmkYxHNBplZGQEv98PIE2J5tcFWK3WD7xwmUyGzs5ODh06hNPpZO3atTidzg+8HDIyMtciGY90Ok1nZyd79uxBFEVWrFiBRqNheHgYtVrNY489htPp/EC1LQVBIBAI8NZbb0nZjzIyMh8NpJiH1WqVJAez2SwrV66UVrg+88wzHD9+/KYXWN0udDodTU1NkiKYjIzMR4cpPVKr1UrKSvmsS5fLhU6nI5FISGpGo6OjGAwGBEEgmUxitVqlNOPx8XHC4TBlZWWUlZUBV4ZEY2Nj6PV61Go1gUBASlm/2pvJa0EMDQ2hUqlwuVySwcrlcni9XknJrLKyUhKkkZGR+eC55nUuiiJ+v59Lly7R29vL5cuXueuuu7jjjjtQKpV0d3ezZcsWrFYrGo2GdDrN4sWLqa6upqenRxJsUSqVfOMb36CoqIienh62bNlCYWEhtbW1BAIB+vv7qaur4+GHH8ZmsxGPx2lrayMYDDI5OcnQ0BB33HEH5eXlklG5dOmStOhq5syZt00RSUZG5ta57lRtOp3G5/PR29tLd3c3VquVTCYjLQO/ePEi58+fR6FQUFNTg8FgoK+vj5GREWpra3E6nWzfvp3e3l5yuRwKhYJLly5x+fJlFAqFJK135MgRLl++TDwe5/z58+zatQu73T5F0CS/JiGXy1FcXMycOXNQKpW8/PLL9Pb2fnA1JSMjM4VrPA+lUonT6ZSW71qtVn7/+98zPDzMP/3TP1FdXY3NZqO8vJwNGzZI+ooej4eysjJpmJEf4uQl0ex2OzU1NSxevJiamhrGxsakpeA+n499+/ahUChYuHChpJYEMD4+jlKppLKyksWLF+N0OonFYrS1tV0j1CwjI/PBcV3PI6+cVVVVxV133UVjYyN79+7F6/VK4jUmk2mK0rXf76etrQ23200mk3nHWZn8su28Unl+SfbNSPjlhWu1Wu0NVadkZGTef6YYj/xS4EwmQzablZb+ZjIZaS+M/BLhqxfjjo+Ps2fPHg4fPsyMGTOYP3++tBT8RupRV6tY6XQ6LBYLp06doq2tjWw2Szwel4Ri3654lf++jIzMh4c0bMl7Dvmg56FDhxgdHWVsbAyFQsHXv/51bDYbHR0deL1eAHp7e3E4HMCVhK6hoSGOHTuGQqEgl8tx+vRpGhsbGRkZYXx8HEEQpLyR/v5+hoaGGBgYYMWKFaxfv56enh5+9KMfsWzZMmw2G/X19YRCIUZGRtDpdAwODqJUKunp6ZFUuO6///4Pp+ZkZD7mSEpi+U2CLBYLM2fOpKysTJpaXbx4Mffcc4+0HYDJZKK2tpaamhpsNhuFhYUUFBRIU735HbecTic1NTUkk0nMZjN1dXXMmDFDEjRxOp3MnDmT+vp66uvrKS8vJ5lMSqrfjY2NKBQKCgoKqKuro7a2FpPJRC6Xo6ysjJkzZ9LQ0PAhV6GMzMeT2yYGJAgCmUwGQRDQ6/Vks1mUSuUt70yV39E8vyOXjIzMRxNZSUxGRmZayK92GRmZaSEbDxkZmWkhGw8ZGZlpIRsPGRmZaSEbDxkZmWkhGw8ZGZlpIWWYPvXUU5w5c+bDLIuMjMyHyGOPPcbq1atv+njJeLz++us899xz70uhZGRkPvosWLDgloyHPGyRkZGZFlKG6aFDh+jr6/uwyyMjI/Mhceedd0pCXTeDnJ4uIyMzLeRhi4yMzLSQjYeMjMy0kI2HjIzMtJCNh4yMzLSYop6ezWZJp9M33BlOo9GgUqnIZDLodDrp92w2i1qtniKILCMzXZLJJHBlE7IPSxAqnU4TjUYRBAGr1fqREaYSRVHSGdZqtajVajKZDOl0WhIV/6CYcqWjR4+ybds2uru7rzlQqVSyadMmCgsLeeutt/jKV77C7Nmz2b17N6+88gqBQACr1YrL5WLZsmWsXbsWg8Hwgd2IzB8/+e06fvjDH1JZWckjjzwiaeSKoojX6yUUCuFwON63zb4SiQRnzpxh+/bttLe3o9frueeee/j2t78NXFHM6+7uxmg0Yrfb0ev170s5bkQ0GuXQoUO88cYbfO5zn2PevHm89tprPPvssyiVSmw2G9XV1axevZoFCxZgsVjet7JMMacOh0Pq+A6Hg56eHkwmE+vWrWPdunXMmjWLS5cu0dLSQiQSIZlM0traSl9fHw6HA5fLRU9PD//+7//O3//939Pd3S1vjyBz04iiSCgU4sCBA3i93ikecDqd5tSpU2zdupWOjo73rQytra1s2bKF/v5+NmzYwKOPPkp9fb30/4lEgq1bt7Jnz54PZd+gSCRCW1sbZ86cIZ1Ok81mOX78OF1dXTQ1NeF0Ojl37hz/7//9P/7zP/+T9vb2922ngSmeR319PZWVlQSDQV5++WW6u7vZuHEjDz/8MHBl2PLss89SUFCATqcjHo/j9/txOp185jOfYeHChYyOjnLo0CGefvpp0uk0//zP/0xJSclHxu2T+egiCAKTk5PEYjHKysrQ6XTS/2k0GhYvXkxdXR1Op/OG59i7dy8tf2goIwAAIABJREFULS2sXbuW5ubmW9LQTSaTnDt3jsnJSTZu3Mijjz4q7d2cR6fT8fDDD6PX6zEajWzZsoWxsTHuvvtuFixYML0bvwVisRh+vx+9Xo/NZiOdTjMwMEB1dTWPPfYYVquV0dFRXnzxRd544w0EQeBrX/sa5eXlt70s12x0rdVqicVipFIptFot1dXVFBYWAhAOh/F4PFitVvR6PaFQiHA4jNlsprKyktLSUux2OyUlJYyPj/P888/z6KOPsmLFig/cvZP540MQBMbHx8lms5SWlqLVaqX/i0aj0rYger2ec+fO8frrryMIAkuWLGHVqlUcPnyYF154gb6+PjweD0aj8ZoOLYoikUiEXbt2ce7cOQoKCli/fj0VFRUcO3aMHTt2MDY2Rl1dHf39/SxcuHDK930+HxcuXMBqtdLf389LL71EOBwmFAqh0WgoKyvj2LFjHDt2DKVSycaNG1m8eDFKpZI333yTdDqNXq9naGiIRCLB4sWLcblcHD9+nMuXLzNr1izWr1+PXq+/7sZpkUiEQCBAUVERFotF2nh+3rx52O12nE4npaWl6PV6/H4/Z8+eZdmyZZhMJk6dOiXV2eLFi9mwYQMWi2XaL/brRldisRiBQACtVjtlzBkOh/F6vdxxxx0YjUbpLeFwOCQDo1KpsNls3HnnnTz11FN0d3ezdOlS2XjIvCu5XI6RkRE0Gg02m21KAH5iYoKDBw8SDAYJh8Ns374djUZDZWUl27dvp7S0lGg0yvj4OFarFafTOcX4wJU27PP5+OUvf8mRI0dYs2YN7e3t9Pb28uCDDzIyMsLk5CQKheKGOxL29fWxdetW1q1bRygUIhqNYrFYKC0txe/389Zbb7Fjxw5mz55NLBbjhz/8IU888QSVlZXs2rWLjo4OKisrMRqNjIyMsGvXLubMmUM2myUUCvHaa69RVVXFvHnzrik/XHmB5719o9GI2+3G6/Xicrmk45VKJbW1tTQ2NjIwMEB3dzcmk4knn3xSqrOXX36Z+vp65s+fP8XDuxWuazzy1s1isWC1WqXPJycniUajOBwODAYDk5OTpFIpioqKMJlM0nFKpRKTyYRSqZT2YZGReTdyuRwDAwMUFxdTVFQ0ZcgRCATwer0olUqy2SwTExOsWLGCxx9/nEgkQmVlJQUFBWzbto1FixZx//33U1NTM+X8iUSCc+fOsX37dr785S/z6U9/mhMnTvDkk08yPj6Oy+Wivr6ewsJCHn300Wu+DzA8PEwoFKKsrEzas3n27Nncc889dHV1sWPHDhQKBU1NTQQCAfbv38/FixdRq9UMDQ2h1Wq59957cblcbNu2jSNHjnDPPfdw77330trayr59+5iYmLjujGc2myUYDBKPx3E4HKjVaiYnJ0kkElRUVEyZaVGr1ZL3kkqliEajeL1eVqxYwVe/+lUikQgul+s9zc5c118Jh8MEAgFKSkowm83AFavt8XjIZDLYbDZ0Op10kyUlJVNmVrLZLKOjo+RyOex2+wc6fSTzx0s2m6Wvrw+73U5hYeE1xiORSOB0Olm4cCF33HEH+/fv55lnnqGyshKr1Uomk0EURaqrq6mqqrpmti+RSNDZ2Ukul2PdunVUVFRQXV0tpRzkUxAqKyuprq6e8kLMMzQ0hMFgwOFwkEwm0Wq11NTUUFxcjMfjYWhoCL1eT2dnJ2NjYyxZsoSSkhKCwSCpVIrm5mZWrlxJeXk5JpOJqqoq1q5dS21tLQaDAZVKRUFBwXWHEqlUCr/fTzqdpry8HEEQ8Hg8iKJIaWnplH4Wj8elgK7D4aChoYEVK1Zw4MABfve731FRUXGNgb5VrunVuVyOYDBINBqlvr5+ygMYHh5GoVBgs9lQqVTStpP5GAhcaQBut5tt27ZRX1/PwoULp+0WyXx8EARBGr8vXLjwmjG/z+cjnU5LOwk+/vjj2O12nn/+edRqNX/zN38zpX1eL00gk8lIwcb8WH98fJxcLofFYiEWi5HNZikuLr7hMHtwcJCioiKMRiMejweNRoPT6USpVEov1s9+9rMsXrxY+o7NZuPEiRPSTodFRUUMDg4SjUYpKiqirKyMXC6H1+tFp9NRUlJy3U6dSCTw+/0AlJeXk8lkGB0dlcILeeMhCAJnzpzh3LlzOJ1OFixYQHV1tVRnmzdvRqPR8N3vfldyDqbDNcYjnU7j9/ulza3zBRJFkYGBAUwmE1arlWw2y+TkJJlMhmAwyLlz5wgGg7S2trJnzx5GR0f5/ve/L1l2GZl3QhAEQqEQXq+XwsJCPB4P8XgcuDLTkt8zOZfLceTIERQKBRs3bqS1tZWjR4/yta99jcHBQXK5HBqNhlgsBoDRaJSuodFoKCkpwefz0dHRQTKZZPv27TgcDmbOnMmFCxeAKy/D63nL8XicsbExSktLUSgUTE5OIooiSqWSXC5HQUEBGo0Gt9vNJz/5SURR5MSJE5hMJkZGRlCpVBQVFaHVagkGg8RiMaxWKwUFBcTjcYaHhykpKaGwsPC6nkcsFiMYDKLVarHb7WQyGdxuNwaDQTKCoVCI06dPs3//fvR6PRs3bqSoqIjDhw8DsHHjRi5dusTRo0f56le/KoUXpsM1NZRMJvH7/QiCQFlZmfR5LpfD7XZTVFREUVERyWQSn8/H2bNnuXTpEhaLBbPZTElJCTNmzOB73/seS5cuxWAwXDdqLCNzNdlsFp/Ph8/n4ze/+Q0vvvgiSqUShULBhg0bmJycRK1WU1hYyKVLl3jhhRfIZrPEYjG+8IUvYDabqa6uJhQK8Y//+I8sX76cr3zlK6xcuVK6htlsZvXq1ezdu5fvfOc7aLVabDYb3/jGN6irq+Pw4cOo1eopcb48+VmaiYkJFi5cSFFREeXl5Rw6dIi/+7u/47777uOee+7hrrvuYvPmzezatQuA2bNnU1tby8jICHq9nuLiYrRaLYFAgFgsxowZMzAYDASDQYaGhigtLcVsNhOPx/n+978/JWGzrKyMeDyOwWDAarWSSqUYGBhgYGCAb3/72+h0OiletHLlStatW8eCBQsIhUK0traydetWstks0WhUqrP3kkJxjZ5H/iFGIhFp7JmvvIGBAQRBoKKiAqVSydjYGIFAAEEQUCgUUpCmoKDgmmi5jMw7IQgCsViM/v7+KXkVcMUTyL/hLRYLyWQSt9uNx+OhqKiIOXPmYLVaiUajtLe34/f7KSsro66uTmq/cKUNp9NphoeH6erqQqlUUl1dTWVlJalUih//+MdEIhEef/xxli5dek0ZM5kM/f39FBYWUlxcTDAYpKuri0gkQlVVFS6Xi2QySX9/Px6PB7PZTE1NDRUVFdLkgt1up6CggGAwSDAYxGg04nA4SKfTjI6OAuByuRAEgYsXLxKNRqXrm81mjEYjWq2WiooK4MowKhwOA6BQKNBoNOj1egoLCyksLESr1ZJOp/H5fNets9tqPGRk/hjI5XJks1lUKtWUIUY2m0UQBFQq1Q2Hy6IokslkpBeeQqFgaGiIH//4x2i1Wr7xjW/Q0NBwU+XIX0+tVksd8UZlm849Xt09FQqF5I1N93y3o1x55GkQmT9KbmQcbqZT5PM4riafcnC1t30zXO9672S4boXbHSu8XeXKI3seMjJcmSgIhUKo1WosFosc5L8JZOMhIyMzLeTVajIyMtNCNh4yMjLTQjYeMjIy00IKFZ84cYI333yTsbGxD7M8MjIyHwJz585l3bp1110MeCMk45HPfnt7go6MjMyfPhaL5ZZzP6TZlryoqrx8Xkbm44dKpbplwWl5qlZGRmZayAFTGRmZaSEbDxkZmWkhRUg6Ojp46aWXGB8fx263k0wmSSQS2O12wuEwbrebf/3Xf6WmpoZsNktnZycGg4GKigpJcSm/YvHixYvYbDaWLVsmCQFls1na29txu92Ul5fT1NR0XaUmmY8n2WyW4eFhtmzZQmdnJ2VlZTz44IPMnTsXo9FIJBJhcHAQhULBzJkz33HFdiaToaWlhddff52hoSFqa2u57777mDdvHj6fjyNHjhCLxbj77runaNa8HUEQmJiYYM+ePRw9ehStVsuGDRu46667CAQCdHd3E4lEUCgUOJ1Ompqa3rf9ZD6KqJ544oknANxuN9lslnvvvZc777wTt9vN0NAQ3/3ud1mzZg2jo6PS/hWbN2/mJz/5CYIg0NDQgNlsJhaLcejQIbZu3crcuXNpa2vj1VdfZdmyZahUKn7zm9/Q2dmJ3W7n1KlTXL58mbq6OnljKBng/3RvCwoK+NWvfsVDDz3E8uXLMZvNDAwM8Ic//IFf//rXRCIR7rjjjnc0HiqVCofDQVdXFz09PTQ3N7N69Wo6Ozv51a9+hdfrZffu3WzZsoV58+bhcDiuu5ZFoVBgNBopLi5m8+bNVFRU8LnPfQ6LxcIrr7zCa6+9xvnz5+nt7QWubF3yfm6y9FFDMrk1NTVUVlZisVjw+/3Ssl+NRkNxcTFf/OIXMRqNWCwWHnnkEdra2qbIC/b09HDixAnsdjurVq2irKyMb37zm5w9exaLxcLRo0d55JFHWLt2LalUipMnT3L8+HE2btz4wd+1zEeSvF5Hfk+UfIeurq5mw4YNBIPBm16OrtVqMRgMmEwmDAYD2WwWvV7PX/3VX+FwOBgYGODLX/4yra2tzJgxg5KSkhuWyWg0YjAYMJvN0hJ+o9HIX/7lXzJr1iy0Wq20XP7jhGQ8bDab9GFeJzGPSqWSxEfyfysUCulB5nI5hoaG6OvrY926ddLKRKVSyZkzZzCbzUQiEUwmE1qtFqvVSjgcpq2tjfvuu08WDZKRyLepq9tXvmPm292tnCv/YzKZqK+vR6FQIIoiDoeDuro6Kisrb0pj9+ryJBIJEokE58+fp62tjYqKChYsWDClD30cuC2mMpPJEA6HyWaz2O12lEolBQUFlJSUMDY2xvDw8BTLXVhYiF6vJxwOS5say8i83+Q7f36/WZvNJskA3irFxcVkMhlaW1t54okn+N73vkdbW9vtLvJHmtsiBqRQKKS3QiaTAa54I+l0Gq1Wi0ajIZfLSXtR5HI5BEF4T6pIMjLTQRAE/H4/27dv5y/+4i+oqqq6Ze0Og8HApz71Kel8O3bs4JVXXuHNN99kzpw570exP5K8Z89DFEW0Wi3FxcUYDAZpL5dIJEIwGKS6upq6ujrJO8lkMgQCAclLkQOmMtNFFEUEQbjpjZxFUSQQCPDiiy9y//3309TUhEajkc5zK+fKo1QqKSkpmTLr+HHhGs9DFEWy2SypVIp0Oi1tpJP3EERRlLyIvH4jQG1tLbNmzWJ4eJhEIoHP50Oj0dDc3CxJv0ejUaLRKBMTExQXF7No0SJZsUlGIi9Q/PalEvk2l81mpe0Xstksvb29/OQnP2HNmjU8+uijU/ZayR+T38wpvy/Kvn37qK6uZtmyZSQSCd544w3q6+t59dVXSafTbNy4kXnz5k0pUzablfpELpcjlUoRj8fR6XQolUomJiaw2WysWrXqA6+zDxNpqjbP2NgYe/fuZceOHfT396NUKnG5XJKuYyAQYOfOnezevVtSYi4tLaWsrAyTyURnZyfnz5/n/PnzrF+/nrVr10qK0RcuXODMmTP4/X6WLFnCXXfdJRsPGeBKnsfg4CC//e1veeutt0ilUrhcLmw2Gx6Ph71797Jv3z68Xi9Wq5WqqipMJhOxWIw//OEP0s71cCUGd/r0aV5++WXOnj1LLpdDrVZz4MAB/u3f/o2dO3fyX//1X/z0pz9Fp9Nx5513YrFYOH78OFqtVjIegiDg9XrZvn07r732Gh6Ph4qKCgKBAP/6r//Kiy++yMWLFykpKeHee++VUhk+Ltz2tS3ZbJZ4PI5Go7lmSJLJZKQt+uRd5GTeK/F4nOPHj/Pqq6/ygx/8gIKCgmmfq6Ojg3379jFr1izuu+++dz0+lUqRTCbR6XQf203c5YVxMn+U5HI5/H4/p0+f5s4776SwsHDawfdkMsn58+cpLCyktrb2Y2sMbhXZeMjIyEyLj1dKnIyMzG1DNh4yMjLTQjYeMjIy00I2HjIyMtNCNh4yMjLTQsowTafTxGIxcrkcSqUSURQRRRGVSoUgCGSzWaxWK2q1mnQ6TTqdRq1Wo9VqpUSvfDZeOp1GpVKh0+mmZKbms/3UajUajeZjt4RZ5sbk2040GpXaSH4VNiBlO+fb1Tu1HVEUSaVSJBIJstmslHN0dW6RIAik0+kpbVTm1pCMR2dnJzt27CAYDOJwOJicnCQUCtHY2Eg0GqW9vZ0nnngCm81GW1sbHR0dWCwWFi9eTG1tLWq1mnA4TG9vL4ODg5hMJubOnYvT6USpVOL3++ns7MTr9VJcXMzMmTNxOp1yhqkMcCVvY2xsjG3btnH06FGampp4+OGHaWxsJB6P09raSnd3NxaLhWXLllFTU3PDtpPL5Whvb2fXrl309vYya9YsNm7cKC1aEwSBoaEh2traWLVq1cdKwOd2IqWnj4+Po9FouPfee1m6dCmDg4OMjY3x3e9+l9WrVxMOh6mqquLYsWN0dnYyMTHBjh07GBgYwOVyodPpeP3119m7dy/Nzc309fWxdetWli1bBsCvf/1rxsfHqa6u5ty5c7S3t+NyueQHJwP8n5KYxWLhqaee4pFHHqG5uRlBEDhw4ACXL19mZGSE/fv309raytKlSzGbzTc8l91up6enB7fbzfLly1m7di1wxSsJBoP84he/YPfu3axevZqioiLZ+5gGkudRXV1NZWUlBQUFTExMSAfkhVQ2bdpEJpNhyZIlPPTQQ2i1Wp588knOnTvH4OAg6XSas2fPUl5eztKlSykpKeF3v/sdZ86cwWKx0NLSwuc//3mWL19OJBLh8OHDnDhxgk2bNskPTga40tYMBgN6vR69Xo9SqSQej7Ny5Uo2btxILpdj69atkjZpeXn5Dc+lVqslRbL8cEUURWKxGKdPn8bv98t7FL1HJOPxTsKteUt+NYIgUFxcLEm4jYyMMDw8zPz58yUxIK1Wy4ULFygoKCCVSmE0GiVZw3g8Tnd3tzTulJEBrnmROBwO6fdYLEZJSQl1dXU4nc5bPncqlaK/v5/u7m6WLl3K+Pj4ey7vx5lpRyx9Ph/BYJCamhpcLhexWAxBECgqKkKpVGIwGCgsLMTn8zExMYFWq5V0KQsKCtDpdMRiMdLp9O28H5k/UURRxOPxEIlEaGxsfEev43pks1lGR0c5fvw4q1evxmAwyB7ve2RaxiMej3Py5EkcDgfNzc3Y7XZpq7pkMilFzpPJJCaTCaPRKOkr5DUbcrnclJkaGZl3IhgMcvnyZfR6PQ888IA0C3OzBAIBWlpaiMfjGAwGJicnicfjjI2NEY/Hb1kESOYdjEd+qvbtlZpIJGhpaSGTybBo0SIcDgeZTIbi4mIsFgsej4dcLkc4HCYajVJfX09jYyMA4XCYdDotCSyXl5fLKxhlpnC9NhcOhzl//jy5XE7ajiEcDpNIJBgYGMDn871r/CKdThMMBpmYmODpp5/mzTffZGBggJ07dzI4OChv8D4NrlESy3fuiYkJgsGgJPij0+lIpVIcPHiQkydPsnDhQrxeLxcvXqSwsBCHw8H8+fMZHx9ncHCQ/v5+nE4ny5Ytw2KxcOLECXw+H263m7GxMUpLS1m8eLGc6yED/F9uxvj4OPF4HK/XK+V87N+/H7fbTV1dHaOjo3R0dJDJZGhsbOS///u/qamp4etf/7qkHyOKIpFIhEAgQCAQwOfzUVRUxFe/+lUEQSAQCLB582ZisRibNm2irq5OVvCfBtcYj1AoRF9fH8FgEJ1Ox4ULF3A4HDidTnw+H/v27aO3t5dTp04hiiLFxcU89NBDLF26FK1Wy6FDhzh06BDxeJyvfOUr0u5ejz76KBcvXuTIkSOIosiqVaumyL3JfLzJd+rz589TUVGB2+3G4/GQSCQ4deoUbW1tHDx4kFwuh9PpZNOmTTidTpqbm9m8eTNf+cpXJOORy+UYGBggEAigVCrxer2MjIzQ0NBANptlYGCAkZERLBYLvb29VFdXU1JSIr/IbpHbrueRy+VIJpOo1eprZlHy2af5zFQZmemSn3Y9fvw4LS0tfOtb38JoNH7YxfpYIYsByfxRIggCoVCI9vZ25s+fT0FBgTx78gEjGw8ZGZlpIQ/yZGRkpoVsPGRkZKaFbDxkZGSmhWw8ZGRkpoVsPGRkZKaFbDxkZGSmhZRhGgqFpE2qdTqdJD2o1+vJZDLEYjHmz5+PyWQiHA4TDocl8ZZ8aq8gCMTjcSk79eqsPUEQCIfDxGIxDAYDFosFtfqaBFeZjymiKBKPx3G73YTDYQwGA5WVlZJURCgUIhKJoNfrsVqt75hOns9Wzae6m0wmysrKKCoqIp1O4/V6gSvL/bVarZwfMk2k3jswMMCBAwfI5XI4HA56e3vxer2sXr2aVCrF8ePH+du//Vt0Oh1dXV0MDQ0hCALz589n3rx56HQ6RkdHaWtrI5PJIIoi5eXlLFiwAI1GQ1dXFwMDA6RSKVQqFdXV1TQ0NMhaHjLAlQ4fiUQ4ceIE27ZtY9WqVTz44IPo9XpGRkZoa2ujr68PpVLJkiVLuOOOO27YdkRRZHJykp07d9LR0cGiRYv41Kc+hVKplM7j8/lwuVysWbOG4uJiOTV9Gkg1ptVqWbRoEZs2beITn/gEVquVTCbDfffdx2OPPcb69evRarXSCsSSkhIOHz7Mrl278Hg8TE5OcvDgQY4cOUJdXR3ZbJb/+Z//YWRkhImJCbZs2YLb7aaiooLBwUF2795Nf3//h3nvMh8hVCoVNpuNO+64g/HxcWbOnEllZSWpVIre3l5isRg6nY6WlhZ+97vfMTIy8o7nmjFjBna7HYVCQWVlJdXV1UQiEYaHhykrKyMajfLzn/8ct9tNLpf7AO/0TwfJ86iqqqKiogKDwYDH45lykF6vZ926dajVaqxWK0ajEbfbzeXLl3E4HOh0Ovr6+rhw4QJ1dXXMmjULg8HAz3/+c86cOYPZbKajo4Pm5mbmzp2Lx+PhwIEDnDlzhoaGBtnqywBXVMR0Oh1arVbSh1EoFJJeaSaTwWw2c/DgQQKBwDueS6VSodVq0ev10tDEZrOxceNGMpkMXq+XyclJOa39PSAZj4KCghsepFQqpbFnNpulr6+Pffv2MTw8THl5OaIoMj4+jtfrZcWKFZIMocFgoL29HZPJRC6Xw2QySTKEmUyGgYEB0um0rOkhI/H2jlxcXCz9nk6nMZlM1NTUUFZWdkvnVSqVaDQawuEwZ86cYc+ePdTV1aFQKGQhoGlyy698QRAIBoNYrVZEUZT0PVKpFKIoYjKZpDeI0WgkEokQDoelVbZKpRK9Xo9arSaZTJLJZN6P+5L5EyOXyzE0NEQsFmPJkiXXaOreDIIgkEgkSKVSzJ07l4MHD3LgwIF39WJkrs8tT3dotVqam5tpbm6murqa5557Dq/XS2lpKSqVilgsJgm7xONxioqKMBqNZLNZUqmU9ABzuZwkiCwj806IosjY2Bh9fX3Y7XZWrlw5rXaj0Wiorq6murqabDZLb28vbrebWCz2PpT6T5/reh6iKCIIAoIgTHHp8kYhL/kmCIIUjCotLcVutzM+Pk42myUUCpFIJGhqamLu3Lmo1WoikQipVAq/349araampkbW9ZCZwtXyl/mf8fFx2tvbMRqNkvrc8P9v785j277v+48/eYoUSVHiIZG679OSbFmWfMWxGyfpcjV2nKJZ2i0o0GIY1g7DgGJ/bEAwbCs2rEP3K7KiQZC0XZMlaZrEqZs4TuMrcWRFsizrsCVZsqiLug9SpHh9v+Tvj4DfWnHs2GwOu/48gACBRX/9JUW++fl+vp/36zM5yfLyMsePH+fixYufOOn58eNIkqSMdGVZxmw2U1dXd9X9X4Rru2LkEQgE8Hg8DA8P4/V6lV+axWIhFArxzjvvoFarycrKYnp6mvr6ehoaGtBqtTQ3NzM4OEhnZyeTk5PU1tayefNmzGYzXV1deL1eOjs7mZiYoLi4mM2bN4vJUgH4wzqg3t5elpeXGRwcpKGhgcXFRQ4ePMjFixdxu91cvHgRSZJwu900Nzfz+9//HpVKxT/8wz9gMpmUY83MzDA2NsbExASjo6NMTEywsrJCT08PeXl5aLVaysrKaG1tFRuPpeiK4iFJEmq1mqqqKvLy8pAkSQmHTc53+Hw+wuEwhYWFlJWV4XA4lGhBs9nM4uIiGo2GJ554goKCArRaLfv27WNkZISVlRUKCgooKiqirKzsC3/Cws1LlmVUKhX79u3D6XQSj8eJRCKkpaVhsVgIBAL4/X6ysrJwuVzYbDY2btzIiy++uG7kkUgkCIfDFBUVoVKpyMnJIRQKsba2xsTEBLIs43a7eeCBB3C73WKxYopuOAwouRIwLS3tE1/05AbCGo3miuvS5PYLGo1G/MKEP0oikcDv99PW1sbCwgIHDhz41Lt2yW0/4vG4kncqpE4kiQm3pGQrRDJV3WAwiPUaXzBRPARBSImYrRQEISWieAiCkBJRPARBSIkoHoIgpEQUD0EQUiKKhyAIKVFWas3OztLT04Pf78dsNhOLxYjFYpjNZsLhMEtLS9x///3YbDbUarWS1qRWq7FarWi1WmRZZmVlBa/Xi8lkorCwUFkMJssys7OzLC0tYbVaycnJEX0tgiK5evns2bPMzc2RkZFBfX09LpcLvV5PJBJRul+dTicajeaqx5JlmcnJSYaGhlheXsZut1NdXY3b7WZtbY2RkRGi0SgVFRVkZGRctUUikUgQCAS4cOECo6OjaDQaampqKC8vV1LMYrEYKysrqNVq7Hb7Z//C3MSU4jE9Pc3g4CAmkwmDwUBXVxcTExMcOHAArVbL2bNnaWlpwWq1olarmZmZ4eDBg7hcLvbs2YPRaGRoaIgzZ87gdDpZXV2lt7dXSSBra2vD6/ViMBgIBoO43W4ntq0LAAAgAElEQVRaWlrE5sTCOj6fj2eeeYaHHnqI2tpaVCoVS0tLdHR00NXVRVFREfv3779m8VCpVKjVavr6+uju7mb79u3U1NQwMzPDe++9x/T0tNIr8/jjjystFFc7ViQS4eWXXyYvL4/q6mplMVoikWBgYIC2tjby8/P5sz/7s9tqoZpScjMyMti6dSv33HMPjY2NWCwWZFlm06ZN7Nmzh4ceegiLxYJarSYcDnPmzBneffddhoeHiUajeL1eTp48yejoKHV1ddhsNl544QWGh4eZmJjg4MGDhMNhqqurCYVCvP/++1y4cOHLfO7CTSQ5gq2pqcHv91NQUIDD4UCn06HRaJAkCY/Hw8jIiNLVfa1j5eXlkZWVhVarJTs7m6ysLCW0u7m5mcbGRg4dOkR3dzdra2ufeByVSoXJZKK8vBxJksjMzKSwsFAZMS8sLNDR0cF7772Hx+O57UKFlHKbm5urDBFnZmbWPSgtLY3W1la0Wi0qlYre3l58Ph9arRaNRkM8Hsfj8dDf309DQwP5+fkkEgnm5uaUGMKxsTH27t1LUVERo6OjnDt3jq6uLjZu3HjNbxHh9qLT6dBqtcp7DcBqtVJWVobb7b7uLmy1Wo1Wq0Wv1yvHc7lcFBQUkJ6eTkVFBYcOHUKW5Wt+6FUqldKndXnSejgcpr+/H7/ff9uOnpXica2momQFBpR2/dzcXBwOByqVCkmSmJ+fx+fzkZ2drcQQWiwWhoeHlb+bjCHMzMwkkUjg9XqJRCK37YsvXOlaw36VSpXyZUHyfQd/aP/Pzc1V+mJuRCKRoLe3F7/fj8vlYnp6OqVzutXd0N2WQCDAyZMncblc5OXlKZNGyT1eEomEUp2T1ToajRIOh5VvApVKhVarRa1WI0nSpw5BBeGzlEgkCAaDHD9+nK985SspBVKNj48zMDCgfA5u10ya6+6LTyQSjI2Nce7cOWZmZujq6qK3txev10t+fj6hUAidTofP51OiBgOBAA6HA5PJRH9/vxI/GAwGkSQJi8Ui7rgIX6i1tTU++OAD0tPT2b17N1ar9YZHMz09PQwMDDA7O4vf76enp4eZmRnq6upobW29bQK9P7F4JBIJZFlGluV1IwOn08m+ffuQJInl5WWsVis2mw2Xy4XD4eDSpUtMT08rMYSxWIz6+nqsVittbW2srq4SDodZXFzEaDRSWVkpMkyFdS6Pv/z4XMTlfy7LMvPz8xw+fJiamhqamprWvZeSj0seD8Dv93P27FkCgQBf+cpXyMjIYGBgAIfDQXd3t7KJWV5e3rp/9/J/M5FIUFNTQ1ZWFpIkMTg4yMjICDabjezs7Ntq/u6K4rG8vKxMZo6NjfH++++zZ88e7HY72dnZZGdn4/f7OXXqFOFwmEgkoiSPBQIBOjo6eOutt5iZmeGOO+5g06ZNpKens2vXLjweD4cPH2Z8fJyqqiqam5tvq1tbwtXJsqxsHDY7O0tbWxvl5eVUVFQot/3Pnz+PwWCgr6+P+vp6Jd+0vb2duro6pXjIsszIyAh9fX0MDAyQl5dHcXExFy9e5Nlnn8VgMHDs2DEikQilpaU8+uijBINB2tvbAZTikQwcam9vZ3R0FFmW6e/vZ9OmTZSXlzMzM8PIyAiBQABZllGr1bfVJcwVeR5ra2tMTk5y6dIlwuEw5eXllJSUKJOe8NFM8/j4OCMjI6SlpVFeXk5OTo6Sf5ocsWRnZ1NcXIxarWZ6eprp6WlisRgajYacnJzb+npRWC8ejxMMBpVvcrfbTVVVFXa7nUgkwvj4OGNjY2g0GqqqqnC73USjUd59911efvll/ud//kfJIo3H4ywsLDA0NMTi4iLZ2dkUFBSwvLzM+fPnlX9TlmVKS0upq6tjZGSEgwcP0tjYyMMPPwz8Ic7Q4/EohWvDhg3k5uYqe8CMjo4yNTWFxWKhqqoKh8Nx27ynP/MwoGRKtVqtvmIIF4/HlQp9Ow3vhM9eckXq6dOnMRqN7Ny5M+VL4Gg0yrlz51hZWaGyspKioqLP+Gz/NIkkMeGWlNwGZHFxEafT+UdNvMuyzNLSEnq9HrPZLL7YrpMoHoIgpOT2uDgTBOEzJ4qHIAgpEcVDEISUiOIhCEJKRPEQBCElygpTj8fDyZMnWVxcJDMzk2g0SiQSITMzk2AwyOzsLN/5zncwmUyMjo4SDAZJJBKYzWYleyEWizE/P8/IyIiSzXD5qj+Px8PMzAwOh4PCwkKx5Z+gkGWZubk5jh49yvj4OHa7nTvuuIPS0lLS0tJYW1tjdnYWlUpFfn7+NbcrlSSJoaEhOjs7mZubIzc3ly1btlBWVobf7+fcuXOoVCoaGhqumSQmXJvyqi0tLRGNRikvL6e2tpbl5WV6enrYsGED27ZtIxaL4fP5GBgY4OWXX+all17ilVde4dSpU8zPzxMKhejs7OT//u//WFtbo6uri2eeeYZgMIgsy/z2t7/l+PHjLC8vc+LECd566y38fv+X+dyFm4harcZiseByuTh06BAqlYrMzEy0Wi0zMzO89tpr/OhHP+LNN98kFotd81gajQaXy6U0rUWjUZxOJ16vl1dffZWRkRHeeOMN/vEf/5FLly6t2yRbuH5K+c7JyeGOO+7A4XAQCoVIS0sjHo+Tn59PZmYmjz76KHa7nampKZqamigsLMRisWAymbDb7YyPj3Pq1CkikQjNzc1cvHiRf/3Xf6W5uRmz2cyRI0e48847aWpqwu/3093djcPhYNeuXV/m8xduEiqVCqPRSH5+PrFYDIfDoSzYyszMpKioiDNnzrC0tPSpiV0qlYqsrCwyMjIwGAxkZWUpyXitra1YrVYyMzN5+umnWVlZIR6Pi4VhKVBGHjk5OZSWlpKVlXXFg3Q6HbW1tdjtdiWybWpqiqWlJYxGI0ajkbGxMQYHB3G73WRlZZGbm0swGKSjo0MZPtpsNhwOB9nZ2SwtLXHu3DkkSfrinq1w00um02k0GqVp0mAw4HA4bugSI5ljqtFolIa1zMxMysvLicfjnD9/nkceeWRdSLdwY5RX7VovoEqlUpb/mkwmFhYWmJ+f5ze/+Q1ut5uvfe1rLC0tsba2htPpVJLEMjMzGR8fJz09Ha1Wi9lsRqvVkpmZiUajYWFhgUgkIn55wnX5YzqwVSoVsiwzOjrK22+/TUdHB7IsU1lZidlsFml2KbjhmaKWlhYefPBBvvWtb7Fv3z4WFhY4deqUMn+R/AVfnjCdzFNIxsglf5bMZxCEL4JWq6WgoID9+/fzL//yL6SlpXHkyBHm5+e/7FO7Jd3wV35GRobS+tzQ0EBnZydarZaMjAz0ej1LS0tKe7XP58PtdmMymejt7SUQCCBJEn6/H1mWycrKUqIMBeHzplarMZlMmEwm8vPzKSoqIj09XdxtSdEnvmrJtvqPZ4wmg2OT8xQLCws4nU42bNhAdXU1paWleL1eotEoKysrJBIJmpqaaGlpwWKxEAgECIfDLCwsYDabqaurE5cswjqXJ9hdPiq9PBUsmerl8Xj453/+Z9566y2i0ei64yQfnzxWPB4nEokQCoWUzZwSiQTNzc1KMLJwYzRPPvnkk5f/wdzcHMePH+e3v/0tw8PDWCwW8vLysFgs+P1+/uM//oODBw/S09NDMBhk8+bNNDU14XQ60el0DA0N4fF4OHfuHBs2bOCrX/0qLpeLeDzOyMgIg4ODeL1eqqqq2L17t1jrIQAfFQ2v18tLL73EO++8g0ajoaioCJvNxvz8PMeOHVMuMVwuFy6XC7Vardx2ve+++5RRrCRJ9PT0cPDgQTo7O5U9Ybq7u/m3f/s3Lly4wKVLl2htbWXLli1YLBaRaJeCK1ryY7EYq6urrKysIEkSWVlZZGZmotPpkGVZuctitVqxWCyYzWbllxYOh1leXlbS0jMzM5WA2UAggN/vVyZIk39f/NIE+GikEIvFWFxcZHl5GbPZjN1ux2g0IssyPp8Pn8+nbOuY3Ab15MmT/PrXv+bHP/4xFotFOVYoFGJxcZFQKITJZMJqtRKJRPB6vWi1Wux2OxaLBYPBIN6DKUopzyOZBvZJL3oyLPaT9ti41s8E4UbE43EWFxdpb2+noqKC8vLy61qrkbzsEes6/ngiDEi4ZUmSRDgcxmg0imLwJRDFQxCElIh7VIIgpEQUD0EQUiKKhyAIKRHFQxCElIjiIQhCSkTxEAQhJUpjycDAAK+//jqzs7M4HA7C4TChUAin04nf72d8fJwnn3ySoqIitFotiUSCqakpRkZGyMrKoqqqCpVKxdTUFL29vdjtdrZs2aK08kuSxIULFxgfHyc3N5fKysp1+98KtzdJkpicnOSVV15haGgIt9vNgw8+SG1tLWq1mgsXLnDx4kWcTidNTU1YrdZrHqurq4tjx44xMTFBSUkJe/fupb6+nsXFRU6dOoVKpWLHjh3YbDbRGJcipbfF4/EQjUa58847aW1txePxMD4+zve//3127NjB5OQkZWVl2O12vF4vP/vZzzh//jxVVVVUV1cjy7KyVLimpobz589z6NAhmpub0Wg0PPfccwwMDGC32+no6GBwcJCSkhLR2yIAH3W8pqenYzQa+dnPfsZDDz1ES0sLKpWKgwcP8t5779Hb28sbb7zB4OAgzc3NV83gUKvVOBwOBgcHGRoaYvPmzezatYuxsTGef/554vE4x48f5xe/+AWNjY3Y7XZRQFKgjDyKi4vJy8sjIyOD5eVl5cVMS0vDbrfzzW9+E5PJxMTEBP/5n/9Ja2sr99xzDzk5OajVanp6ejh9+jR2u52dO3fidrv5m7/5G7q6usjIyOD999/nkUceYdeuXYTDYTo6Ojh9+jT33Xffl/bkhZuLRqPBarWi1+sxmUxotVpWV1dpbW3l3nvvRZZlXnrpJU6cOMHQ0BDbtm276rHS0tIwGo2YTCbS09PRaDQ4nU6+/e1vY7FYqKmp4Yc//CGRSGRd57hw/ZTiYbfbgY8Ce5aXl9c9SKPRkJ+fTzwe58c//jEZGRmUlJQQj8cJh8OkpaUxPj7OyMgIe/fuRafTkZGRgUqlorOzE4vFwurqKiaTCYPBgM1mw+/309/fz913353y7ubCn55kz1TyP7fbrfwsEolQUFBAcXGx8n69lsuPo9FoyMjIIBaL4fF4eO211/jud79LVVXVH7VJ9u1MKR7X06g2Pz9Pe3s7VquVl156iaGhIXJycvjGN76hdOFeHkNot9uZnp5mZWUFg8GwLoYwLS0Nn89HOBwWxUO4qsvfl8vLywQCAQoLCyksLLzhY4XDYS5cuMBrr71GX18fR48eRavVsnv3bsxm82d52reFG0rimZmZIRqN8s1vfpPdu3czMjLCT37yE44cOUJhYSEqlUoJCorH48RiMXQ6ndLOnxweJv//ap25gvBxkUiE3t5eotEoBw4cwGAw3PAxDAYDGzdupLGxkUgkwne/+13efvttqqurKS8v/xzO+k/bDc0S6XQ6JElidXUVWZYpLCxUNuDR6/UYDAbm5+eRZZnV1VWWl5cpLCykpKREyQmJxWLKKMXhcIgJU+FTxeNxOjo6WFlZYefOneTm5qZ8rGSqutFoJC8vj8LCwpQKkXCVkUdy1BCLxZQNcZI7dblcLsbGxlhdXVWKRkFBAS0tLUQiEaampohGoywvL6PRaGhpaSEzM5MTJ04QCARYW1tjfn6ezMxMNm7cKFqphXWSMYSyLCtRgh988AEzMzM0NDRQUlLC6Ogow8PD5OXl8V//9V/s2bOHAwcOrMvDTUYVSpKkHC8ajSLLMunp6col87Zt27DZbF/iM751XVE8pqamOHz4ML/73e+Ym5vjl7/8JY899hiFhYVYrVZ+8IMf8PTTT/OrX/2KtLQ08vPz2bZtG2VlZej1el5//XX++7//G5/Px7e//W0aGhrQ6/U89thjtLW1cf78eWRZpqWlhdbW1i/jOQs3IUmSGBsb45lnnsHj8fDyyy/jdDoJBAI89dRTtLe3K9snFBQU8Nd//de0tLSwY8cOfv7zn/PAAw8oxSMWi/Hhhx9y9OhRJaDbYrEwOTnJT3/6UzZt2kRhYSF/8Rd/QV1dnQjhTlHKSWLLy8sYDIYr0qclSSIYDKLX66+4JInFYsoEqRgqCn+stbU12traeP311/nhD3/4qZOe8XictbU1JEkSocefAREGJNySZFlmcXGRjo4Otm/fTmZmpph8/4KJ4iEIQkrEmlxBEFIiiocgCCkRxUMQhJSI4iEIQkpE8RAEISWieAiCkBJlhWksFiMYDCLLMhqNRtkaUq1Wk0gklIU1yZ3HL6fRaNDpdMoKwGg0ilqtJi0tTbn3ntyLVJIktFqt8nhBgD8sJw8Gg8RiMTQaDenp6ej1elQq1br3nVarveZ7J5FIEI1GCYVCyLKMVqvFaDSi1+uRZZlIJAJ8lPkh2iNSty6G8I033mB5eRmn08nS0hI+n4/KykoCgQDnz5/nn/7pnxgfH2dxcVH5RcbjcYqLi2loaECr1TIyMoLH48FisbBhwwZycnKUjJDBwUFmZ2ex2WxUVlbidDrFL08APlr05fV6eeWVV/jggw+orq5m37591NbWotPpmJ2d5eLFixiNRjZt2nTNDA5Zlunr6+PNN9/k0qVLVFdXc//991NRUcHExASdnZ1EIhGampooLy8Xm12nSIkhnJ6eRq/Xc9ddd7FlyxbGx8eZnp7m7/7u79i1axd+vx+73c5vfvMbxsbGmJ+fx+v10t3djVqtJj8/n/b2dg4fPkxLSwuXLl3i5ZdfZsuWLahUKp555hmmp6cpKiqiq6uL/v5+ioqKyMjI+JJfAuFmoFarMZlMZGRk8Oyzz3LgwAFaW1sxm814vV4OHjzICy+8QDAYZNu2bdfMgFGr1WRnZzMyMsLY2Bhbt27ljjvuYGJigjfffBOTyURHRwc///nP2bx5Mw6HQ3yJpWBdDGFBQQFms5n5+XnlASqVCpPJxIEDB4jFYnzve99T2phHRkb48MMPycvLY3V1lc7OTnJzc9myZQsOh4Nf/OIXSpLYmTNnePzxx9m6dSurq6ucPHmS06dPs3//flH1BeCj95rRaMRgMGAwGJSeqfz8fO666y7m5+fRaq8vgkar1Sq9V8nGt5ycHP7yL/8SnU6HzWZjYWFBZJf+EZTfxLUahdRqNU6nc92fRSIROjs7UalUFBYWcu7cOSYnJ2loaFCSxPR6Pd3d3ZjNZiKRCOnp6eh0OjIzM1lbW2NoaIhoNCq6GgXFtb5IkpGCqUjOoQSDQfr6+nj11Ve56667cLlcYtSRopTL7tDQEFNTUzgcDhwOB8FgkHg8TmZmphK2YrVaWVxcZH5+nrS0NCWI1mKxkJaWRjAYJBqNfpbPRxCuKhqNMj4+zunTp5FlmZ/+9Ke8++67+Hy+L/vUbkk3FEOYFAqFOHbsGGazWcnx0Ov1qNVqwuGwcncmHA5jMpkwGo1IkoQkScpMuCzL6HQ6UfWFL0xaWhq1tbXU1tYSi8X4q7/6Kzo7O9m6dStZWVlf9undcq468kjeqv14020ikaC7u5uxsTEKCwvJzc1Fp9PhcDjIyMhgbm4OWZbx+/0EAgFKS0uprKwkkUjg9/uVlDGAvLw8keshrPNJ77mP/yz5XzgcZmxsjKWlpav+ncvF43ElR1etVmO326moqLjq/i/CtV0x8kh+uBcWFvD5fMzNzZGVlaXcGgsGgxw6dAiXy0VFRYUyX1FSUkJDQwMzMzNMTk7i8XjIzs6mpaUFi8XC6dOnWVpaUu7iuFwuNm3aJCasBOCjwhCJRJidnVWiKoPBIOnp6UiShM/nw+fzodfr8fl86HQ6pqam+MlPfkJpaSnf+c53lPCpRCJBIBBgeXmZlZUVlpaWWFlZIRgMMjMzg91uJxKJYLFY2Lp1qwgGStEVn9yVlRWGh4dZXFxEq9Vy9uxZlpaWlJ+Pj48Ti8XYvHnzuj018vPzufPOO8nJyeHo0aP09/fzxBNPUFFRQUFBAY8++iihUIjjx48TjUbZsWMHDQ0NX8yzFG568XicpaUlzpw5g8vl4tKlS0xPTxONRllaWsLj8RAMBgmFQgwNDRGLxXA6nWzZsoUjR46smzuTZZlLly6xuLhIPB5nenqaixcvcvbsWf7f//t/PP/887S1tfHoo49SV1cnRr8puuEwoLW1NWRZxmg0fuJtM1mWCYVC6HS6K+6iSJJENBpVgpMFIVWJRIJgMEhbWxtnzpzh+9///qdefsTjcSKRCJIkYbFYvqAz/dMlksSEW1I8Hsfn83H+/HkaGhowm81ivdAXTBQPQRBSImYrBUFIiSgegiCkRBQPQRBSIoqHIAgpEcVDEISUKAs1/H4/Xq+XcDhMWlqasjlwWloasViMtbU16urqMJlMBINBVlZW0Gg0WK1W5f56PB4nFAopKwFtNpuygjS5PH1tbQ2DwYDFYrnu9mrhT18ikWBtbY3JyUlWV1cxGo243W6sVisajQZJklhbWwPAbDZfc2VyPB5nZWWFubk51tbWMJlM5OTkYLVaiUajLCwsIEkSTqcTo9F41Vu8l696Tbbvu1wunE4nKpWKlZUVpX/LYrFcs08rHo+zuLjI3Nwc0WgUi8VCTk4ORqOR1dVVQqEQ8FHncGZm5i0RUKR8ej0eD0eOHFFe1NHRUebn59mxYwfhcJj29nZ+8IMfYDKZGBgYYHV1lWAwSF5eHhs2bCArK4uZmRn6+/uVmLf8/Hzq6+vRarVcvHgRj8dDKBRCq9VSXFxMRUWFWCwmAB99uFZXV3n//fd57bXX2L59O1/72tcwmUyEw2GGh4fp7+/Hbreze/fua8Y4JBIJ5ubmeP311xkYGGDTpk3cf//9JBIJ+vr6uHDhAl6vl9raWvbs2YPdbr9qMQqFQvT09PD8889jt9v58z//cywWC16vl6GhIaanpzEajTQ2NlJTU3PVL8R4PK4kpU1NTbF9+3a++tWvEgwG+eCDDxgfH0etVqPT6bj77rspLi6+6b9clVdMp9OxadMmDhw4wL333ovdbicWi3Hvvffy+OOPc88996DT6XjzzTc5ffo0BQUFSJLE22+/zdmzZ1lYWODo0aOcOHGCkpISotEoTz31FFNTUywsLPDiiy8yOjpKbm4uY2Nj/O53v8Pj8XyJT124mWg0GhwOB1u3bmV6eprKykoKCgqU6Ibe3l4OHTpEe3v7FRm6n3SsiooKsrOzUalU5OfnU1BQwPT0NBcuXMBisRAKhfjRj37EmTNnlG/9j0uOApqamggGg2RmZlJfX49Go8Hj8Sgjg3feeYdDhw4RDoevek5arZYNGzYoI+7i4mLy8/NZWlqiv79fWV6vVqtvmU5zpbQVFBSQm5uL0Whkbm5OeUAy3enee+9Fp9Ph8XhIJBKoVCqcTidjY2NEo1EuXbrEuXPnKC4upra2lvT0dJ566iklSez8+fNs2bKF+vp65ubmePfdd+no6KC8vFw0xwnAR++1tLS0dREPANnZ2TQ3NzM8PHzdHyyNRoNer8dgMCijW5vNxte//nUyMjLYtWuX0rcVjUYxmUxXPadkq0XyEkej0bBjxw4Aent7WVxcJDc391Pfx8lzMhqN6HQ64vE4KpWKvLw8du7ciU6nw+l0YjKZbvpLFriseJjN5qs+SK1WK52Hu3fv5n//93954YUX0Ol0VFZWUlVVRW9vL7Ozs7S2tipJYkajkf7+fsxmM5IkrUsSi0ajjI6OEo1GRWOSoPi8ksTS0tJwuVzAH1rzCwsLKS4uvuH3n16vR5IkhoaGOHr0KIuLi9TV1V1XLMDl5x+Px5EkiUAgwHvvvcfc3Bx2u5377rsPt9t9049Abvgrv7i4mMrKSsbHxxkYGGBlZYVIJEIoFCKRSCg9BsnksNXVVaWFOplLmWyqC4fDxGKxz+N5CcInSk6Cfvjhh2zcuJGSkpKUYjDD4TB+v1/JQn3zzTfp6+u7oWOoVCrsdjv19fXk5uZiMBh49tlnef311wkGgzd8Tl+0G5qRCYVC/PrXv8ZgMPC3f/u3dHd309bWhsFgUGbFg8Gg8gtaW1tT7sZIkkQkEiEejxMOh5XO3GulYAvCZy0SidDf38/MzAwPPvggTqczpctmm83Grl272LlzJzabjaNHjzI+Pk5ra+t1H0Oj0ZCbm0tubi4A27dvZ2xsjO7ubuXy6mb2ia9aIpFQhnbJoVjyVmt7ezsOh0PZC6OkpIS1tTWysrJwOBzMzMwgSRJ+v59QKER1dTV1dXVotVpWV1eJRCIsLS0pk0bibotwuY+nhV3tZ8mu2vfee4+RkZFPnET9+HGSWSCDg4Ps3bsXl8vF7Owsfr+f3t5eenp6lJS7TzpO8vMgyzKxWEz5jOj1egoKCigoKGBubo62tjbGxsY+9bkl4zolSVIek56eTm1t7S3xubhi5BEMBhkfH1fCWAYGBjCZTJjNZtLT06moqGB0dJTe3l4kScLhcFBRUUFdXR3Ly8tK6MrExATV1dVs3rwZs9lMV1cX09PTys+KiorYvHmzmCwVgD/cqu3v72dlZYWLFy/S2NiI0WgkHA4zMTHB5OQkaWlpTE5OUlRUhM/n4/Dhw2i1WmUZQfJYs7OzTExMMDU1xdjYGOPj43g8Hl588UUyMjKQJInjx48DcNddd3H27FkuXrzI3r17ufPOO4GPPuyhUIiRkRHm5uYYHR1lcnISs9lMb28vGo0Gs9lMNBpl48aNVFRUMD09zaFDh7DZbPz93//9uuc3NTXF5OQkExMTjI2NMTU1xdzcHCMjI8rmaFlZWdx3331XncC9mVxRPJIVtaSkBIfDQTgcVm4jWSwWvvWtb9HR0cH8/Dw6nY4tW7ZQVVWFzWbjjjvuwGw2MzMzQyKR4IknnqCwsBCtVsu+ffsYHh5mfn6e3NxciouLKS8v/8KfsHDzSm5H+sADD5CZmYkkScTjcaLRKBqNhurqavR6vXJrNSsri40bN/LSSy+tG6RUUxsAAAkVSURBVHkkF5y53W6am5ux2WzKAsXkJXTyy6+lpQWr1UpNTQ0DAwPr9ixKnlMkEmHXrl3KFiIajYbx8XEkSSI3N5eKigpKS0uxWq3IskxFRQUffPDBuuMkoxHLysrIyMjAYrEoiy2Hh4cJBALk5uayf/9+SkpKbokv1ZTyPJIrTvV6PWlpaeueaDKtKbkf7eWSwz2tVnvTL4ARbm7Jy+i2tjbm5ub4+te/nvJdO0mS6OvrY3h4mMrKyuuKx0wWOp1Op7yX4/E4CwsLdHZ2sra2xoEDBz71OPF4XPnCTmaw3ipEGJBwS4rH4wSDQTweD2VlZddcZv5pYrEYExMTGI1GHA5HypP4ly+LLyoquuWKwY0SxUMQhJTc/BdWgiDclETxEAQhJaJ4CIKQElE8BEFIiSgegiCkRBQPQRBSoqzUmpubo6+vD7/fj9lsJhaLEYvFMJvNhMNhVlZWuPfee8nKymJhYYGZmRkMBgMulwuLxYJKpUKWZXw+H9PT06Snp1NQULBuAc3s7CzLy8tYrVacTuctsX5f+GIke1XOnTvH3NwcGRkZ1NXV4XK50Ol0RCIRVlZWAD61mS0ejzM5Ocnw8DArKyvYbDYqKytxu90Eg0ElCiK52vNqx0puaTkwMMDY2BgajYaqqipKS0tRq9V4vV5WV1ex2WxkZ2ffdgsflWfr9Xo5f/48RqMRjUaj9KDs37+fRCJBe3s7TU1NjIyMMDMzg8lkwuv1kp6eTnNzM263m+HhYbq6urDZbKyurtLX18fdd9+NXq/n9OnTeL1e9Ho9a2tr5Obm0tzc/Kn7iwq3j0QiwcLCAk8//TQPPPAAlZWVACwvL9PZ2UlXVxdFRUU8/PDD17WatLu7m3PnzrFt2zYqKiqYmZnh/fffx+v1Mjw8TG5uLo899hgFBQXXzM4IBoO88MIL5OXlUVpaqixvHx8fZ3p6mkgkQlNTE7t27bqtvhCV4pGRkUFLS4vSHjw8PIwsy2zevJmMjAwlAOXFF1+kqamJTZs2EQqFOHbsGKFQiObmZk6ePMn09DRPPPEEQ0NDPPfcc5SVlWE2mzl48CC1tbVs2LCBU6dOcfLkScxmM01NTV/akxduHmq1Whlt+Hw+CgoKcDqd6HQ61Go1kUiE4eFhotEo8Xj8U4+Vn5+PzWZDq9WSk5ODzWZjbGwMvV7Pxo0b0el0/PKXv6Smpga73f6JG1+rVCpMJhOVlZVIkoTVaqW4uBi1Wo1arVa6wpPZv62trbdV8VDGa263mw0bNihpS5dLS0tj27ZtyLJMd3c3er2ejIwMqquricfjDAwM0NXVRV9fH263m8LCQiorK5mdnaWjo4MzZ84wOjqKy+WipKSEvLw85ufn6erq+tQ8SuH2kYz8S/ZFJZebW61WysvLycvLu+6GMbVajVarRa/XK71ULpeLvXv3smvXLvbv34/T6VSa7651ThqNRokiTJ5jY2Mj1dXVmEwmSktLqa+vv60KB1w28rjWOvxkBbZarajVarq7u6mvr0eSJKXjdmZmhpWVFXJyclCr1VgsFiwWC8PDw0p7sclkUmIIky3KkUhEXLoIis8rhjD5voM/tP/n5uZSUlJyww11Wq2WQCBAd3c3R48eZXp6GpvNRjAYTCmV7FZ13XdbVCoVLpeLb3zjG/h8Pl599VXeeecd5ufnlUSwRCKBXq9fV62TEYXJb4Jk5U7uxfFpQ1BB+CwlJ0FPnDjBnj17Ug6k0mq1ZGdnc+edd+J0Omlra+Ps2bOfwxnfvG5oethgMPDII49QW1vLysoKZ86cwWQyUV1drYQb+/1+JWowEAhgt9sxmUz09/cTCoWQZZlgMIgkSVgsFhFDKHyh1tbWOH36NGlpaezZs4fMzMyURjNms5na2lpqamqUYuT3+z+HM755XTWGMLlj3MdHBllZWWzbto2CggKi0SgNDQ1s375dmcuYnp5GkiRWVlaIxWLU19ezceNGDAYDgUBAiSE0GAxi0yfhCpfHX3684fvyP4/H48zMzPCrX/2Kjo6OdVF+sD46MPkeXl1dpaurC5/Px1133YXVamVoaIi5uTl+//vfc+TIEbxe7xXnlDyWLMtKdGAkElHyaeCjDc4qKio+p1fl5nTFyGN5eZne3l7Onj3L2NgYp06dYs+ePdhsNhKJBBMTE/T29jIyMkJZWRktLS0UFRURCATYunUrnZ2dvP3228zMzLBjxw6amppIT09n586deDwe3n77bcbGxqiqqqK5ufmW2J9C+PzJsszi4iInTpxgdnaW9vZ2KioqKC8vJxAI0N/fz4ULFzAYDPT397Nhwwbl/djW1kZNTY2yfYgsy4yOjtLf38/g4CAFBQWUlpZy8eJFnnvuOYxGI6dOnSIcDlNUVMSBAwfw+Xx8+OGHxONx5Y5jMnCoo6ND2a/o/PnzWCwWjh07hlqtxuFwoFar2blzJ6WlpV/mS/iF0zz55JNPXv4H8XgcjUZDXl4ezc3NVFRUKAu6EomEEtNWWFjI5s2bKSgoUGaiHQ4H2dnZGI1GnE4nO3bsID8/H4PBgNvtJjMzk/T0dAoLC2lsbLyh2XPhT1/yvdfY2EhjYyOFhYWYTCYSiQQ6nY6ioiIaGxspKioiMzMTjUZDIBDgzJkz3H///esmKyVJIisriw0bNih3EZPvy6qqKnJzc8nPz2fjxo2UlpaiUqm4dOmSEu59+TkBVFRU0NzcTHl5ubIPkdlsxu12U1VVRVlZ2W038X9DYUDJbMjk7a9PGjUkEglisRgajeaKhTfxeBxZlm+pLfWEm1Mytev06dPo9fo/aoFWNBqlp6eHpaUlKioqKCkp+dS/k7ys/6T3+e1CJIkJt6Tk3kDz8/Pk5OSsWxdyo5KXTHq9/lN3uxf+QBQPQRBSIiYcBEFIiSgegiCkRBQPQRBSIoqHIAgpEcVDEISUiOIhCEJKlOXp//7v/67sGi4Iwu3ne9/7Hvfdd991P14pHj09PRw+fPhzOSlBEG5+Dz/88A09Xly2CIKQEmWF6YULF5idnf2yz0cQhC9JZWWl0lF8PcTydEEQUiIuWwRBSIkoHoIgpEQUD0EQUiKKhyAIKRHFQxCElIjiIQhCSkTxEAQhJf8f11sDrjXYT3MAAAAASUVORK5CYII=)"
      ],
      "metadata": {
        "id": "it49Si-0eLlF"
      }
    },
    {
      "cell_type": "code",
      "source": [
        "data = {\n",
        "    'T100': {'I1', 'I2', 'I5'},\n",
        "    'T200': {'I2', 'I4'},\n",
        "    'T300': {'I2', 'I3'},\n",
        "    'T400': {'I1', 'I2', 'I4'},\n",
        "    'T500': {'I1', 'I3'},\n",
        "    'T600': {'I2', 'I3'},\n",
        "    'T700': {'I1', 'I3'},\n",
        "    'T800': {'I1', 'I2', 'I3', 'I5'},\n",
        "    'T900': {'I1', 'I2', 'I3'},\n",
        "}\n",
        "\n",
        "n = 9\n",
        "support_threshold = 2/9\n",
        "confidence_threshold = 0.7\n",
        "support_val = 2"
      ],
      "metadata": {
        "id": "g2qBBjtcmn5r"
      },
      "execution_count": 90,
      "outputs": []
    },
    {
      "cell_type": "code",
      "source": [
        "i = 1\n",
        "lk = defaultdict()\n",
        "lks = []\n",
        "while(1):\n",
        "  if i==1: \n",
        "    ck = generate_candidate_set1()\n",
        "  else:\n",
        "    if len(lk)>1:\n",
        "      ck = generate_candidate_setk(lk, i)\n",
        "    else:\n",
        "      break\n",
        "  lk = generate_lk(ck)\n",
        "  lks.append(dict(lk))\n",
        "  i += 1"
      ],
      "metadata": {
        "id": "_QHdNZwqrNZ2"
      },
      "execution_count": 91,
      "outputs": []
    },
    {
      "cell_type": "code",
      "source": [
        "print_lks(lks)"
      ],
      "metadata": {
        "colab": {
          "base_uri": "https://localhost:8080/"
        },
        "id": "qQcXBci9rRCm",
        "outputId": "1887914b-29e9-4672-ecd2-7ada12f75026"
      },
      "execution_count": 92,
      "outputs": [
        {
          "output_type": "stream",
          "name": "stdout",
          "text": [
            "Frequent itemsets are:\n",
            "L1 :\n",
            "('I2',) : 7\n",
            "('I5',) : 2\n",
            "('I1',) : 6\n",
            "('I4',) : 2\n",
            "('I3',) : 6\n",
            "\n",
            "L2 :\n",
            "('I2', 'I5') : 2\n",
            "('I1', 'I2') : 4\n",
            "('I2', 'I4') : 2\n",
            "('I2', 'I3') : 4\n",
            "('I1', 'I5') : 2\n",
            "('I1', 'I3') : 4\n",
            "\n",
            "L3 :\n",
            "('I1', 'I2', 'I5') : 2\n",
            "('I1', 'I2', 'I3') : 2\n",
            "\n",
            "L4 :\n",
            "\n"
          ]
        }
      ]
    },
    {
      "cell_type": "code",
      "source": [
        "association_rules = []\n",
        "for lk in lks:\n",
        "  for itemset in lk.keys():\n",
        "    if len(itemset)>1:\n",
        "      association_rules.extend(get_rules_itemset(itemset, lk[itemset], confidence_threshold))\n",
        "\n",
        "print('Association rules which satisfy threshold confidence')\n",
        "for rule in association_rules:\n",
        "  print(rule[0],'=> ',rule[1], rule[2])\n",
        "\n",
        "print('\\nTotal no. of associations:',len(association_rules))"
      ],
      "metadata": {
        "colab": {
          "base_uri": "https://localhost:8080/"
        },
        "id": "KwpRPh2brPMc",
        "outputId": "08eb9eb3-0429-4585-8601-8638e4a13f39"
      },
      "execution_count": 93,
      "outputs": [
        {
          "output_type": "stream",
          "name": "stdout",
          "text": [
            "Association rules which satisfy threshold confidence\n",
            "{'I5'} =>  {'I2'} 1.0\n",
            "{'I4'} =>  {'I2'} 1.0\n",
            "{'I5'} =>  {'I1'} 1.0\n",
            "{'I5'} =>  {'I2', 'I1'} 1.0\n",
            "{'I5', 'I1'} =>  {'I2'} 1.0\n",
            "{'I2', 'I5'} =>  {'I1'} 1.0\n",
            "\n",
            "Total no. of associations: 6\n"
          ]
        }
      ]
    },
    {
      "cell_type": "code",
      "source": [
        "#Varying the support and confidence thresholds\n",
        "n = 9\n",
        "support_threshold = 3/9\n",
        "confidence_threshold = 0.5\n",
        "support_val = 3\n",
        "\n",
        "i = 1\n",
        "lk = defaultdict()\n",
        "lks = []\n",
        "while(1):\n",
        "  if i==1: \n",
        "    ck = generate_candidate_set1()\n",
        "  else:\n",
        "    if len(lk)>1:\n",
        "      ck = generate_candidate_setk(lk, i)\n",
        "    else:\n",
        "      break\n",
        "  lk = generate_lk(ck)\n",
        "  lks.append(dict(lk))\n",
        "  i += 1\n",
        "\n",
        "print_lks(lks)\n",
        "\n",
        "association_rules = []\n",
        "for lk in lks:\n",
        "  for itemset in lk.keys():\n",
        "    if len(itemset)>1:\n",
        "      association_rules.extend(get_rules_itemset(itemset, lk[itemset], confidence_threshold))\n",
        "\n",
        "print('Association rules which satisfy threshold confidence')\n",
        "for rule in association_rules:\n",
        "  print(rule[0],'=> ',rule[1], rule[2])\n",
        "\n",
        "print('\\nTotal no. of associations:',len(association_rules))"
      ],
      "metadata": {
        "colab": {
          "base_uri": "https://localhost:8080/"
        },
        "id": "J2l-flVDrhDE",
        "outputId": "746b1676-e4e5-4c1d-d781-7a80962e9dfe"
      },
      "execution_count": 94,
      "outputs": [
        {
          "output_type": "stream",
          "name": "stdout",
          "text": [
            "Frequent itemsets are:\n",
            "L1 :\n",
            "('I2',) : 7\n",
            "('I1',) : 6\n",
            "('I3',) : 6\n",
            "\n",
            "L2 :\n",
            "('I1', 'I2') : 4\n",
            "('I2', 'I3') : 4\n",
            "('I1', 'I3') : 4\n",
            "\n",
            "L3 :\n",
            "\n",
            "Association rules which satisfy threshold confidence\n",
            "{'I1'} =>  {'I2'} 0.6666666666666666\n",
            "{'I2'} =>  {'I1'} 0.5714285714285714\n",
            "{'I2'} =>  {'I3'} 0.5714285714285714\n",
            "{'I3'} =>  {'I2'} 0.6666666666666666\n",
            "{'I1'} =>  {'I3'} 0.6666666666666666\n",
            "{'I3'} =>  {'I1'} 0.6666666666666666\n",
            "\n",
            "Total no. of associations: 6\n"
          ]
        }
      ]
    },
    {
      "cell_type": "markdown",
      "source": [
        "### Q3. SPECT Data (First 20 rows and 5 columns)"
      ],
      "metadata": {
        "id": "GjtiP34CpI7B"
      }
    },
    {
      "cell_type": "code",
      "source": [
        "!wget 'https://archive.ics.uci.edu/ml/machine-learning-databases/spect/SPECT.train'"
      ],
      "metadata": {
        "colab": {
          "base_uri": "https://localhost:8080/"
        },
        "id": "-DsQdRJFtJVk",
        "outputId": "b68e4437-b1a5-4ee2-876d-1dad73ea6766"
      },
      "execution_count": 95,
      "outputs": [
        {
          "output_type": "stream",
          "name": "stdout",
          "text": [
            "--2023-02-08 06:34:58--  https://archive.ics.uci.edu/ml/machine-learning-databases/spect/SPECT.train\n",
            "Resolving archive.ics.uci.edu (archive.ics.uci.edu)... 128.195.10.252\n",
            "Connecting to archive.ics.uci.edu (archive.ics.uci.edu)|128.195.10.252|:443... connected.\n",
            "HTTP request sent, awaiting response... 200 OK\n",
            "Length: 3758 (3.7K) [application/x-httpd-php]\n",
            "Saving to: ‘SPECT.train.3’\n",
            "\n",
            "SPECT.train.3       100%[===================>]   3.67K  --.-KB/s    in 0s      \n",
            "\n",
            "2023-02-08 06:34:58 (267 MB/s) - ‘SPECT.train.3’ saved [3758/3758]\n",
            "\n"
          ]
        }
      ]
    },
    {
      "cell_type": "code",
      "source": [
        "df = pd.read_csv('SPECT.train',header=None)\n",
        "df"
      ],
      "metadata": {
        "colab": {
          "base_uri": "https://localhost:8080/",
          "height": 424
        },
        "id": "Y6lpu-v6vE_w",
        "outputId": "b2472d00-3b75-4186-dfff-9ed88eb1d570"
      },
      "execution_count": 96,
      "outputs": [
        {
          "output_type": "execute_result",
          "data": {
            "text/plain": [
              "    0   1   2   3   4   5   6   7   8   9   ...  13  14  15  16  17  18  19  \\\n",
              "0    1   0   0   0   1   0   0   0   1   1  ...   1   1   0   0   0   0   0   \n",
              "1    1   0   0   1   1   0   0   0   1   1  ...   1   1   0   0   0   0   0   \n",
              "2    1   1   0   1   0   1   0   0   1   0  ...   1   0   0   0   0   0   0   \n",
              "3    1   0   0   0   0   0   0   0   0   0  ...   0   0   0   0   0   0   0   \n",
              "4    1   0   0   0   0   0   0   0   1   0  ...   1   0   1   1   0   0   0   \n",
              "..  ..  ..  ..  ..  ..  ..  ..  ..  ..  ..  ...  ..  ..  ..  ..  ..  ..  ..   \n",
              "75   0   1   0   0   0   1   0   0   0   0  ...   0   0   0   0   0   0   0   \n",
              "76   0   1   0   0   0   1   1   0   0   1  ...   0   1   0   0   0   0   1   \n",
              "77   0   1   0   0   0   1   0   0   0   0  ...   0   0   0   0   0   0   1   \n",
              "78   0   0   0   1   1   0   0   1   0   0  ...   1   1   0   0   0   0   0   \n",
              "79   0   1   0   0   0   1   0   0   0   0  ...   0   0   0   0   0   0   0   \n",
              "\n",
              "    20  21  22  \n",
              "0    0   0   0  \n",
              "1    0   0   1  \n",
              "2    0   0   0  \n",
              "3    1   1   1  \n",
              "4    0   0   0  \n",
              "..  ..  ..  ..  \n",
              "75   0   0   0  \n",
              "76   1   0   0  \n",
              "77   0   0   0  \n",
              "78   0   1   1  \n",
              "79   0   0   0  \n",
              "\n",
              "[80 rows x 23 columns]"
            ],
            "text/html": [
              "\n",
              "  <div id=\"df-2487e17e-ec9f-4f0f-88bd-2d9a07a9fb09\">\n",
              "    <div class=\"colab-df-container\">\n",
              "      <div>\n",
              "<style scoped>\n",
              "    .dataframe tbody tr th:only-of-type {\n",
              "        vertical-align: middle;\n",
              "    }\n",
              "\n",
              "    .dataframe tbody tr th {\n",
              "        vertical-align: top;\n",
              "    }\n",
              "\n",
              "    .dataframe thead th {\n",
              "        text-align: right;\n",
              "    }\n",
              "</style>\n",
              "<table border=\"1\" class=\"dataframe\">\n",
              "  <thead>\n",
              "    <tr style=\"text-align: right;\">\n",
              "      <th></th>\n",
              "      <th>0</th>\n",
              "      <th>1</th>\n",
              "      <th>2</th>\n",
              "      <th>3</th>\n",
              "      <th>4</th>\n",
              "      <th>5</th>\n",
              "      <th>6</th>\n",
              "      <th>7</th>\n",
              "      <th>8</th>\n",
              "      <th>9</th>\n",
              "      <th>...</th>\n",
              "      <th>13</th>\n",
              "      <th>14</th>\n",
              "      <th>15</th>\n",
              "      <th>16</th>\n",
              "      <th>17</th>\n",
              "      <th>18</th>\n",
              "      <th>19</th>\n",
              "      <th>20</th>\n",
              "      <th>21</th>\n",
              "      <th>22</th>\n",
              "    </tr>\n",
              "  </thead>\n",
              "  <tbody>\n",
              "    <tr>\n",
              "      <th>0</th>\n",
              "      <td>1</td>\n",
              "      <td>0</td>\n",
              "      <td>0</td>\n",
              "      <td>0</td>\n",
              "      <td>1</td>\n",
              "      <td>0</td>\n",
              "      <td>0</td>\n",
              "      <td>0</td>\n",
              "      <td>1</td>\n",
              "      <td>1</td>\n",
              "      <td>...</td>\n",
              "      <td>1</td>\n",
              "      <td>1</td>\n",
              "      <td>0</td>\n",
              "      <td>0</td>\n",
              "      <td>0</td>\n",
              "      <td>0</td>\n",
              "      <td>0</td>\n",
              "      <td>0</td>\n",
              "      <td>0</td>\n",
              "      <td>0</td>\n",
              "    </tr>\n",
              "    <tr>\n",
              "      <th>1</th>\n",
              "      <td>1</td>\n",
              "      <td>0</td>\n",
              "      <td>0</td>\n",
              "      <td>1</td>\n",
              "      <td>1</td>\n",
              "      <td>0</td>\n",
              "      <td>0</td>\n",
              "      <td>0</td>\n",
              "      <td>1</td>\n",
              "      <td>1</td>\n",
              "      <td>...</td>\n",
              "      <td>1</td>\n",
              "      <td>1</td>\n",
              "      <td>0</td>\n",
              "      <td>0</td>\n",
              "      <td>0</td>\n",
              "      <td>0</td>\n",
              "      <td>0</td>\n",
              "      <td>0</td>\n",
              "      <td>0</td>\n",
              "      <td>1</td>\n",
              "    </tr>\n",
              "    <tr>\n",
              "      <th>2</th>\n",
              "      <td>1</td>\n",
              "      <td>1</td>\n",
              "      <td>0</td>\n",
              "      <td>1</td>\n",
              "      <td>0</td>\n",
              "      <td>1</td>\n",
              "      <td>0</td>\n",
              "      <td>0</td>\n",
              "      <td>1</td>\n",
              "      <td>0</td>\n",
              "      <td>...</td>\n",
              "      <td>1</td>\n",
              "      <td>0</td>\n",
              "      <td>0</td>\n",
              "      <td>0</td>\n",
              "      <td>0</td>\n",
              "      <td>0</td>\n",
              "      <td>0</td>\n",
              "      <td>0</td>\n",
              "      <td>0</td>\n",
              "      <td>0</td>\n",
              "    </tr>\n",
              "    <tr>\n",
              "      <th>3</th>\n",
              "      <td>1</td>\n",
              "      <td>0</td>\n",
              "      <td>0</td>\n",
              "      <td>0</td>\n",
              "      <td>0</td>\n",
              "      <td>0</td>\n",
              "      <td>0</td>\n",
              "      <td>0</td>\n",
              "      <td>0</td>\n",
              "      <td>0</td>\n",
              "      <td>...</td>\n",
              "      <td>0</td>\n",
              "      <td>0</td>\n",
              "      <td>0</td>\n",
              "      <td>0</td>\n",
              "      <td>0</td>\n",
              "      <td>0</td>\n",
              "      <td>0</td>\n",
              "      <td>1</td>\n",
              "      <td>1</td>\n",
              "      <td>1</td>\n",
              "    </tr>\n",
              "    <tr>\n",
              "      <th>4</th>\n",
              "      <td>1</td>\n",
              "      <td>0</td>\n",
              "      <td>0</td>\n",
              "      <td>0</td>\n",
              "      <td>0</td>\n",
              "      <td>0</td>\n",
              "      <td>0</td>\n",
              "      <td>0</td>\n",
              "      <td>1</td>\n",
              "      <td>0</td>\n",
              "      <td>...</td>\n",
              "      <td>1</td>\n",
              "      <td>0</td>\n",
              "      <td>1</td>\n",
              "      <td>1</td>\n",
              "      <td>0</td>\n",
              "      <td>0</td>\n",
              "      <td>0</td>\n",
              "      <td>0</td>\n",
              "      <td>0</td>\n",
              "      <td>0</td>\n",
              "    </tr>\n",
              "    <tr>\n",
              "      <th>...</th>\n",
              "      <td>...</td>\n",
              "      <td>...</td>\n",
              "      <td>...</td>\n",
              "      <td>...</td>\n",
              "      <td>...</td>\n",
              "      <td>...</td>\n",
              "      <td>...</td>\n",
              "      <td>...</td>\n",
              "      <td>...</td>\n",
              "      <td>...</td>\n",
              "      <td>...</td>\n",
              "      <td>...</td>\n",
              "      <td>...</td>\n",
              "      <td>...</td>\n",
              "      <td>...</td>\n",
              "      <td>...</td>\n",
              "      <td>...</td>\n",
              "      <td>...</td>\n",
              "      <td>...</td>\n",
              "      <td>...</td>\n",
              "      <td>...</td>\n",
              "    </tr>\n",
              "    <tr>\n",
              "      <th>75</th>\n",
              "      <td>0</td>\n",
              "      <td>1</td>\n",
              "      <td>0</td>\n",
              "      <td>0</td>\n",
              "      <td>0</td>\n",
              "      <td>1</td>\n",
              "      <td>0</td>\n",
              "      <td>0</td>\n",
              "      <td>0</td>\n",
              "      <td>0</td>\n",
              "      <td>...</td>\n",
              "      <td>0</td>\n",
              "      <td>0</td>\n",
              "      <td>0</td>\n",
              "      <td>0</td>\n",
              "      <td>0</td>\n",
              "      <td>0</td>\n",
              "      <td>0</td>\n",
              "      <td>0</td>\n",
              "      <td>0</td>\n",
              "      <td>0</td>\n",
              "    </tr>\n",
              "    <tr>\n",
              "      <th>76</th>\n",
              "      <td>0</td>\n",
              "      <td>1</td>\n",
              "      <td>0</td>\n",
              "      <td>0</td>\n",
              "      <td>0</td>\n",
              "      <td>1</td>\n",
              "      <td>1</td>\n",
              "      <td>0</td>\n",
              "      <td>0</td>\n",
              "      <td>1</td>\n",
              "      <td>...</td>\n",
              "      <td>0</td>\n",
              "      <td>1</td>\n",
              "      <td>0</td>\n",
              "      <td>0</td>\n",
              "      <td>0</td>\n",
              "      <td>0</td>\n",
              "      <td>1</td>\n",
              "      <td>1</td>\n",
              "      <td>0</td>\n",
              "      <td>0</td>\n",
              "    </tr>\n",
              "    <tr>\n",
              "      <th>77</th>\n",
              "      <td>0</td>\n",
              "      <td>1</td>\n",
              "      <td>0</td>\n",
              "      <td>0</td>\n",
              "      <td>0</td>\n",
              "      <td>1</td>\n",
              "      <td>0</td>\n",
              "      <td>0</td>\n",
              "      <td>0</td>\n",
              "      <td>0</td>\n",
              "      <td>...</td>\n",
              "      <td>0</td>\n",
              "      <td>0</td>\n",
              "      <td>0</td>\n",
              "      <td>0</td>\n",
              "      <td>0</td>\n",
              "      <td>0</td>\n",
              "      <td>1</td>\n",
              "      <td>0</td>\n",
              "      <td>0</td>\n",
              "      <td>0</td>\n",
              "    </tr>\n",
              "    <tr>\n",
              "      <th>78</th>\n",
              "      <td>0</td>\n",
              "      <td>0</td>\n",
              "      <td>0</td>\n",
              "      <td>1</td>\n",
              "      <td>1</td>\n",
              "      <td>0</td>\n",
              "      <td>0</td>\n",
              "      <td>1</td>\n",
              "      <td>0</td>\n",
              "      <td>0</td>\n",
              "      <td>...</td>\n",
              "      <td>1</td>\n",
              "      <td>1</td>\n",
              "      <td>0</td>\n",
              "      <td>0</td>\n",
              "      <td>0</td>\n",
              "      <td>0</td>\n",
              "      <td>0</td>\n",
              "      <td>0</td>\n",
              "      <td>1</td>\n",
              "      <td>1</td>\n",
              "    </tr>\n",
              "    <tr>\n",
              "      <th>79</th>\n",
              "      <td>0</td>\n",
              "      <td>1</td>\n",
              "      <td>0</td>\n",
              "      <td>0</td>\n",
              "      <td>0</td>\n",
              "      <td>1</td>\n",
              "      <td>0</td>\n",
              "      <td>0</td>\n",
              "      <td>0</td>\n",
              "      <td>0</td>\n",
              "      <td>...</td>\n",
              "      <td>0</td>\n",
              "      <td>0</td>\n",
              "      <td>0</td>\n",
              "      <td>0</td>\n",
              "      <td>0</td>\n",
              "      <td>0</td>\n",
              "      <td>0</td>\n",
              "      <td>0</td>\n",
              "      <td>0</td>\n",
              "      <td>0</td>\n",
              "    </tr>\n",
              "  </tbody>\n",
              "</table>\n",
              "<p>80 rows × 23 columns</p>\n",
              "</div>\n",
              "      <button class=\"colab-df-convert\" onclick=\"convertToInteractive('df-2487e17e-ec9f-4f0f-88bd-2d9a07a9fb09')\"\n",
              "              title=\"Convert this dataframe to an interactive table.\"\n",
              "              style=\"display:none;\">\n",
              "        \n",
              "  <svg xmlns=\"http://www.w3.org/2000/svg\" height=\"24px\"viewBox=\"0 0 24 24\"\n",
              "       width=\"24px\">\n",
              "    <path d=\"M0 0h24v24H0V0z\" fill=\"none\"/>\n",
              "    <path d=\"M18.56 5.44l.94 2.06.94-2.06 2.06-.94-2.06-.94-.94-2.06-.94 2.06-2.06.94zm-11 1L8.5 8.5l.94-2.06 2.06-.94-2.06-.94L8.5 2.5l-.94 2.06-2.06.94zm10 10l.94 2.06.94-2.06 2.06-.94-2.06-.94-.94-2.06-.94 2.06-2.06.94z\"/><path d=\"M17.41 7.96l-1.37-1.37c-.4-.4-.92-.59-1.43-.59-.52 0-1.04.2-1.43.59L10.3 9.45l-7.72 7.72c-.78.78-.78 2.05 0 2.83L4 21.41c.39.39.9.59 1.41.59.51 0 1.02-.2 1.41-.59l7.78-7.78 2.81-2.81c.8-.78.8-2.07 0-2.86zM5.41 20L4 18.59l7.72-7.72 1.47 1.35L5.41 20z\"/>\n",
              "  </svg>\n",
              "      </button>\n",
              "      \n",
              "  <style>\n",
              "    .colab-df-container {\n",
              "      display:flex;\n",
              "      flex-wrap:wrap;\n",
              "      gap: 12px;\n",
              "    }\n",
              "\n",
              "    .colab-df-convert {\n",
              "      background-color: #E8F0FE;\n",
              "      border: none;\n",
              "      border-radius: 50%;\n",
              "      cursor: pointer;\n",
              "      display: none;\n",
              "      fill: #1967D2;\n",
              "      height: 32px;\n",
              "      padding: 0 0 0 0;\n",
              "      width: 32px;\n",
              "    }\n",
              "\n",
              "    .colab-df-convert:hover {\n",
              "      background-color: #E2EBFA;\n",
              "      box-shadow: 0px 1px 2px rgba(60, 64, 67, 0.3), 0px 1px 3px 1px rgba(60, 64, 67, 0.15);\n",
              "      fill: #174EA6;\n",
              "    }\n",
              "\n",
              "    [theme=dark] .colab-df-convert {\n",
              "      background-color: #3B4455;\n",
              "      fill: #D2E3FC;\n",
              "    }\n",
              "\n",
              "    [theme=dark] .colab-df-convert:hover {\n",
              "      background-color: #434B5C;\n",
              "      box-shadow: 0px 1px 3px 1px rgba(0, 0, 0, 0.15);\n",
              "      filter: drop-shadow(0px 1px 2px rgba(0, 0, 0, 0.3));\n",
              "      fill: #FFFFFF;\n",
              "    }\n",
              "  </style>\n",
              "\n",
              "      <script>\n",
              "        const buttonEl =\n",
              "          document.querySelector('#df-2487e17e-ec9f-4f0f-88bd-2d9a07a9fb09 button.colab-df-convert');\n",
              "        buttonEl.style.display =\n",
              "          google.colab.kernel.accessAllowed ? 'block' : 'none';\n",
              "\n",
              "        async function convertToInteractive(key) {\n",
              "          const element = document.querySelector('#df-2487e17e-ec9f-4f0f-88bd-2d9a07a9fb09');\n",
              "          const dataTable =\n",
              "            await google.colab.kernel.invokeFunction('convertToInteractive',\n",
              "                                                     [key], {});\n",
              "          if (!dataTable) return;\n",
              "\n",
              "          const docLinkHtml = 'Like what you see? Visit the ' +\n",
              "            '<a target=\"_blank\" href=https://colab.research.google.com/notebooks/data_table.ipynb>data table notebook</a>'\n",
              "            + ' to learn more about interactive tables.';\n",
              "          element.innerHTML = '';\n",
              "          dataTable['output_type'] = 'display_data';\n",
              "          await google.colab.output.renderOutput(dataTable, element);\n",
              "          const docLink = document.createElement('div');\n",
              "          docLink.innerHTML = docLinkHtml;\n",
              "          element.appendChild(docLink);\n",
              "        }\n",
              "      </script>\n",
              "    </div>\n",
              "  </div>\n",
              "  "
            ]
          },
          "metadata": {},
          "execution_count": 96
        }
      ]
    },
    {
      "cell_type": "code",
      "source": [
        "data = {}\n",
        "for i in range(20):\n",
        "  data['T'+str(i+1)] = set()\n",
        "\n",
        "for i in range(20):\n",
        "  for j in range(1,6):\n",
        "     if df.iloc[i][j]==1:\n",
        "       data['T'+str(i+1)].add('C'+str(j))\n",
        "\n",
        "for key in data.keys():\n",
        "  print(key,':',data[key])\n",
        "\n",
        "\n",
        "n = 20\n",
        "support_threshold = 0.6\n",
        "confidence_threshold = 0.7\n",
        "support_val = 12"
      ],
      "metadata": {
        "colab": {
          "base_uri": "https://localhost:8080/"
        },
        "id": "zPUUPUQWvPOg",
        "outputId": "6339688e-f014-45d8-c1d9-1ec58c7fe315"
      },
      "execution_count": 97,
      "outputs": [
        {
          "output_type": "stream",
          "name": "stdout",
          "text": [
            "T1 : {'C4'}\n",
            "T2 : {'C4', 'C3'}\n",
            "T3 : {'C1', 'C5', 'C3'}\n",
            "T4 : set()\n",
            "T5 : set()\n",
            "T6 : {'C4'}\n",
            "T7 : {'C1', 'C4', 'C3'}\n",
            "T8 : {'C3'}\n",
            "T9 : {'C3'}\n",
            "T10 : {'C2'}\n",
            "T11 : {'C1', 'C5', 'C2'}\n",
            "T12 : {'C1', 'C5', 'C2'}\n",
            "T13 : {'C1', 'C5'}\n",
            "T14 : {'C2'}\n",
            "T15 : {'C1', 'C4', 'C3'}\n",
            "T16 : {'C2', 'C3'}\n",
            "T17 : {'C4', 'C3'}\n",
            "T18 : set()\n",
            "T19 : {'C1', 'C5', 'C3'}\n",
            "T20 : {'C1', 'C5'}\n"
          ]
        }
      ]
    },
    {
      "cell_type": "code",
      "source": [
        "i = 1\n",
        "lk = defaultdict()\n",
        "lks = []\n",
        "while(1):\n",
        "  if i==1: \n",
        "    ck = generate_candidate_set1()\n",
        "  else:\n",
        "    if len(lk)>1:\n",
        "      ck = generate_candidate_set1(lk, i)\n",
        "    else:\n",
        "      break\n",
        "  lk = generate_lk(ck)\n",
        "  lks.append(dict(lk))\n",
        "  i += 1"
      ],
      "metadata": {
        "id": "R-7CYXaCwcCh"
      },
      "execution_count": 98,
      "outputs": []
    },
    {
      "cell_type": "code",
      "source": [
        "print_lks(lks)"
      ],
      "metadata": {
        "id": "byX84D_VxAch",
        "outputId": "d0f8ad8c-ffef-4493-90d4-15d67ffdd772",
        "colab": {
          "base_uri": "https://localhost:8080/"
        }
      },
      "execution_count": 99,
      "outputs": [
        {
          "output_type": "stream",
          "name": "stdout",
          "text": [
            "Frequent itemsets are:\n",
            "L1 :\n",
            "\n"
          ]
        }
      ]
    },
    {
      "cell_type": "code",
      "source": [
        "association_rules = []\n",
        "for lk in lks:\n",
        "  for itemset in lk.keys():\n",
        "    if len(itemset)>1:\n",
        "      association_rules.extend(get_rules_itemset(itemset, lk[itemset], confidence_threshold))\n",
        "\n",
        "print('Association rules which satisfy threshold confidence')\n",
        "for rule in association_rules:\n",
        "  print(rule[0],'=> ',rule[1], rule[2])\n",
        "\n",
        "print('\\nTotal no. of associations:',len(association_rules))"
      ],
      "metadata": {
        "id": "E2WDuOjsxDly",
        "outputId": "f27b6bf8-0110-4d9e-84af-e85de0ef592c",
        "colab": {
          "base_uri": "https://localhost:8080/"
        }
      },
      "execution_count": 100,
      "outputs": [
        {
          "output_type": "stream",
          "name": "stdout",
          "text": [
            "Association rules which satisfy threshold confidence\n",
            "\n",
            "Total no. of associations: 0\n"
          ]
        }
      ]
    },
    {
      "cell_type": "code",
      "source": [
        "#Varying the support and confidence thresholds\n",
        "n = 20\n",
        "support_threshold = 0.2\n",
        "confidence_threshold = 0.5\n",
        "support_val = 4\n",
        "\n",
        "i = 1\n",
        "lk = defaultdict()\n",
        "lks = []\n",
        "while(1):\n",
        "  if i==1: \n",
        "    ck = generate_candidate_set1()\n",
        "  else:\n",
        "    if len(lk)>1:\n",
        "      ck = generate_candidate_setk(lk, i)\n",
        "    else:\n",
        "      break\n",
        "  lk = generate_lk(ck)\n",
        "  lks.append(dict(lk))\n",
        "  i += 1\n",
        "\n",
        "print_lks(lks)\n",
        "\n",
        "association_rules = []\n",
        "for lk in lks:\n",
        "  for itemset in lk.keys():\n",
        "    if len(itemset)>1:\n",
        "      association_rules.extend(get_rules_itemset(itemset, lk[itemset], confidence_threshold))\n",
        "\n",
        "print('Association rules which satisfy threshold confidence')\n",
        "for rule in association_rules:\n",
        "  print(rule[0],'=> ',rule[1], rule[2])\n",
        "\n",
        "print('\\nTotal no. of associations:',len(association_rules))"
      ],
      "metadata": {
        "id": "w6WWZhnDxERf",
        "colab": {
          "base_uri": "https://localhost:8080/"
        },
        "outputId": "ae802d7c-f694-4d04-8aca-7d818ec04c1b"
      },
      "execution_count": 101,
      "outputs": [
        {
          "output_type": "stream",
          "name": "stdout",
          "text": [
            "Frequent itemsets are:\n",
            "L1 :\n",
            "('C4',) : 6\n",
            "('C3',) : 9\n",
            "('C1',) : 8\n",
            "('C5',) : 6\n",
            "('C2',) : 5\n",
            "\n",
            "L2 :\n",
            "('C3', 'C4') : 4\n",
            "('C1', 'C3') : 4\n",
            "('C1', 'C5') : 6\n",
            "\n",
            "L3 :\n",
            "\n",
            "Association rules which satisfy threshold confidence\n",
            "{'C4'} =>  {'C3'} 0.6666666666666666\n",
            "{'C1'} =>  {'C3'} 0.5\n",
            "{'C1'} =>  {'C5'} 0.75\n",
            "{'C5'} =>  {'C1'} 1.0\n",
            "\n",
            "Total no. of associations: 4\n"
          ]
        }
      ]
    },
    {
      "cell_type": "code",
      "source": [],
      "metadata": {
        "id": "HFqaZqGou1D7"
      },
      "execution_count": 101,
      "outputs": []
    }
  ]
}