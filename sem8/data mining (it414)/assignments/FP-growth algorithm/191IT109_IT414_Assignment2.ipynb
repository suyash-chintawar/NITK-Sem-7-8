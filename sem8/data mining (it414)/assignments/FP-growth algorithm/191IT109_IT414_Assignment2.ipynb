{
  "nbformat": 4,
  "nbformat_minor": 0,
  "metadata": {
    "colab": {
      "provenance": []
    },
    "kernelspec": {
      "name": "python3",
      "display_name": "Python 3"
    },
    "language_info": {
      "name": "python"
    }
  },
  "cells": [
    {
      "cell_type": "code",
      "execution_count": 184,
      "metadata": {
        "id": "duLofDJD5Cmz"
      },
      "outputs": [],
      "source": [
        "import copy\n",
        "import math\n",
        "import gdown\n",
        "import numpy as np\n",
        "import pandas as pd\n",
        "from collections import defaultdict\n",
        "from itertools import chain, combinations"
      ]
    },
    {
      "cell_type": "code",
      "source": [
        "def def_value():\n",
        "    return 0"
      ],
      "metadata": {
        "id": "aSj-biBy_aVt"
      },
      "execution_count": 185,
      "outputs": []
    },
    {
      "cell_type": "code",
      "source": [
        "def generate_candidate_set1(data):\n",
        "  count = defaultdict(def_value)\n",
        "  for row in data.keys():\n",
        "    for item in data[row]:\n",
        "      count[tuple([item])] += 1\n",
        "\n",
        "  for item in list(count.keys()):\n",
        "    if count[item]/n < support_threshold:\n",
        "      del count[item]\n",
        "\n",
        "  dict(count)\n",
        "  return count"
      ],
      "metadata": {
        "id": "3eTQGoMNFujB"
      },
      "execution_count": 186,
      "outputs": []
    },
    {
      "cell_type": "code",
      "source": [
        "def generate_ordered_itemsets(c1, data):\n",
        "\n",
        "  freq_items = []\n",
        "  for item in c1.keys():\n",
        "    freq_items.append([c1[item], list(item)[0]])\n",
        "  freq_items.sort(reverse=True)\n",
        "  freq_items_1 = []\n",
        "  prev=-1\n",
        "  grp=[]\n",
        "  for i in range(len(freq_items)):\n",
        "    if freq_items[i][0]!=prev:\n",
        "      grp.sort()\n",
        "      freq_items_1.extend(grp)\n",
        "      grp=[]\n",
        "      grp.append(freq_items[i][1])\n",
        "      prev = freq_items[i][0]\n",
        "    else:\n",
        "      grp.append(freq_items[i][1])\n",
        "  grp.sort()\n",
        "  freq_items_1.extend(grp)\n",
        "\n",
        "  for key in data.keys():\n",
        "    ordered_items = []\n",
        "    for val in freq_items_1:\n",
        "      if val in data[key]:\n",
        "        ordered_items.append(val)\n",
        "    \n",
        "    data[key] = ordered_items\n",
        "\n",
        "  return data, freq_items_1"
      ],
      "metadata": {
        "id": "ByZ2bi-4F4L0"
      },
      "execution_count": 187,
      "outputs": []
    },
    {
      "cell_type": "code",
      "source": [
        "def generate_trie(data):\n",
        "  # print(data)\n",
        "  trie = []\n",
        "  for key in data.keys():\n",
        "    for i in range(len(data[key])):\n",
        "      if len(trie) == i:\n",
        "        trie.append({\n",
        "            data[key][i]:\n",
        "            { \n",
        "                'supports': {\n",
        "                    key\n",
        "                },\n",
        "                'next':[]\n",
        "            }\n",
        "        })\n",
        "      else:\n",
        "        if data[key][i] not in trie[i].keys():\n",
        "          trie[i][data[key][i]] = {\n",
        "              'supports':{\n",
        "                  key\n",
        "              },\n",
        "              'next':[]\n",
        "          }\n",
        "        else:\n",
        "          trie[i][data[key][i]]['supports'].add(key)\n",
        "      if i!=0 and data[key][i] not in trie[i-1][data[key][i-1]]['next']:\n",
        "          trie[i-1][data[key][i-1]]['next'].append(data[key][i])\n",
        "  return trie"
      ],
      "metadata": {
        "id": "0b4R6-yjIWAQ"
      },
      "execution_count": 188,
      "outputs": []
    },
    {
      "cell_type": "code",
      "source": [
        "def default_val():\n",
        "  return list()\n",
        "\n",
        "def recur(trie, i, prev_path, cond_pattern_base, item):\n",
        "  if i < len(trie):\n",
        "    path = copy.deepcopy(prev_path)\n",
        "    path.append(item)\n",
        "    for next_item in trie[i][item]['next']:\n",
        "      common = {}\n",
        "      for j in range(len(path)):\n",
        "        if len(common)<1:\n",
        "          common = copy.deepcopy(set(trie[j][path[j]]['supports']))\n",
        "        else:\n",
        "          common = common.intersection(set(trie[j][path[j]]['supports']))\n",
        "      common = common.intersection(set(trie[i+1][next_item]['supports']))\n",
        "      new_support = len(list(common))\n",
        "      if new_support == 0:\n",
        "        continue\n",
        "      cond_pattern_base[next_item].append([path,new_support])\n",
        "      recur(trie, i+1, path, cond_pattern_base, next_item)\n",
        "\n",
        "def generate_cond_pattern_base(trie):\n",
        "  cond_pattern_base = defaultdict(default_val)\n",
        "  if len(trie) > 0:\n",
        "  # print(trie)\n",
        "    for key in trie[0].keys():\n",
        "      recur(trie, 0, [], cond_pattern_base, key)\n",
        "  return cond_pattern_base"
      ],
      "metadata": {
        "id": "IRF-QAuKdV5n"
      },
      "execution_count": 189,
      "outputs": []
    },
    {
      "cell_type": "code",
      "source": [
        "def powerset(iterable):\n",
        "    s = list(iterable)\n",
        "    return chain.from_iterable(combinations(s, r) for r in range(len(s)+1))\n",
        "\n",
        "def get_rules_itemset(itemset, freq, confidence, data):\n",
        "  rules = []\n",
        "  for subset in list(powerset(itemset)):\n",
        "    subset = set(subset)\n",
        "    if len(subset)>0 and len(subset) != len(list(itemset)):\n",
        "      count = 0\n",
        "      for row in data.keys():\n",
        "        flag = True\n",
        "        for item in list(subset):\n",
        "          if item not in data[row]:\n",
        "            flag = False\n",
        "            break\n",
        "        if flag:\n",
        "          count += 1\n",
        "      # print(subset, count)\n",
        "      if count == 0 or count<freq:\n",
        "        continue\n",
        "      cal_conf = freq / count\n",
        "      if cal_conf >= confidence:\n",
        "        rules.append([set(subset),set(itemset)-set(subset),cal_conf])\n",
        "  return rules"
      ],
      "metadata": {
        "id": "HsHdRSgf4dBy"
      },
      "execution_count": 190,
      "outputs": []
    },
    {
      "cell_type": "code",
      "source": [
        "def generator(prefix, cond_pattern_base, data, frequent_patterns):\n",
        "  c1 = generate_candidate_set1(data)\n",
        "  data, c1_keys = generate_ordered_itemsets(c1,data)\n",
        "  trie = generate_trie(data)\n",
        "  cond_pattern_base = generate_cond_pattern_base(trie)\n",
        "\n",
        "  for item in c1_keys:\n",
        "\n",
        "    extended_prefix = copy.deepcopy(prefix)\n",
        "    extended_prefix.extend([item])  \n",
        "    flag = True\n",
        "    for i in range(len(frequent_patterns)):\n",
        "      if set(frequent_patterns[i][0]) == set(extended_prefix):\n",
        "        flag = False\n",
        "        break\n",
        "    if flag:\n",
        "      frequent_patterns.append([list(set(extended_prefix)),c1[tuple([item])]])\n",
        "\n",
        "  if len(cond_pattern_base.keys()) < 1:\n",
        "    return\n",
        "  \n",
        "  \n",
        "  for key in cond_pattern_base.keys():\n",
        "    prefix.append(key)\n",
        "    \n",
        "    data = dict()\n",
        "    counter = 0\n",
        "    for itemset in cond_pattern_base[key]:\n",
        "      for i in range(itemset[1]):\n",
        "        data['T'+str(counter)] = set(itemset[0])\n",
        "        counter += 1\n",
        "   \n",
        "    generator(prefix, copy.deepcopy(cond_pattern_base), data, frequent_patterns)\n",
        "  "
      ],
      "metadata": {
        "id": "IlFSlBcUCIZu"
      },
      "execution_count": 191,
      "outputs": []
    },
    {
      "cell_type": "markdown",
      "source": [
        "### Dataset 1 - AllElectronics.xlsx"
      ],
      "metadata": {
        "id": "Auwv7E7zYJmW"
      }
    },
    {
      "cell_type": "code",
      "source": [
        "gdown.download(url='https://drive.google.com/file/d/1W80CsLSTFUt6RhXoL4Bxcr7DNDbtDh0Z/view?usp=sharing', output='dataset1.csv', quiet=False, fuzzy=True)"
      ],
      "metadata": {
        "colab": {
          "base_uri": "https://localhost:8080/",
          "height": 105
        },
        "id": "cKN-5sNzTbsj",
        "outputId": "b5e18230-3f00-4c96-e6cc-b29f47c5af51"
      },
      "execution_count": 192,
      "outputs": [
        {
          "output_type": "stream",
          "name": "stderr",
          "text": [
            "Downloading...\n",
            "From: https://drive.google.com/uc?id=1W80CsLSTFUt6RhXoL4Bxcr7DNDbtDh0Z\n",
            "To: /content/dataset1.csv\n",
            "100%|██████████| 89.0/89.0 [00:00<00:00, 131kB/s]\n"
          ]
        },
        {
          "output_type": "execute_result",
          "data": {
            "text/plain": [
              "'dataset1.csv'"
            ],
            "application/vnd.google.colaboratory.intrinsic+json": {
              "type": "string"
            }
          },
          "metadata": {},
          "execution_count": 192
        }
      ]
    },
    {
      "cell_type": "code",
      "source": [
        "def default_set():\n",
        "  return set()\n",
        "\n",
        "df = pd.read_csv('dataset1.csv',header=None)\n",
        "\n",
        "data = defaultdict(default_set)\n",
        "\n",
        "for i in range(len(df)):\n",
        "  row = 'T' + str(i)\n",
        "  for j in range(len(df.iloc[i])):\n",
        "    if df.iloc[i][j] is not np.nan:\n",
        "      data[row].add(df.iloc[i][j])\n",
        "\n",
        "print(data)"
      ],
      "metadata": {
        "id": "9--l02jEUm-k",
        "colab": {
          "base_uri": "https://localhost:8080/"
        },
        "outputId": "4228406b-608c-46e6-ff7b-8a52c4d9faf5"
      },
      "execution_count": 193,
      "outputs": [
        {
          "output_type": "stream",
          "name": "stdout",
          "text": [
            "defaultdict(<function default_set at 0x7f01dbdfa4c0>, {'T0': {'I5', 'I1', 'I2'}, 'T1': {'I4', 'I2'}, 'T2': {'I3', 'I2'}, 'T3': {'I4', 'I1', 'I2'}, 'T4': {'I3', 'I1'}, 'T5': {'I3', 'I2'}, 'T6': {'I3', 'I1'}, 'T7': {'I5', 'I3', 'I1', 'I2'}, 'T8': {'I3', 'I1', 'I2'}})\n"
          ]
        }
      ]
    },
    {
      "cell_type": "code",
      "source": [
        "data_copy = copy.deepcopy(data)\n",
        "\n",
        "n = 9\n",
        "support_threshold = 2/9\n",
        "confidence_threshold = 0.7\n",
        "support_val = 2\n",
        "confidence_val = 0.7*9"
      ],
      "metadata": {
        "id": "ilrzWxd6eonu"
      },
      "execution_count": 194,
      "outputs": []
    },
    {
      "cell_type": "code",
      "source": [
        "frequent_patterns = []\n",
        "\n",
        "c1 = generate_candidate_set1(data)\n",
        "\n",
        "data, c1_keys = generate_ordered_itemsets(c1,data)\n",
        "\n",
        "trie = generate_trie(data)\n",
        "\n",
        "for key in c1_keys:\n",
        "  frequent_patterns.append([[key],c1[tuple([key])]])\n",
        "\n",
        "cond_pattern_base = generate_cond_pattern_base(trie)\n",
        "\n",
        "for key in cond_pattern_base.keys():\n",
        "  data = dict()\n",
        "  prefix = [key]\n",
        "  counter = 0\n",
        "  for itemset in cond_pattern_base[key]:\n",
        "    for i in range(itemset[1]):\n",
        "      data['T'+str(counter)] = set(itemset[0])\n",
        "      counter += 1\n",
        "  \n",
        "  generator(prefix, cond_pattern_base, data, frequent_patterns)\n",
        "  "
      ],
      "metadata": {
        "id": "dMZIv8NOyqau"
      },
      "execution_count": 195,
      "outputs": []
    },
    {
      "cell_type": "code",
      "source": [
        "print('No. of freq itemsets:',len(frequent_patterns))\n",
        "for i in range(len(frequent_patterns)):\n",
        "  print(frequent_patterns[i][0],'=>', frequent_patterns[i][1])"
      ],
      "metadata": {
        "colab": {
          "base_uri": "https://localhost:8080/"
        },
        "id": "iLYMybq-I1Aa",
        "outputId": "395be63e-35fd-43fb-d5f3-23c963950139"
      },
      "execution_count": 196,
      "outputs": [
        {
          "output_type": "stream",
          "name": "stdout",
          "text": [
            "No. of freq itemsets: 13\n",
            "['I2'] => 7\n",
            "['I1'] => 6\n",
            "['I3'] => 6\n",
            "['I4'] => 2\n",
            "['I5'] => 2\n",
            "['I1', 'I2'] => 4\n",
            "['I5', 'I1'] => 2\n",
            "['I5', 'I2'] => 2\n",
            "['I5', 'I1', 'I2'] => 2\n",
            "['I4', 'I2'] => 2\n",
            "['I3', 'I1'] => 4\n",
            "['I3', 'I2'] => 4\n",
            "['I3', 'I1', 'I2'] => 2\n"
          ]
        }
      ]
    },
    {
      "cell_type": "code",
      "source": [
        "print('Frequent itemsets of length 3:')\n",
        "freq = [frequent_patterns[i] for i in range(len(frequent_patterns)) if len(frequent_patterns[i][0])==3]\n",
        "for i in range(len(freq)):\n",
        "  print(freq[i][0],'=>', freq[i][1])"
      ],
      "metadata": {
        "colab": {
          "base_uri": "https://localhost:8080/"
        },
        "id": "EwsuwenuDtdK",
        "outputId": "97153c06-92bd-432c-9d0b-3d55a6e2e90b"
      },
      "execution_count": 197,
      "outputs": [
        {
          "output_type": "stream",
          "name": "stdout",
          "text": [
            "Frequent itemsets of length 3:\n",
            "['I5', 'I1', 'I2'] => 2\n",
            "['I3', 'I1', 'I2'] => 2\n"
          ]
        }
      ]
    },
    {
      "cell_type": "code",
      "source": [
        "# print(frequent_patterns)\n",
        "req_len = 3\n",
        "\n",
        "association_rules = []\n",
        "for i in range(len(frequent_patterns)):\n",
        "  if len(frequent_patterns[i][0])>1 and len(frequent_patterns[i][0])==req_len:\n",
        "    association_rules.extend(get_rules_itemset(frequent_patterns[i][0], frequent_patterns[i][1], confidence_threshold, data_copy))\n",
        "\n",
        "print('\\nAssociation rules which satisfy threshold confidence')\n",
        "for rule in association_rules:\n",
        "  print(rule[0],'=> ',rule[1], rule[2])\n",
        "\n",
        "print('\\nTotal no. of associations:',len(association_rules))"
      ],
      "metadata": {
        "id": "bnmeqFGA_j_f",
        "colab": {
          "base_uri": "https://localhost:8080/"
        },
        "outputId": "47a12554-5234-438f-d524-cac517e1fa04"
      },
      "execution_count": 198,
      "outputs": [
        {
          "output_type": "stream",
          "name": "stdout",
          "text": [
            "\n",
            "Association rules which satisfy threshold confidence\n",
            "{'I5'} =>  {'I1', 'I2'} 1.0\n",
            "{'I5', 'I1'} =>  {'I2'} 1.0\n",
            "{'I5', 'I2'} =>  {'I1'} 1.0\n",
            "\n",
            "Total no. of associations: 3\n"
          ]
        }
      ]
    },
    {
      "cell_type": "markdown",
      "source": [
        "### Dataset 2: Goods dataset"
      ],
      "metadata": {
        "id": "lnrIR5najWYq"
      }
    },
    {
      "cell_type": "code",
      "source": [
        "gdown.download(url='https://drive.google.com/file/d/15mfojAjnVzbz2ACwbRO1Q58ZqHekeZCu/view?usp=sharing', output='dataset2.csv', quiet=False, fuzzy=True)"
      ],
      "metadata": {
        "colab": {
          "base_uri": "https://localhost:8080/",
          "height": 105
        },
        "id": "CGYOt529kmoY",
        "outputId": "4f78ae7d-cd05-4806-cb85-3b92d345a7bb"
      },
      "execution_count": 199,
      "outputs": [
        {
          "output_type": "stream",
          "name": "stderr",
          "text": [
            "Downloading...\n",
            "From: https://drive.google.com/uc?id=15mfojAjnVzbz2ACwbRO1Q58ZqHekeZCu\n",
            "To: /content/dataset2.csv\n",
            "100%|██████████| 9.96M/9.96M [00:00<00:00, 166MB/s]\n"
          ]
        },
        {
          "output_type": "execute_result",
          "data": {
            "text/plain": [
              "'dataset2.csv'"
            ],
            "application/vnd.google.colaboratory.intrinsic+json": {
              "type": "string"
            }
          },
          "metadata": {},
          "execution_count": 199
        }
      ]
    },
    {
      "cell_type": "code",
      "source": [
        "df = pd.read_csv('dataset2.csv')\n",
        "\n",
        "data = defaultdict(default_set)\n",
        "\n",
        "for i in range(100):\n",
        "  row = 'T' + str(i)\n",
        "  for j in range(len(df.iloc[i])):\n",
        "    if not math.isnan(df.iloc[i][j]):\n",
        "      data[row].add(str(int(df.iloc[i][j])))\n",
        "\n",
        "print(data)"
      ],
      "metadata": {
        "colab": {
          "base_uri": "https://localhost:8080/"
        },
        "id": "r-jPYFTXks4a",
        "outputId": "2bf51af7-47d5-4b44-b30c-524265503517"
      },
      "execution_count": 200,
      "outputs": [
        {
          "output_type": "stream",
          "name": "stdout",
          "text": [
            "defaultdict(<function default_set at 0x7f01dbdfa4c0>, {'T0': {'32', '31', '30'}, 'T1': {'34', '35', '33'}, 'T2': {'44', '46', '45', '38', '40', '39', '41', '37', '42', '36', '43'}, 'T3': {'47', '48', '39', '38'}, 'T4': {'48', '57', '53', '58', '38', '49', '39', '56', '55', '54', '52', '51', '50'}, 'T5': {'60', '41', '62', '32', '59', '61'}, 'T6': {'48', '39', '3'}, 'T7': {'63', '64', '67', '66', '65', '68'}, 'T8': {'32', '69'}, 'T9': {'48', '72', '70', '71'}, 'T10': {'79', '77', '39', '73', '74', '76', '78', '75'}, 'T11': {'79', '48', '80', '38', '41', '39', '36', '81'}, 'T12': {'83', '84', '82'}, 'T13': {'85', '86', '41', '87', '88'}, 'T14': {'48', '89', '91', '94', '39', '95', '100', '98', '93', '90', '96', '99', '101', '97', '92'}, 'T15': {'48', '89', '38', '39', '36'}, 'T16': {'106', '105', '41', '104', '39', '103', '107', '108', '102'}, 'T17': {'110', '38', '41', '39', '109'}, 'T18': {'116', '112', '111', '113', '39', '117', '114', '115', '118'}, 'T19': {'132', '120', '130', '125', '127', '131', '124', '129', '133', '126', '121', '123', '122', '128', '119'}, 'T20': {'48', '135', '134', '136'}, 'T21': {'48', '137', '142', '147', '145', '139', '146', '39', '141', '148', '144', '138', '140', '143', '149'}, 'T22': {'151', '39', '152', '150'}, 'T23': {'154', '38', '39', '56', '153', '155'}, 'T24': {'48', '156', '160', '159', '157', '158'}, 'T25': {'41', '39', '48'}, 'T26': {'162', '164', '167', '165', '161', '163', '166'}, 'T27': {'170', '48', '168', '172', '38', '39', '173', '171', '169'}, 'T28': {'48', '176', '178', '41', '39', '32', '174', '177', '175'}, 'T29': {'47', '48', '179', '183', '38', '39', '181', '32', '180', '182'}, 'T30': {'184', '39', '185', '186'}, 'T31': {'188', '48', '38', '41', '187', '36', '140'}, 'T32': {'48', '200', '189', '191', '186', '198', '193', '39', '194', '199', '196', '195', '197', '192', '190'}, 'T33': {'203', '205', '204', '208', '207', '39', '201', '206', '202', '209'}, 'T34': {'215', '193', '39', '213', '212', '214', '65', '211', '210'}, 'T35': {'217', '179', '224', '216', '220', '223', '219', '218', '221', '222'}, 'T36': {'226', '225', '227'}, 'T37': {'228', '48', '231', '41', '39', '229', '230'}, 'T38': {'240', '236', '241', '38', '233', '234', '235', '39', '239', '232', '242', '238', '237', '36'}, 'T39': {'245', '243', '39', '244'}, 'T40': {'48', '247', '250', '41', '39', '248', '249', '246'}, 'T41': {'48', '39', '251', '65', '253', '252'}, 'T42': {'254', '48', '230'}, 'T43': {'261', '48', '258', '260', '39', '66', '78', '242', '255', '256', '257', '259'}, 'T44': {'48', '39', '262'}, 'T45': {'263', '264', '267', '38', '39', '265', '36', '225', '266'}, 'T46': {'271', '268', '269', '39', '270', '242'}, 'T47': {'79', '48', '273', '146', '39', '272', '237', '256'}, 'T48': {'274'}, 'T49': {'276', '48', '281', '280', '279', '38', '39', '282', '32', '278', '275', '283', '277'}, 'T50': {'48', '39', '68'}, 'T51': {'48', '105', '38', '39', '95', '287', '285', '286', '96', '284'}, 'T52': {'48', '292', '294', '298', '299', '289', '288', '41', '39', '297', '293', '212', '295', '296', '291', '290'}, 'T53': {'301', '302', '300'}, 'T54': {'303', '105', '319', '308', '312', '38', '311', '310', '314', '36', '317', '307', '315', '304', '318', '320', '321', '305', '39', '313', '316', '306', '309'}, 'T55': {'327', '326', '322', '324', '323', '10', '325'}, 'T56': {'48', '39', '328', '161', '152'}, 'T57': {'329', '39', '330'}, 'T58': {'48', '337', '331', '336', '332', '333', '339', '334', '338', '335'}, 'T59': {'48', '147', '340', '38', '18', '344', '345', '41', '343', '37', '347', '346', '341', '342'}, 'T60': {'48', '350', '348', '41', '39', '32', '349'}, 'T61': {'48', '353', '354', '360', '362', '364', '351', '352', '361', '358', '359', '357', '355', '363', '356'}, 'T62': {'365', '366'}, 'T63': {'48', '60', '38', '368', '370', '374', '41', '39', '367', '373', '371', '375', '369', '372'}, 'T64': {'48', '89', '376', '1', '11', '385', '41', '39', '378', '384', '377', '379', '65', '381', '383', '380', '382'}, 'T65': {'387', '388', '389', '386'}, 'T66': {'390', '41', '38'}, 'T67': {'391', '55', '38'}, 'T68': {'397', '392', '393', '258', '151', '340', '395', '396', '32', '398', '201', '394', '399', '43', '152'}, 'T69': {'401', '400', '404', '403', '402', '338'}, 'T70': {'406', '39', '405', '407'}, 'T71': {'418', '258', '411', '422', '415', '48', '416', '186', '419', '412', '408', '101', '409', '340', '421', '89', '414', '420', '413', '179', '410', '417'}, 'T72': {'48', '45', '39', '425', '248', '423', '424', '426'}, 'T73': {'428', '344', '141', '430', '429', '431', '427'}, 'T74': {'432', '39', '433', '434'}, 'T75': {'435', '48', '437', '436', '39', '438', '65'}, 'T76': {'337', '439', '291', '443', '48', '38', '331', '15', '440', '36', '390', '229', '449', '448', '441', '123', '447', '446', '445', '23', '442', '444', '450'}, 'T77': {'48', '452', '451', '459', '460', '458', '455', '454', '456', '457', '453'}, 'T78': {'48', '467', '147', '38', '462', '466', '464', '463', '468', '470', '471', '174', '37', '461', '465', '469'}, 'T79': {'48', '473', '475', '472', '474', '39'}, 'T80': {'41', '39', '476'}, 'T81': {'479', '477', '478'}, 'T82': {'485', '481', '483', '39', '484', '486', '482', '161', '480'}, 'T83': {'48', '41', '39', '396', '32', '237', '152'}, 'T84': {'110', '105', '38', '487', '41', '39'}, 'T85': {'60', '381'}, 'T86': {'48', '489', '11', '496', '498', '39', '491', '500', '488', '499', '497', '494', '255', '493', '492', '495', '490'}, 'T87': {'39'}, 'T88': {'110', '41', '501'}, 'T89': {'170', '48', '38', '502', '178', '39', '503', '32'}, 'T90': {'504', '41', '38'}, 'T91': {'507', '508', '509', '511', '232', '505', '506', '347', '515', '512', '225', '513', '510', '514'}, 'T92': {'170', '48', '189', '38', '41', '39', '270', '516', '225'}, 'T93': {'48', '39'}, 'T94': {'281', '39', '517', '38'}, 'T95': {'519', '520', '518', '2'}, 'T96': {'522', '310', '521'}, 'T97': {'41', '523', '524'}, 'T98': {'48', '416', '525', '527', '529', '531', '522', '530', '310', '521', '528', '526'}, 'T99': {'110', '39', '532', '38'}})\n"
          ]
        }
      ]
    },
    {
      "cell_type": "code",
      "source": [
        "data_copy = copy.deepcopy(data)\n",
        "\n",
        "n = 100\n",
        "support_threshold = 3/100\n",
        "confidence_threshold = 0.7\n",
        "support_val = 3\n",
        "confidence_val = 0.7*100"
      ],
      "metadata": {
        "id": "_Ofek0H6DRkL"
      },
      "execution_count": 201,
      "outputs": []
    },
    {
      "cell_type": "code",
      "source": [
        "frequent_patterns = []\n",
        "\n",
        "c1 = generate_candidate_set1(data)\n",
        "\n",
        "data, c1_keys = generate_ordered_itemsets(c1,data)\n",
        "\n",
        "trie = generate_trie(data)\n",
        "\n",
        "for key in c1_keys:\n",
        "  frequent_patterns.append([[key],c1[tuple([key])]])\n",
        "\n",
        "cond_pattern_base = generate_cond_pattern_base(trie)\n",
        "\n",
        "for key in cond_pattern_base.keys():\n",
        "  data = dict()\n",
        "  prefix = [key]\n",
        "  counter = 0\n",
        "  for itemset in cond_pattern_base[key]:\n",
        "    for i in range(itemset[1]):\n",
        "      data['T'+str(counter)] = set(itemset[0])\n",
        "      counter += 1\n",
        "  \n",
        "  generator(prefix, cond_pattern_base, data, frequent_patterns)\n",
        "  "
      ],
      "metadata": {
        "id": "7F-VBMa5nA7e"
      },
      "execution_count": 202,
      "outputs": []
    },
    {
      "cell_type": "code",
      "source": [
        "print('No. of freq itemsets:',len(frequent_patterns))\n",
        "for i in range(len(frequent_patterns)):\n",
        "  print(frequent_patterns[i][0],'=>', frequent_patterns[i][1])"
      ],
      "metadata": {
        "colab": {
          "base_uri": "https://localhost:8080/"
        },
        "id": "1uiSXSH3IeO0",
        "outputId": "25943092-a2f8-4865-ac8d-b7b015d459ae"
      },
      "execution_count": 203,
      "outputs": [
        {
          "output_type": "stream",
          "name": "stdout",
          "text": [
            "No. of freq itemsets: 76\n",
            "['39'] => 58\n",
            "['48'] => 47\n",
            "['38'] => 27\n",
            "['41'] => 24\n",
            "['32'] => 10\n",
            "['36'] => 8\n",
            "['65'] => 5\n",
            "['105'] => 4\n",
            "['110'] => 4\n",
            "['152'] => 4\n",
            "['225'] => 4\n",
            "['89'] => 4\n",
            "['147'] => 3\n",
            "['161'] => 3\n",
            "['170'] => 3\n",
            "['179'] => 3\n",
            "['186'] => 3\n",
            "['237'] => 3\n",
            "['242'] => 3\n",
            "['258'] => 3\n",
            "['310'] => 3\n",
            "['340'] => 3\n",
            "['37'] => 3\n",
            "['60'] => 3\n",
            "['79'] => 3\n",
            "['39', '152'] => 3\n",
            "['39', '38'] => 20\n",
            "['48', '38'] => 15\n",
            "['48', '39', '38'] => 11\n",
            "['41', '39'] => 16\n",
            "['48', '41'] => 13\n",
            "['41', '38'] => 10\n",
            "['41', '39', '38'] => 6\n",
            "['48', '41', '38'] => 5\n",
            "['48', '41', '39', '38'] => 3\n",
            "['36', '38'] => 8\n",
            "['36', '39'] => 6\n",
            "['36', '48'] => 4\n",
            "['36', '41'] => 3\n",
            "['36', '39', '38'] => 6\n",
            "['36', '41', '39', '38'] => 3\n",
            "['48', '38', '41', '39', '36'] => 4\n",
            "['37', '38'] => 3\n",
            "['110', '38'] => 3\n",
            "['110', '39'] => 3\n",
            "['110', '41'] => 3\n",
            "['110', '39', '38'] => 3\n",
            "['105', '39'] => 4\n",
            "['105', '38'] => 3\n",
            "['105', '39', '38'] => 3\n",
            "['39', '237'] => 3\n",
            "['39', '242'] => 3\n",
            "['48', '39'] => 34\n",
            "['79', '39'] => 3\n",
            "['170', '38'] => 3\n",
            "['170', '39'] => 3\n",
            "['170', '48'] => 3\n",
            "['170', '39', '38'] => 3\n",
            "['170', '48', '39', '38'] => 3\n",
            "['170', '48', '39'] => 3\n",
            "['89', '48'] => 4\n",
            "['89', '39'] => 3\n",
            "['89', '39', '48'] => 3\n",
            "['32', '39'] => 6\n",
            "['32', '48'] => 6\n",
            "['32', '41'] => 4\n",
            "['32', '38'] => 3\n",
            "['32', '48', '39'] => 6\n",
            "['32', '48', '39', '38'] => 3\n",
            "['32', '48', '38'] => 3\n",
            "['48', '38', '41', '39', '32'] => 3\n",
            "['32', '48', '41', '38'] => 3\n",
            "['48', '147'] => 3\n",
            "['39', '65'] => 4\n",
            "['48', '65'] => 3\n",
            "['48', '39', '65'] => 3\n"
          ]
        }
      ]
    },
    {
      "cell_type": "code",
      "source": [
        "print('Frequent itemsets of length 4:')\n",
        "freq = [frequent_patterns[i] for i in range(len(frequent_patterns)) if len(frequent_patterns[i][0])==4]\n",
        "for i in range(len(freq)):\n",
        "  print(freq[i][0],'=>', freq[i][1])"
      ],
      "metadata": {
        "colab": {
          "base_uri": "https://localhost:8080/"
        },
        "id": "gmL3SOhon49C",
        "outputId": "04227aae-9cdd-42af-83c9-6af1aeaf9def"
      },
      "execution_count": 205,
      "outputs": [
        {
          "output_type": "stream",
          "name": "stdout",
          "text": [
            "Frequent itemsets of length 4:\n",
            "['48', '41', '39', '38'] => 3\n",
            "['36', '41', '39', '38'] => 3\n",
            "['170', '48', '39', '38'] => 3\n",
            "['32', '48', '39', '38'] => 3\n",
            "['32', '48', '41', '38'] => 3\n"
          ]
        }
      ]
    },
    {
      "cell_type": "code",
      "source": [
        "# print(frequent_patterns)\n",
        "req_len = 4\n",
        "\n",
        "association_rules = []\n",
        "for i in range(len(frequent_patterns)):\n",
        "  if len(frequent_patterns[i][0])>1 and len(frequent_patterns[i][0])==req_len:\n",
        "    # print(frequent_patterns[i][0],frequent_patterns[i][1])\n",
        "    association_rules.extend(get_rules_itemset(frequent_patterns[i][0], frequent_patterns[i][1], confidence_threshold, data_copy))\n",
        "\n",
        "print('\\nAssociation rules which satisfy threshold confidence')\n",
        "for rule in association_rules:\n",
        "  print(rule[0],'=> ',rule[1], rule[2])\n",
        "\n",
        "print('\\nTotal no. of associations:',len(association_rules))"
      ],
      "metadata": {
        "colab": {
          "base_uri": "https://localhost:8080/"
        },
        "id": "RfVzmqc8nX8d",
        "outputId": "8e152dee-c314-408a-a290-c41237fb7d1f"
      },
      "execution_count": 206,
      "outputs": [
        {
          "output_type": "stream",
          "name": "stdout",
          "text": [
            "\n",
            "Association rules which satisfy threshold confidence\n",
            "{'36', '41'} =>  {'39', '38'} 1.0\n",
            "{'36', '41', '38'} =>  {'39'} 1.0\n",
            "{'170'} =>  {'48', '39', '38'} 1.0\n",
            "{'170', '48'} =>  {'39', '38'} 1.0\n",
            "{'170', '39'} =>  {'48', '38'} 1.0\n",
            "{'170', '38'} =>  {'48', '39'} 1.0\n",
            "{'170', '48', '39'} =>  {'38'} 1.0\n",
            "{'170', '48', '38'} =>  {'39'} 1.0\n",
            "{'170', '39', '38'} =>  {'48'} 1.0\n",
            "{'32', '38'} =>  {'48', '39'} 1.0\n",
            "{'32', '48', '38'} =>  {'39'} 1.0\n",
            "{'32', '39', '38'} =>  {'48'} 1.0\n",
            "{'32', '41'} =>  {'48', '38'} 0.75\n",
            "{'32', '38'} =>  {'48', '41'} 1.0\n",
            "{'32', '48', '41'} =>  {'38'} 1.0\n",
            "{'32', '48', '38'} =>  {'41'} 1.0\n",
            "\n",
            "Total no. of associations: 16\n"
          ]
        }
      ]
    },
    {
      "cell_type": "code",
      "source": [],
      "metadata": {
        "id": "z3fK8bKin8eF"
      },
      "execution_count": null,
      "outputs": []
    }
  ]
}